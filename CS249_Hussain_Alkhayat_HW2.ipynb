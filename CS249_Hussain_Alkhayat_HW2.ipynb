{
 "cells": [
  {
   "cell_type": "markdown",
   "id": "61ae425e",
   "metadata": {},
   "source": [
    "# PatternCount"
   ]
  },
  {
   "cell_type": "code",
   "execution_count": 38,
   "id": "0fb20ff2",
   "metadata": {},
   "outputs": [],
   "source": [
    "def PatternCount(Text, Pattern):\n",
    "    index = 0\n",
    "    lenPattern = len(Pattern)\n",
    "    lenText = len(Text)\n",
    "    count = 0\n",
    "    while index + lenPattern <= lenText:\n",
    "        if Text[index:index+lenPattern] == Pattern:\n",
    "            #print(Text[index:index+lenPattern])\n",
    "            count +=1\n",
    "        index +=1\n",
    "    return count"
   ]
  },
  {
   "cell_type": "code",
   "execution_count": 21,
   "id": "7b13533f",
   "metadata": {},
   "outputs": [
    {
     "name": "stdout",
     "output_type": "stream",
     "text": [
      "['GTCTGGGTCTCTGGGTCCCTGGGTCCTGGGTCCTGGGTCCGCTGGGTCGAAGACGCTGGGTCGCGTCTGGGTCTCTGGGTCCGAACTGGGTCCGACTTCCTGGGTCCTGGGTCGACTGGGTCCTGTCTGGGTCATGCTGGGTCCTGGGTCGGCCCTGGGTCCTGGGTCTGCCCTGGGTCCTGGGTCTTCATTCCTGGGTCCTGGGTCCTGGGTCCCGGCTGGGTCTAGTCTGGTCTGGGTCCTGGGTCCGCTGGGTCCTGGGTCCATCTGGGTCACCTGGGTCTCTGGGTCACTACTCCCTGGGTCAGCTGGGTCATCTGGGTCCACTGGGTCCTGGGTCTCCCTGGGTCATCCGGCTGGGTCGACAATGTCCGCTGGGTCTCACCCTGGGTCCAGCTCCTGGGTCCTGGGTCAGGTCTCTGGGTCGACAACATCTGGGTCGTGAAATATCTGGGTCTGGCCTGGGTCCTGGGTCACCTGGGTCTTACTAACTCTGGGTCCCTGGGTCTCTGGGTCCTGGGTCGCTGGGTCGAGCTGGGTCCGGACCTGGGTCATATTAGGAAAGCCTGGGTCCCGGATCGTTGCTGCGCTGGGTCTCCTGGGTCTTAGCTGGGTCCTGGGTCCTGGGTCTAAGAGCTGGGTCCTGGGTCCTGGGTCTTCTGGGTCCCCGGCTGGGTCCAGCTGGGTCCTGGGTCCGTGGTCTGGGTCACTGGGTCCTGGGTCCTGGGTCTCTGGGTCAAATCTGGGTCAAAACTGGGTCCGCCTGGGTCCCTGGGTCAACTGGGTCGGACCTGGGTCCTGGGTCCTGGGTCTCTGGGTCTAGCTAGACTGGGTCCGATCTGGGTCGCTGGGTCCGCCTGGGTCCGCGGCTGGGTCCTGGGTCTCAACCGTCTGGGTCCTGGGTCGCTGGGTCTACGTAGCTGGGTC', 'CTGGGTCCT']\n",
      "CTGGGTCCT\n",
      "CTGGGTCCT\n",
      "CTGGGTCCT\n",
      "CTGGGTCCT\n",
      "CTGGGTCCT\n",
      "CTGGGTCCT\n",
      "CTGGGTCCT\n",
      "CTGGGTCCT\n",
      "CTGGGTCCT\n",
      "CTGGGTCCT\n",
      "CTGGGTCCT\n",
      "CTGGGTCCT\n",
      "CTGGGTCCT\n",
      "CTGGGTCCT\n",
      "CTGGGTCCT\n",
      "CTGGGTCCT\n",
      "CTGGGTCCT\n",
      "CTGGGTCCT\n",
      "CTGGGTCCT\n",
      "CTGGGTCCT\n",
      "CTGGGTCCT\n",
      "CTGGGTCCT\n",
      "CTGGGTCCT\n",
      "CTGGGTCCT\n",
      "CTGGGTCCT\n",
      "CTGGGTCCT\n",
      "26\n"
     ]
    }
   ],
   "source": [
    "txtFile = \"/Users/HussainAlkhayat/Desktop/MS_Fall_2022/CS 249/HW2/dataset_746228_6.txt\"\n",
    "\n",
    "file = open(txtFile, 'r')\n",
    "data = list(file.read().strip().split())\n",
    "print(data)\n",
    "answer = PatternCount(data[0], data[1])\n",
    "print(answer)"
   ]
  },
  {
   "cell_type": "markdown",
   "id": "bd251190",
   "metadata": {},
   "source": [
    "# FrequentWords"
   ]
  },
  {
   "cell_type": "code",
   "execution_count": 72,
   "id": "ff3e9747",
   "metadata": {},
   "outputs": [],
   "source": [
    "def FrequentWords(Text, k):\n",
    "    k = int(k)\n",
    "    kmers = {}\n",
    "\n",
    "    for i in range(len(Text) - k + 1):\n",
    "        tempMer = Text[i:i+k]\n",
    "        if tempMer not in kmers.keys():\n",
    "            kmers[tempMer] = 1\n",
    "        else:\n",
    "            kmers[tempMer] += 1\n",
    "    maxCount = max(kmers.values())\n",
    "    FrequentPatterns = []\n",
    "    for i in kmers.keys():\n",
    "        if kmers[i] == maxCount:\n",
    "            FrequentPatterns.append(i)\n",
    "    return FrequentPatterns"
   ]
  },
  {
   "cell_type": "code",
   "execution_count": 76,
   "id": "a1b0109e",
   "metadata": {},
   "outputs": [
    {
     "name": "stdout",
     "output_type": "stream",
     "text": [
      "['TGCTCTATGTAAAAGCTAGCGCTAGTGTGCTCTATGTAAAAGCTAGTGCTCTATGCGCTAGTGTAGTGTGGGCCTCGCGACTGCGCTAGTGCTCGCGACTGTAGTGTGGGCCTCGCGACTGCTCGCGACTGTAAAAGCTAGCTCGCGACTGTAAAAGCTAGTAAAAGCTAGTGCTCTATGCTCGCGACTGTAAAAGCTAGCGCTAGTGTAGTGTGGGCTAGTGTGGGCCTCGCGACTGTGCTCTATGTAGTGTGGGCTGCTCTATGCTCGCGACTGTGCTCTATGCTCGCGACTGCGCTAGTGCGCTAGTGTAAAAGCTAGTGCTCTATGTAAAAGCTAGTAAAAGCTAGTAAAAGCTAGTAAAAGCTAGTAAAAGCTAGCTCGCGACTGTAAAAGCTAGTAGTGTGGGCTAGTGTGGGCCGCTAGTGTAGTGTGGGCTAAAAGCTAGTGCTCTATGTAGTGTGGGCCGCTAGTGTGCTCTATGCTCGCGACTGTAGTGTGGGCTAGTGTGGGCTGCTCTATGTAGTGTGGGCCTCGCGACTGTAGTGTGGGCTAGTGTGGGCCTCGCGACTGCTCGCGACTGTAAAAGCTAGTAAAAGCTAGTAGTGTGGGCCTCGCGACTGTAGTGTGGGCTAGTGTGGGCTAAAAGCTAGTAGTGTGGGCCGCTAGTGTGCTCTATGTGCTCTATGCTCGCGACTGTGCTCTATGCTCGCGACTGTGCTCTATGTAGTGTGGGCTAGTGTGGGCCGCTAGTGCTCGCGACTGTAAAAGCTAGTGCTCTATGCTCGCGACTGTAAAAGCTAGTGCTCTATGTAAAAGCTAGTAAAAGCTAGTGCTCTATGCGCTAGTGTAAAAGCTAGTGCTCTATGCGCTAGTGCGCTAGTGTAAAAGCTAGTAAAAGCTAGCGCTAGTGCTCGCGACTGTAAAAGCTAGTAAAAGCTAGCGCTAGTG', '13']\n",
      "['TGTAAAAGCTAGT']\n"
     ]
    }
   ],
   "source": [
    "txtFile = \"/Users/HussainAlkhayat/Desktop/MS_Fall_2022/CS 249/HW2/dataset_746228_13.txt\"\n",
    "\n",
    "file = open(txtFile, 'r')\n",
    "data = list(file.read().strip().split())\n",
    "print(data)\n",
    "answer = FrequentWords(data[0], data[1])\n",
    "print(answer)"
   ]
  },
  {
   "cell_type": "markdown",
   "id": "14e50160",
   "metadata": {},
   "source": [
    "# Reverse Complement "
   ]
  },
  {
   "cell_type": "code",
   "execution_count": 96,
   "id": "2c44330a",
   "metadata": {},
   "outputs": [],
   "source": [
    "def ReverseComplement(text):\n",
    "    rc = []\n",
    "    for letter in text:\n",
    "        if letter == \"A\":\n",
    "            rc.append(\"T\")\n",
    "        elif letter == \"T\":\n",
    "            rc.append(\"A\")\n",
    "        elif letter == \"G\":\n",
    "            rc.append(\"C\")\n",
    "        elif letter == \"C\":\n",
    "            rc.append(\"G\")\n",
    "    rc.reverse()\n",
    "    return rc"
   ]
  },
  {
   "cell_type": "code",
   "execution_count": 97,
   "id": "68609726",
   "metadata": {},
   "outputs": [
    {
     "name": "stdout",
     "output_type": "stream",
     "text": [
      "ACTCAAGGTTCCTTCGATTCAAGGCCACCATAAGGACCGTTGCAGCGTTCGTTCTCCATGTGCTAGAGTGAAACCATGAACGTGTGCTAACTCGCTAGGAGCGGCGAGGATGAATAAATGGCCTACAGCGCAGGACACTGGACATCGACCTTGGAACGTTGCCCTCGGCTGCACCAACAGGAGCGCCGCGAATGAGTTGACGAAAGTGGGCTTGCAATGTTGATCATAAGGCGTTTACCTATGATCGTATACATGCGAAAAGTAATGCCAACGGGGCTTGAGCCTCGGAATGTGATGGATCCACCACCACACCCATCCGGCCCTCCACGCCGCGTACACAGTAATTAGGATCCTCTCTTCATGACACAACTTAAGCGCCGTTATGAAATTTATGAGATCTGGTAGCCACGTCATCCCTGCTCACATCACGGTGTTCGCGAAAAGCCGCGTTTACTAGCTCCGCTGCCGGCGCAGGGTAATCCACTCAGGACCATCTCGAAAGCAGCACTCGGAAAAAGAATACAGCTGAAGGGCGAACGAGGAACGGAAGGCTAATGTACAACCTCCTAGCCGGCCCATGCTATCATAATACGCGACCACGGTTTAGCCGACGTTCACAAGCTAGGCAACGGTACCTCTATCAACGCGCGCAATCAGACCGACGGCTTTCCTAATGCGAGTAGGGATGGTGCCTACGTTTCTGTTGCAACCATAGCACCGGGCACGAGTCGTCATAAAAAGTCTACGATAACCCCTGCGAACTACTCCCCAATGGACGTCGTCGTGGACAAGATACTGTGACTACAGATGGCTGAAGAGCGTGCACTAGGGTAAGAGGTTCAGAGGAAGTCCTGCAACGGCCCCGCCGTGCATCGGTACTAATAGATATGATGTAGCAAAATGTAAATCCCTCAAGCAATACGCGTATCACTTAATACTGTCCATCCGCGCACTTCTGCAGGTCTTTTCCCGACGATGGACTTTGTCCCACGGAAGTGCGTGCAACCTCGAGCCGTACGTTTGCCCCTATGCTCTTCTTGAAAGCTTATCAGTTATACCTTCTGAATGCTGAGCAAGTCCGACTTGGATTAGATGTGCATGTCATATAAGCTATCTACAATAGCGTAGCATCACATTCACAAATGATTCTCTCTAGGTGGTAGGCACCACCGAGGATAGTCCTACACCGTAGAGTTGGACTGGTCTCTGCCTGTGCAGGTAGAGTTACCATAGGTGATTCTCTGAGCGTGCGTCTAACACAATGAGGGTCTCCACGGCTGCCAAGTGCGATATTCGTGGGACACCCGCGCATTATCTTGTCCTTCGATCTTTGGGAGCAAGGGTTGAAGTCGCGGGCTGAGACTGGGCTTCCCGTAACCTTCACCTTAAAACCATGGGGTGCGCTAGGAAGGAGGCATCTAATAGAAGTTAATAAGAAATACCACGGTGACCCTTGAGGATACACCTTAGAACCGATCTCGTTGAGTCATACTTGAAAAGATGGCTCTTGCACATCATGTGTCAGACGATAGGACTAGATCGGACTCGATCAGCTCACATTAATGCCTGCTATCTTGGCCAAGGTCGGAGTCATCCTGTTGCAAAACACACTTGTAGTATAACGATATTTGGGACGTCGTTGCCTAGTAGCTGAGGTCTTGCCATTTTGCTAGTGCACGTACACAAGTCTGGTTAGCTCACCGATGCAGTGGCACGCCCGGTCGAAAAGGGATAGTGGACATTGGGTGGAGACCCCGTTTTGTAGGCCCCGGAAAGAATTCACTTCGCTGAGGACTTCTACCTAATCAGTCTTGGAGAGTTTAGGATTTACTAAAGCATACCCTTACCGGTTCCCACATTTTCTTACCCGCACGATGGGCTAATCGTAATATAAGAAGAGCAATCCCTGGGGCGAGCAATAGAATCGATACCGGCAGGGAATGGCACCCGACAACGCTCCGGTGGAGGCTAAATTATAGTGAGACGGTAATGGGCCGGTCGACAGTCGCCCCTCTCGTGCACATACATACGTAAAAAACTCAAATGACGGTGCTGACTTGAGGGTGGCCCAACAGGGCTTACAGAAGGGCTCAACTGTGATTTAGTGAGTAGTTGCAGAGGCTACGATCCTTGTGAGATGCCGGGTCGCTTCTGCGGCGGAGCGCAAGTTTATTACAAACAGGACTGCGGCCGCCCGACTTGGGGCAGGAATGAGGAAAAGCGCCCACTTGTCGTGGGATTGATAACACCCTCATGGGAAAGGCCATCCGAAGATTAGAATTGGCTGAAGCCAGAACTGGTTGCGCGTCGAGTGGCTTGAAGTCAGTACCGATGGGCAAAATTCACTTAACGTTGCGCTGCTACCTATTACCCTCGCGCGACAGAAACACCGTTGGCTATATACTTCCGCGATACCTTAGATTGTCTCCATAGATGGAACGCCGACGCAATGAGCCAGTATATATATTATGCCAAGATACGTGGCAGGACCCGTGTATTTTTGTAATCTCACTGCGGCTAACGCGCCATACAGCGAAACAATGGGGCCGCAACTCCCTGTGAAATAGACATAGCCGACAGGATGCAGAGCGGGTCTCCCGGAATAAGGCGCAGCACATGTTGGATACTATAATCTCGGACCGGGCAGGAGGCTGGCACGATCGTTGCACAAAGGTCCTGTGAAGAATAGTAACGCGGTCCTAGTGTTCCATTTATCTTTGAGGAGATACTTCCAAAATTCACGCATTTTGGTTTCGTATGTACAGTGGGCCCGGTGTTTGATTCGGTCGTATAAAGACGAGTCGGGCCTTGATGTTAGTAAAAGGCGGGGTAGTTTAAGAGGAAACTTTGTCTCGGCAACAGGAAAACAAGAGTGCTCAATCAATAGCAACGTAACAAGGGCCCTATACCGTTATACAGTATCTTAACAGAACTCGAATTTTTGATGGCGGGACACCCGACCCACTCGAAAGTGGTGCGAGCTATCTTCAAGGGATACTTCTTCCGAGTTGTATCCCACGTAGTCGTAAACCGTACATCATGGGGCCAGAACCTACCCTTGGACATTCCCCTACAACTAAAACACAATTAATCTGAATGGGTTGTAATTGCCGATAATGTTTTGCTCCTATGGGTGGTCGAGCGGCTCGCTATCAGGTGGCGCAGATACCCAGGGGAGGAACACCTGTCGATGACACGCCTGTCTGCCAACAGAACTCGGGTATGTGCGGAGAGAAGGTTTTGAAGAGATCGAGGCTATTTGACGCTAAGGTTCCTAGATTGCATCACCGAAACCATAGCGACCTTAAATTTGTAGTCTTGTCCATATCTACCGGACCCCTACAGAAATTGATGCAAACAGAACAATTATGGTGAATGTGCCGTCCCACTCCTGTTAAATTAACCGATGGGTGAAATTTCGCTTAAATCTACGCAAGAACGTCCGTCGGTTCAAGGTTACGACCCATGAATATGGATTTCACTGCCTGCGATTTATGTAACCAATGTACGCAATTCGGCGCTAGGCATTGTGGATCAAGGTGTATGCTAAAAGCTTGATTAACCTTAACGCCGCCGTCGAACCGTCGCACGGGGGACTACGTACCGGGCAGCGTGAATGGTCTGGGCCCACCATGACGCTAGGATCCTTAGTCGGTAGATTAAGTAGGGTTCTAGCAGGTATTTGCTACGACACTGACTCAGCCGCCTTGGCGTGCCTATGCGATCCACTTAGCACTATATTGCAGTCGCGACTTACGATCCCGGCTAGTGGCGGCTTTTCAGTCGAGCCTCCGTCCTTTAGCAAGAGTGCTATTACATATCCAGCTATAGAATCCAGGATGACCGTGACACCCTCTCCCTCTACCCGACTCCTCATATTAATGGATCATACAGTCGGCTTAGCTTCCAAGGGACCCGACGCCTAGAGTCTCGCATCATTATATGCCATCGTGTCATGGAAATCTGCGTTGGCAATATTGGATTTTCTCACCTTGATAGCCTACGTGGATTGGTCCTAAATGAGCGGATGGTGCCACCGTGATCTCCGCGCCGCAGACGGCGAGGTCTTCTATGTACAAACCGTGAGTCCTGCTGAAGTTGCCTTATGCATTCCTCATAATATGTGAAAAAGAGGTTCGTAATCGGTCGACTAATCAGATTACGTGGACGTCAGGCTGACTGTATCTAATCCACCCCCTAAGCATGAGAGAAAATATCCCAGAAAAGAGTACACACACTAAAGACCCGTCACTCTTAAGGAGACCTGAGCACGCGAGGGACGAGTATGTATGTAGATACAGCATAAGACAGTTAAGCATCACGCGAGAATGAATCACATGACTACAGACTTTCTCTCCGGGCTGACCTCATTAGTCACGTGGGGCGACGCGCTTCTCCATGTGATCGTAGTGTATAGGACAATCGGGCTCGTACGTCGTGCCCCCTCATTGCAGTTGATGGTGCTTAGTGCCTAAGTCGCTGTTCGTCATATCCGGGCACTGAATGGTAGGTAGTGGGTACGCTGGCACGAGCCCCTAACAGTCTAATTATTGCTACCTGCTTGCCTAGCGCCCGTCTCAGTACCCCCTTGACAACCACCCGACGTTCTCCCGGAGCAACTATTGTGAGCCTTCCGCTACCGCCTTAGCTGACGGCGAGGCACCGACGAAATCGGGTATTTTCTCTTCCTGGCCCTCGCAGACGCGTGCGGGCAATATCTCAGAGCTTTTGCCGTGTGAGCTTCGGTTGAGGGAGAGTCTTCGGCGCGCGGGAGGTCCGTGCGCGGAAATTCATAACCCCATCGAAATAAAGGGGAATTGGATTAACTTTATCGAATCGTTAGGATCGTGGGCGGTCCATCTCATTGTCGTTGCTCCATGACCCTTCGGTTATCATGAGTGCGCTGGTGCCATCTATGCCTACCATGTCTTATAGAAGTAGTAGCAGAGCAATCTCGAGAATGGGAATGCTACTAGCTGCCACTGCTTGACTAATCCACTCCTACGGGAGATAACGGTATACAGGGGTTGCGAACCCTATCTCTTCGTGGGGTTTGGAGCCCGACTGCTAATAACCCTCACCTTTGATGCTACCAACGTGTCTTCTAGAGGACTGAAAAACAACATATCAAGTACAATCGGACAGTACTGCAACGAACGGGCTCGGGATCCAGCTGGGCGATAAATGCTCCCTACGCCGCCTTGTGCGGATTTAGCACTTAGGTATTGCCGGAAACCCGGGCTATCAGCGCATCGCAGGGGCGCAAAACTCCTGACGAAGGGCTCTACCAAGGAGTACGCGCCCTGAGGACCAGAAGATGCAAAGGATACTCACAGCCCTGCTATTGCCAAACGTATAGTGAATTACGTCGGCATCTCGGCCTCGATAGTTTTTATCTATTGCTATCACCAAAACCCTCCAACCACCCTTATTAATTGGGAAACCTATTGGCGTCGAAGGGCGGTTGGCTCTGATCTGCGTAAAGGTGTTCGTCTGCCTTAACCTACACCTGGGCTACAGGGTCGCGTCTGTTCCTACATTGTGCTAGGCACGTAACTTACTGTCTCCGCGGCCAGAGCCATATCAATATTAGTAAGCGATTATCTCAGCACCAGGAAAATATTTTTTGACATTTAGTTGTAATTGGGCGCGATGCGATCATTGACCACCAGTGAAGGCGAAGTCGTGCTAGTGGTTTATCGATAGATCCACGCGTCAGTACCATTAACAGGCAGTTTTAAGGGCCTTTGCCACTCCCCGGTACTATTCAGTTGAGAGTTCATTAGGTAAGCACCTCCCGGGGACCTCGTTAAACAATGCCAGTATCTGCCTATGGAATTTGGATCCATTGACTGTAGCGACATTCACAATTGCCTATGTCACCACATGTAAAGGTAAGCGTTTGGTTTAATCTCGGAAGTGTTACTCGCATTTCATCCCTAATTGATAGGGAGCTACGAGACCTATGGAGCAAGTGTATACCGATTGAGCAAAAGCAACCCTCGGAAGTGTATTCCCTCAGACGATGTAAGGCATCGAAGCCCACGCCATTCATCGGAAATTTTTTCGACGAGACGCAAAGTGATTGCATCATGTTGCCGGTGTGATAGCGTGTGCAATAAGCAAACTGGAGGGATATCATGCACGTGAAGCTCCCCGGGCTCGGATGTCAGTAGATATCGATAGGGAAGACACCCTGTGGTTTTTCGGGACGCTAAGTGCACGCTTCTGTGTTCGTACGCACTAATTCAGTGAAAGTGGATTGACTGCGACCAGCAAACGCAGCGGATACAGCCCAGGGCACGGGGTTCCGTTGCTGCGTTTTCGTTGCATGTTGGCGGCGAACAAGCCATTGGACAATTGAACTCGCGTTACCTTCGTAGATTCTTTACCGACTCAGGTCTCTGCAATTGGGAGTCCTTGGCATTAGAATACATTACGGACTTATGACTTTTGTGCTGGATGTGGGGTCCCCTACTGCGTTCCCCTTAAATCCTCCTTGGGAAAAGGCGCGTCTCGCCCGGTCCGATGCGACCGACGTCTATCCATCGAGAAGGCTGCCATCGGATTTGAAACTGCTAAACCCCCCCGCTCTCGTTACTCAATCTTACAATGGCCTGGGGTGCAGGACGGCTCCCGATCTCATAGTGACGTCCTGTTGATTGCGTGCCAAGGAATCCACCTACCCATACAGCGCTATCTCTCGTTGCCAGGGGTAGTGCATGTACAGTTGCTAGCTTCTCATTTTCGCTATGAACCTTATATGAAAGACTCACGGCCCACAGGAGGCGCGCTCGGCTTGCTTCGCAACCTACTACCCCGAAGGGAGGCGCAAGCAAGTCGAGACTTGCTCAATTGCTCATGGGCTCCGAAATGTATTAATTCGGTAGAGACCAGGTATCTGCACAGTGATACATGACTTAATCCTCGTAGCGCGGACACCCGTTGTTGCCAGAGCCACAGAAGTAGCGACTTTTCCAGAAGTAGTGTAGACGTCTCTGCGGGCACCAGCAGTGCTAGTCCATACCGATTTACTTTGGCTAGATCCACACGGCAGGAAAGCTCGCAGGTTGCAGACCCCGATGTCGAGCAGTAAAGGGACAGCGTGTCGGTCACGATACCTGCAACGCTACCCAGAACCGCTGCGGTTAGGATGCCTCATAATCTTTATAGATTCAAATTCGAGAGTGTCCTTAACGCTCTTAGCTGATCCCGCATGGCTATCTTACTGTACTAAACCATCCTTATCACTAAAGTTCGGTGAAGGGTGCTGTGAAGCCGCCACGGGAACCAACTACCGTCAGCTTGTAGGAGGCCATGGGGTTGAACCTTTATCAATAAAGGGAGCGAGGGGCCCTGATACATTTATCGAGCCTTTCTACACGCTGCGGACGGTTTACACGGAGGCCGGCCAACGGGCTCCTTGGAATATGAGACTCAGTAGCCAGGAGAACCTGAAAGTACGTTCTCTCATATGGTCCGGCGAACGGGATCCCGACAAATGTACGCACGAGCGCACTAGTGGCCCCAGGTGCAACGTAAATGTAGTTAAGAGACATGTCCCTATATCCACTCTCGCCATATTCCCTAGAAGGACAATTTCCCGTTCCTAATCGTTTGAGACGATGCCACCGTAAGCAACATCGCTTTTCCTCTCTGGGTGCCGGACTGGAAAACAACTGGGCGTCGCTAACATGGAAAACTACTCGCATGCGACGTGCTACCAAATACGGGTTAGCGGAACCGACAGTAGTCTCGCGGGTTAGGGCATTCCCCGGGTCATGGTGTTGCTTACATCGTTCGGGGCTAGTAGAAAAGCCCTAGGCACGGCCCCGGGAGTGAAAAAGCGATTAGACATTAGTCTCTCGGATGTTCTACTATAAATGTTGACCAAGAACAGTGGGCGCTGCCTGAGAAGCTGAGGCTTCGAGGGCTCGAACTTGGGTGCTTTAGATCACGGCTTTGAGTCCATCTCCAACATGGACCTTACAATGCACATACTTATCCCCACTATCTAGTACACTCAGTCCGATGGTCTACTCGCTTCTAAGCAGAGACGCAAGTATGGCACGCGCGAAAGGTCAAGGTACCGGTGTTTGGTACGCATGGATCGGTGATTCTTAAGCCTAGTAACCCGATCATAAGCTGGCTAGAGGGTAAGGACGTTTGACCGCCCTGCCGCAACGCGACGTCGTAACAGAAGACATGGTTTTGACTCATTAGCCGTACGCCCGGACCAGTTTGATCCTCTTAGGTCCAACTGTTATGTAACTTCAGAGGCGTTATGAGAACGGGCACCAACCTTCGACGTCATGCAGTGGGTAGGGAGCGTGACACTAAACGTGCCTATGATAATGATATGCCTATACGAATCACTTGTCCAGTAAGAAGGTAACATGACTCCTACGTGCCAATACCCGACGGATTCTATGCACATATACGCTACTGAAATAGGGGGGATAGTTGGCGGGTGGCCGGCATTATTACCTTTTATATAAGGACAGTTACAGGAGTGTCTCTGCTGTGCCCAAGAGTCAGCGCCAAAAGAACCCTTTAACGGGTAGCCATAGGCCCCGGGGCGATCGCAACCAGACTTGAAGTCTAGCCGGTCACACCCGGAAAGTGGTTAGCTTGATGGCGAAACTGGGCATCACAGGCTTTCAAAACCTGACTGGCTCGAGCCTCGCATAGGTTCCAAACTAAACGGGATCTGCCTGTAATAGCAAAGAACACAACGCACGCTCGTGACCTCTCTTTCTTTTGCTTATTACACCGTGGTGTACATGCGCTTGCGCACATGGCGGCAAGGCTAAGATAGATGAAGGCGACAGATCGATCGTTAGCGTGTCAAATAGCAAGTTCACCAAGCTAGGCCGTCAGGACGGTTGGTGGTATTGCGTCAAAGCTCTGTAAAAGTTTCGCTACATTGCCTCTATTATCGTGGGGTTGGGTCAAAATTAGCATGTTAAAAAGTAATGAGAGGACGGTCTGTTAAAGTGCATTGTCATCCGATGGATTTCCTCCGAATAAACGCGAAGTACTGTTACTGACAATACGCAAAGATCGGCCACGATATAACAACTACTTTAACGGAAGAAAGGGGAGGCTTAATGTTGTCCGATGGATTGAACAAGTTGGCGAGCGTTAAGCACGCTCTACGCGCTCACGGCCAGAGAATTCGCCGAAATCCTACATTACCCTCGGACAGTTGTGTTCAGCGACTTTGGCAACTCTGACACGGAAGATCAGGGCCTTAAACCATATAATACAAAGCCTTCCGCGGTGCCGGAAAGACCTCGGCACGGCCCGAGCTTTTGTGGTAAGTCGCGATTAAATCATGAGCCCCTAAAACTTTCAGCGTATCTACGCCCTCCGGTCGGCACGCCCCTGAGTGGTTACCTGGCGTGTTTGTAAGTTGGGCGAGGCCATTTGCTCAGGCAGATACTTTAAACCCTGGATGTGTTCACGCACATGGGACTAGGGAAGATTTTACCATGCCAAGGTAACGCTGTTCCCGCCCACGGAGGTTATGAAACAGACGTGTCTCCTTGACTAACCTGTCCGAAGGGAATTGAGAACTATAAT\n"
     ]
    }
   ],
   "source": [
    "txtFile = \"/Users/HussainAlkhayat/Desktop/MS_Fall_2022/CS 249/HW2/dataset_746229_2.txt\"\n",
    "\n",
    "file = open(txtFile, 'r')\n",
    "data = list(file.read().strip())\n",
    "answer = ReverseComplement(data)\n",
    "print(''.join(map(str, answer))) "
   ]
  },
  {
   "cell_type": "markdown",
   "id": "ab2e8c2a",
   "metadata": {},
   "source": [
    "# Pattern Matching"
   ]
  },
  {
   "cell_type": "code",
   "execution_count": 101,
   "id": "eab4291d",
   "metadata": {},
   "outputs": [],
   "source": [
    "def PatternMatching(pattern, text):\n",
    "    k = len(pattern)\n",
    "    toBeReturned = []\n",
    "    for i in range(len(text) - k + 1):\n",
    "        tempMer = text[i:i+k]\n",
    "        if tempMer == pattern:\n",
    "            toBeReturned.append(i)\n",
    "    return toBeReturned\n",
    "    "
   ]
  },
  {
   "cell_type": "code",
   "execution_count": 108,
   "id": "c1cf8c52",
   "metadata": {},
   "outputs": [
    {
     "name": "stdout",
     "output_type": "stream",
     "text": [
      "[25, 80, 138, 145, 178, 193, 227, 254, 261, 299, 306, 331, 422, 440, 447, 503, 510, 561, 568, 658, 665, 681, 713, 720, 797, 814, 821, 872, 888, 944, 995, 1014, 1021, 1048, 1057, 1099, 1117, 1155, 1162, 1265, 1348, 1417, 1435, 1807, 1830, 1856, 1863, 1870, 1887, 1925, 1932, 1941, 1975, 2017, 2024, 2101, 2145, 2162, 2169, 2176, 2191, 2217, 2249, 2303, 2319, 2326, 2367, 2402, 2409, 2452, 2472, 2500, 2509, 2516, 2534, 2552, 2559, 2566, 2623, 2781, 2898, 2980, 2987, 3014, 3146, 3247, 3266, 3299, 3407, 3426, 3498, 3561, 3578, 3618, 3657, 3688, 3714, 3787, 3816, 3823, 3841, 3858, 3877, 3901, 4006, 4058, 4118, 4146, 4153, 4202, 4209, 4216, 4235, 4242, 4299, 4306, 4371, 4412, 4480, 4496, 4515, 4522, 4613, 4711, 4730, 4757, 4764, 4771, 4900, 4916, 4964, 5033, 5091, 5114, 5134, 5173, 5206, 5213, 5231, 5287, 5294, 5331, 5338, 5353, 5360, 5462, 5605, 5612, 5619, 5655, 5673, 5731, 5747, 5775, 5820, 5848, 5894, 5929, 6027, 6042, 6049, 6056, 6129, 6136, 6153, 6171, 6211, 6240, 6247, 6315, 6408, 6415, 6460, 6467, 6474, 6489, 6512, 6519, 6534, 6606, 6635, 6642, 6666, 6685, 6720, 6727, 6736, 6766, 6814, 6821, 6900, 6924, 6974, 7038, 7066, 7076, 7083, 7112, 7211, 7218, 7235, 7242, 7340, 7367, 7385, 7511, 7576, 7583, 7590, 7615, 7622, 7666, 7726, 7830, 7886, 7975, 7982, 8053, 8132, 8141, 8157, 8164, 8171, 8205, 8246, 8287, 8366, 8446, 8520, 8607, 8630, 8678, 8699]\n",
      "25 80 138 145 178 193 227 254 261 299 306 331 422 440 447 503 510 561 568 658 665 681 713 720 797 814 821 872 888 944 995 1014 1021 1048 1057 1099 1117 1155 1162 1265 1348 1417 1435 1807 1830 1856 1863 1870 1887 1925 1932 1941 1975 2017 2024 2101 2145 2162 2169 2176 2191 2217 2249 2303 2319 2326 2367 2402 2409 2452 2472 2500 2509 2516 2534 2552 2559 2566 2623 2781 2898 2980 2987 3014 3146 3247 3266 3299 3407 3426 3498 3561 3578 3618 3657 3688 3714 3787 3816 3823 3841 3858 3877 3901 4006 4058 4118 4146 4153 4202 4209 4216 4235 4242 4299 4306 4371 4412 4480 4496 4515 4522 4613 4711 4730 4757 4764 4771 4900 4916 4964 5033 5091 5114 5134 5173 5206 5213 5231 5287 5294 5331 5338 5353 5360 5462 5605 5612 5619 5655 5673 5731 5747 5775 5820 5848 5894 5929 6027 6042 6049 6056 6129 6136 6153 6171 6211 6240 6247 6315 6408 6415 6460 6467 6474 6489 6512 6519 6534 6606 6635 6642 6666 6685 6720 6727 6736 6766 6814 6821 6900 6924 6974 7038 7066 7076 7083 7112 7211 7218 7235 7242 7340 7367 7385 7511 7576 7583 7590 7615 7622 7666 7726 7830 7886 7975 7982 8053 8132 8141 8157 8164 8171 8205 8246 8287 8366 8446 8520 8607 8630 8678 8699\n"
     ]
    }
   ],
   "source": [
    "txtFile = \"/Users/HussainAlkhayat/Desktop/MS_Fall_2022/CS 249/HW2/dataset_746229_5.txt\"\n",
    "\n",
    "file = open(txtFile, 'r')\n",
    "data = list(file.read().strip().split())\n",
    "answer = PatternMatching(data[0], data[1])\n",
    "print(answer)\n",
    "print(' '.join(map(str, answer))) "
   ]
  },
  {
   "cell_type": "markdown",
   "id": "af307719",
   "metadata": {},
   "source": [
    "# ClumpFinding"
   ]
  },
  {
   "cell_type": "code",
   "execution_count": 192,
   "id": "1b6e4f98",
   "metadata": {},
   "outputs": [],
   "source": [
    "def FindClumps(Text, k, L, t):\n",
    "    Patterns = []\n",
    "    n = len(Text)\n",
    "    for i in range(n-L+1):\n",
    "        tempText = Text[i: i+L]\n",
    "        freqMap = FrequentWords(tempText,k)\n",
    "        #print(freqMap)\n",
    "        for clumb in freqMap:\n",
    "            count = PatternCount(tempText, clumb)\n",
    "            if count >= t:\n",
    "                #if clumb not in Patterns:\n",
    "                Patterns.append(clumb)\n",
    "                \n",
    "    Patterns = list(dict.fromkeys(Patterns))\n",
    "    return Patterns"
   ]
  },
  {
   "cell_type": "code",
   "execution_count": 198,
   "id": "f63ed506",
   "metadata": {},
   "outputs": [
    {
     "name": "stdout",
     "output_type": "stream",
     "text": [
      "3\n",
      "[]\n"
     ]
    }
   ],
   "source": [
    "txtFile = \"/Users/HussainAlkhayat/Desktop/MS_Fall_2022/CS 249/HW2/dataset_746230_5.txt\"\n",
    "\n",
    "file = open(txtFile, 'r')\n",
    "data = list(file.read().strip().split())\n",
    "Text = data[0]\n",
    "k = int(data[1])\n",
    "l = int(data[2])\n",
    "t = int(data[3])\n",
    "print(t)\n",
    "answer = FindClumps(Text,k,l,t)\n",
    "print(answer)\n",
    "#answer = PatternMatching(data[0], data[1])\n",
    "#print(answer)\n",
    "#print(' '.join(map(str, answer))) "
   ]
  },
  {
   "cell_type": "markdown",
   "id": "5c45d158",
   "metadata": {},
   "source": [
    "# Skew"
   ]
  },
  {
   "cell_type": "code",
   "execution_count": 199,
   "id": "4b59a3d0",
   "metadata": {},
   "outputs": [],
   "source": [
    "def skew(Text):\n",
    "    count_G = 0\n",
    "    count_C = 0\n",
    "    currSkew = 0\n",
    "    skewList = []\n",
    "    for letter in Text:\n",
    "        if letter == \"G\":\n",
    "            count_G += 1\n",
    "        elif letter == \"C\":\n",
    "            count_C += 1\n",
    "        currSkew = count_G - count_C\n",
    "        skewList.append(currSkew)\n",
    "    return skewList"
   ]
  },
  {
   "cell_type": "code",
   "execution_count": 207,
   "id": "4618804d",
   "metadata": {},
   "outputs": [
    {
     "name": "stdout",
     "output_type": "stream",
     "text": [
      "[32420, 32421, 32423, 32424, 32425]\n",
      "32420 32421 32423 32424 32425\n"
     ]
    }
   ],
   "source": [
    "txtFile = \"/Users/HussainAlkhayat/Desktop/MS_Fall_2022/CS 249/HW2/dataset_746233_10.txt\"\n",
    "\n",
    "file = open(txtFile, 'r')\n",
    "data = list(file.read().strip().split())\n",
    "Text = data[0]\n",
    "skewList = skew(Text)\n",
    "min_result = [i for i, j in enumerate(skewList) if j == min(skewList)]\n",
    "min_result = [element + 1 for element in min_result]\n",
    "\n",
    "print(min_result)\n",
    "print(' '.join(map(str, min_result))) "
   ]
  },
  {
   "cell_type": "markdown",
   "id": "612e39cd",
   "metadata": {},
   "source": [
    "# Hamming Distance"
   ]
  },
  {
   "cell_type": "code",
   "execution_count": 208,
   "id": "9f7c1fef",
   "metadata": {},
   "outputs": [],
   "source": [
    "def hamDis(Text1,Text2):\n",
    "    dis = 0\n",
    "    for i in range(len(Text1)):\n",
    "        if Text1[i] != Text2[i]:\n",
    "            dis += 1\n",
    "    return dis"
   ]
  },
  {
   "cell_type": "code",
   "execution_count": 216,
   "id": "fbeb6f65",
   "metadata": {},
   "outputs": [
    {
     "name": "stdout",
     "output_type": "stream",
     "text": [
      "788\n"
     ]
    }
   ],
   "source": [
    "txtFile = \"/Users/HussainAlkhayat/Desktop/MS_Fall_2022/CS 249/HW2/dataset_746234_3.txt\"\n",
    "\n",
    "file = open(txtFile, 'r')\n",
    "data = list(file.read().strip().split())\n",
    "Text1 = data[0]\n",
    "Text2 = data[1]\n",
    "dis = hamDis(Text1, Text2)\n",
    "print(dis)"
   ]
  },
  {
   "cell_type": "markdown",
   "id": "74bf7f59",
   "metadata": {},
   "source": [
    "# Approximate Pattern Matching"
   ]
  },
  {
   "cell_type": "code",
   "execution_count": 235,
   "id": "186ff84b",
   "metadata": {},
   "outputs": [],
   "source": [
    "def PatternMatching(pattern, Text, d):\n",
    "    n = len(pattern)\n",
    "    index = []\n",
    "    for i in range(len(Text)-n +1):\n",
    "        dis = hamDis(Text[i:i+n], pattern)\n",
    "        if dis <= d:\n",
    "            index.append(i)\n",
    "    return index"
   ]
  },
  {
   "cell_type": "code",
   "execution_count": 244,
   "id": "1904f416",
   "metadata": {},
   "outputs": [
    {
     "name": "stdout",
     "output_type": "stream",
     "text": [
      "4 56 64 72 117 143 186 213 244 248 268 270 273 275 278 286 288 319 330 333 339 356 358 375 377 383 392 434 440 448 477 522 532 540 552 644 653 699 701 713 720 725 742 775 777 805 807 824 836 838 846 867 878 887 889 891 893 911 915 952 955 962 980 985 996 1006 1008 1014 1027 1037 1039 1041 1045 1089 1097 1112 1150 1211 1222 1235 1237 1252 1320 1325 1332 1333 1335 1370 1403 1409 1412 1441 1443 1474 1491 1521 1527 1537 1546 1582 1590 1592 1598 1662 1713 1748 1820 1826 1828 1830 1832 1834 1836 1838 1844 1853 1866 1897 1906 1912 1935 1965 1967 1977 1979 2010 2016 2019 2021 2033 2175 2177 2221 2227 2229 2244 2248 2250 2293 2302 2315 2321 2329 2331 2337 2348 2376 2419 2440 2450 2452 2461 2463 2479 2486 2515 2517 2521 2523 2526 2551 2617 2622 2637 2646 2652 2707 2741 2743 2745 2784 2800 2890 2892 2909 2966 2972 3033 3052 3060 3077 3078 3109 3123 3188 3190 3192 3197 3236 3243 3261 3263 3264 3266 3271 3320 3356 3358 3364 3366 3397 3403 3416 3447 3453 3455 3472 3487 3489 3496 3498 3502 3510 3525 3551 3602 3604 3644 3650 3669 3675 3734 3782 3840 3924 3984 3987 4005 4007 4025 4126 4185 4193 4199 4219 4239 4243 4256 4288 4290 4370 4374 4376 4437 4456 4462 4477 4479 4481 4487 4492 4498 4509 4513 4517 4519 4620 4622 4626 4638 4657 4766 4808 4817 4819 4833 4856 4887 4907 4915 4918 4937 4945 4947 4953 4957 4966 4975 4978 5008 5010 5041 5043 5049 5118 5124 5182 5195 5205 5213 5232 5235 5261 5306 5311 5319 5321 5333 5334 5413 5425 5489 5541 5590 5592 5620 5644 5666 5671 5687 5688 5715 5717 5719 5821 5825 5827 5835 5837 5843 5879 5881 5883 5885 5887 5889 5901 5953 5959 5961 5963 5965 5983 6002 6024 6057 6065 6075 6083 6112 6115 6119 6121 6154 6156 6192 6196 6223 6261 6263 6304 6427 6429 6435 6470 6475 6478 6493 6495 6497 6499 6501 6516 6520 6522 6553 6561 6565 6569 6588 6608 6610 6660 6664 6671 6673 6677 6685 6687 6696 6753 6770 6789 6807 6820 6850 6858 6864 6878 6886 6904 6907 6932 6933 6950 6952 6954 6962 6964 7018 7027 7049 7050 7060 7075 7083 7087 7110 7116 7132 7177 7179 7201 7213 7215 7221 7241 7247 7292 7305 7342 7350 7364 7389 7425 7433 7456 7525 7533 7548 7644 7650 7678 7684 7733 7735 7741 7775 7786 7802 7805 7807 7818 7820 7826 7827 7835 7841 7872 7907 7929 7937 7941 7947 7958 7966 7968 7971 7987 8011 8059 8061 8091 8140 8144 8146 8154 8227 8230 8238 8295 8320 8336 8363 8365 8395 8410 8441 8457 8489 8493 8509 8516 8526 8531 8548 8554 8556 8573 8587 8625 8631 8649 8712 8738 8740 8763 8765 8777 8790 8798 8844 8846 8931 9001 9069 9070 9123 9129 9179 9180 9181 9193 9217 9240 9263 9271 9287 9379 9391 9469 9471 9499 9504 9507 9513 9515 9568 9572 9574 9576 9599 9610 9612 9636 9651 9679 9745 9754 9757 9760 9777 9870 9890 9894 9909 9911 9914 9924 9937 9953 9980 9982 10003 10059 10061 10109 10135 10152 10178 10186 10212 10228 10237 10238 10245 10249 10297 10308 10333 10335 10342 10350 10358 10377 10396 10398 10400 10402 10476 10487 10495 10496 10498 10573 10581 10584 10603 10605 10648 10659 10690 10719 10727 10775 10781 10797 10799 10831 10839 10848 10873 10875 10913 10923 10929 10975 10983 10987 10989 11019 11070 11072 11077 11091 11093 11118 11120 11149 11151 11153 11155 11197 11212 11234 11236 11244 11248 11287 11336 11385 11388 11389 11421 11424 11432 11448 11451 11465 11466 11468 11504 11519 11524 11540 11541 11545 11553 11555 11602 11604 11620 11643 11661 11669 11678 11681 11709 11754 11764 11767 11777 11785 11792 11793 11803 11816 11852 11953 11991 11993 12010 12016 12030 12118 12124 12129 12207 12209 12215 12217 12240 12242 12246 12287 12334 12358 12392 12402 12429 12455 12461 12463 12465 12467 12479 12497 12499 12505 12664 12756 12775 12817 12843 12869 12877 12878 12901 12903 12909 12911 12917 12942 12975 12992 13002 13004 13040 13043 13061 13089 13092 13236 13241 13243 13262 13264 13275 13277 13279 13281 13292 13326 13327 13353 13355 13366 13420 13423 13431 13433 13468 13520 13534 13542 13556 13558 13560 13566 13619 13635 13649 13650 13652 13657 13693 13697 13699 13731 13742 13744 13750 13772 13776 13778 13780 13800 13829 13835 13846 13852 13863 13869 13885 13898 13932 13934 13947 13949 13964 13986 14027 14029 14030 14031 14035 14037 14115 14127 14135 14173 14180 14191 14197 14199 14209 14220 14228 14266 14268 14272 14274 14280 14318 14370 14425 14507 14515 14521 14534 14536 14570 14588 14590 14594 14596 14664 14666 14682 14697 14699 14701 14703 14712 14755 14864 14878 14912 14923 14950 14952 14976 14989 15014 15033 15035 15036 15073 15075 15077 15103 15152 15171 15175 15177 15179 15192 15193 15221 15342 15355 15363 15365 15456 15506 15557 15561 15606 15652 15660 15668 15670 15684 15690 15692 15714 15722 15731 15733 15742 15748 15831 15892 15925 15927 16000 16002 16004 16010 16019 16075 16110 16112 16114 16120 16121 16122 16130 16131 16170 16180 16188 16191 16193 16199 16210 16237 16280 16303 16311 16320 16366 16402 16404 16425 16462 16468 16470\n"
     ]
    }
   ],
   "source": [
    "txtFile = \"/Users/HussainAlkhayat/Desktop/MS_Fall_2022/CS 249/HW2/dataset_746234_4.txt\"\n",
    "\n",
    "file = open(txtFile, 'r')\n",
    "data = list(file.read().strip().split())\n",
    "pattern = data[0]\n",
    "Text = data[1]\n",
    "d = int(data[2])\n",
    "\n",
    "indicies = PatternMatching(pattern, Text, d)\n",
    "print(' '.join(map(str, indicies))) "
   ]
  },
  {
   "cell_type": "markdown",
   "id": "75026b07",
   "metadata": {},
   "source": [
    "# ApproximatePatternCount"
   ]
  },
  {
   "cell_type": "code",
   "execution_count": 245,
   "id": "c3c7331c",
   "metadata": {},
   "outputs": [],
   "source": [
    "def ApproximatePatternCount(pattern, Text, d):\n",
    "    n = len(pattern)\n",
    "    count = 0\n",
    "    for i in range(len(Text)-n +1):\n",
    "        dis = hamDis(Text[i:i+n], pattern)\n",
    "        if dis <= d:\n",
    "            count += 1\n",
    "    return count"
   ]
  },
  {
   "cell_type": "code",
   "execution_count": 247,
   "id": "b2ed65dd",
   "metadata": {},
   "outputs": [
    {
     "name": "stdout",
     "output_type": "stream",
     "text": [
      "26\n"
     ]
    }
   ],
   "source": [
    "txtFile = \"/Users/HussainAlkhayat/Desktop/MS_Fall_2022/CS 249/HW2/dataset_746234_6.txt\"\n",
    "\n",
    "file = open(txtFile, 'r')\n",
    "data = list(file.read().strip().split())\n",
    "pattern = data[0]\n",
    "Text = data[1]\n",
    "d = int(data[2])\n",
    "\n",
    "count = ApproximatePatternCount(pattern, Text, d)\n",
    "print(count)"
   ]
  },
  {
   "cell_type": "markdown",
   "id": "0bc26b9c",
   "metadata": {},
   "source": [
    "# FrequentWordsMismatches"
   ]
  },
  {
   "cell_type": "code",
   "execution_count": 267,
   "id": "40d9a8d6",
   "metadata": {},
   "outputs": [],
   "source": [
    "def FrequentWordsMismatches(Text, k, d):\n",
    "    freqWords = {}\n",
    "    temp = 0\n",
    "    for i in range(len(Text) - k):\n",
    "        tempMer = Text[i:i+k]\n",
    "        if tempMer not in freqWords.keys():\n",
    "            tempCount = ApproximatePatternCount(tempMer, Text, d)\n",
    "            freqWords[tempMer] = tempCount\n",
    "    print(len(freqWords.keys()))\n",
    "    print(len(Text) - k + 1)\n",
    "    maxCount = max(freqWords.values())\n",
    "    FrequentWrods = []\n",
    "    for i in freqWords.keys():\n",
    "        if freqWords[i] == maxCount:\n",
    "            FrequentWrods.append(i)\n",
    "    return FrequentWrods\n",
    "        "
   ]
  },
  {
   "cell_type": "code",
   "execution_count": 268,
   "id": "0d42610a",
   "metadata": {},
   "outputs": [
    {
     "name": "stdout",
     "output_type": "stream",
     "text": [
      "['GGCAGGCACGGGCTTGTTTGGCAGACTGACTCTTGACTGGCAGACTCGGGGGCAGTTTGGCAGGCAGGCACGGGGACTGACTCGGGGGCACTTGTTTCTTCTTCGGGCTTGGCAGTTTGGCACTTGGCACGGGGGCACGGGCTTGACTCTTGGCAGGCAGTTTCTTGTTTGGCACTTCTTGGCACTTCGGGGACTGACTCTTGACTCGGGGTTTCGGGGGCAGACTGGCAGGCACTTGTTTGTTTGGCAGTTTCGGGGGCACGGGGACTGACTGTTTCTTCTTGACTCGGGGGCAGACTCTTGGCAGTTTGACTGTTTCTT', '6', '2']\n",
      "96\n",
      "316\n",
      "['GGGACT']\n",
      "GGGACT\n"
     ]
    }
   ],
   "source": [
    "txtFile = \"/Users/HussainAlkhayat/Desktop/MS_Fall_2022/CS 249/HW2/dataset_746234_9.txt\"\n",
    "\n",
    "file = open(txtFile, 'r')\n",
    "data = list(file.read().strip().split())\n",
    "print(data)\n",
    "Text = data[0]\n",
    "k = int(data[1])\n",
    "d = int(data[2])\n",
    "answer = FrequentWordsMismatches(Text, k ,d)\n",
    "print(answer)\n",
    "print(' '.join(map(str, answer))) "
   ]
  },
  {
   "cell_type": "code",
   "execution_count": 287,
   "id": "b4992497",
   "metadata": {},
   "outputs": [],
   "source": [
    "import copy"
   ]
  },
  {
   "cell_type": "code",
   "execution_count": 305,
   "id": "e7a29f92",
   "metadata": {},
   "outputs": [
    {
     "name": "stdout",
     "output_type": "stream",
     "text": [
      "['ACGT', 'TCGT', 'GCGT', 'CCGT', 'AAGT', 'ATGT', 'AGGT', 'ACAT', 'ACTT', 'ACCT', 'ACGA', 'ACGG', 'ACGC']\n"
     ]
    }
   ],
   "source": [
    "def ImmediateNeighbors(Pattern):\n",
    "    AllLetters = [\"A\",\"T\",\"G\",\"C\"]\n",
    "    Neighborhood = []\n",
    "    for i in range(len(Pattern)):\n",
    "        letter = Pattern[i]\n",
    "        for diffLetter in AllLetters:\n",
    "            if diffLetter != letter:\n",
    "                tempPattern = list(copy.deepcopy(Pattern))\n",
    "                tempPattern[i] = diffLetter\n",
    "                Neighborhood.append(\"\".join(tempPattern))\n",
    "    return Neighborhood\n",
    "\n",
    "def NeighborsD(Pattern, d):\n",
    "    return NeighborsDHelper([Pattern],d)\n",
    "    \n",
    "def NeighborsDHelper(Neighbors,d):\n",
    "    if d == 0:\n",
    "        return Neighbors\n",
    "    Ncopy = copy.deepcopy(Neighbors)\n",
    "    for i in Ncopy:\n",
    "        temp = ImmediateNeighbors(i)\n",
    "        for j in temp:\n",
    "            if j not in Neighbors:\n",
    "                Neighbors.append(j)\n",
    "    return NeighborsDHelper(Neighbors,d-1)\n",
    "\n",
    "t = NeighborsD(\"ACGT\",1)\n",
    "print(t)"
   ]
  },
  {
   "cell_type": "code",
   "execution_count": 323,
   "id": "ffe6628d",
   "metadata": {},
   "outputs": [],
   "source": [
    "def FrequentWordsWithMismatches(Text, k, d):\n",
    "    freqMap = {}\n",
    "    n = len(Text)\n",
    "    for i in range(n - k+1):\n",
    "        Pattern = Text[i:i+k]\n",
    "        #print(Pattern)\n",
    "        neighborhood = NeighborsD(Pattern, d)\n",
    "        for j in range(len(neighborhood)):\n",
    "            neighbor = neighborhood[j]\n",
    "            if neighbor not in freqMap.keys():\n",
    "                freqMap[neighbor] = 1\n",
    "            else:\n",
    "                #print(\"hi\")\n",
    "                freqMap[neighbor] = freqMap[neighbor] + 1\n",
    "                #print(freqMap[neighbor])\n",
    "    #print(freqMap)\n",
    "    m = max(freqMap.values())\n",
    "    #print(freqMap)\n",
    "    #print(m)\n",
    "    mostFreqWords = []\n",
    "    for pattern in freqMap.keys():\n",
    "        if freqMap[pattern] == m:\n",
    "            mostFreqWords.append(pattern)\n",
    "    return mostFreqWords"
   ]
  },
  {
   "cell_type": "code",
   "execution_count": 328,
   "id": "b038dd79",
   "metadata": {},
   "outputs": [
    {
     "name": "stdout",
     "output_type": "stream",
     "text": [
      "['AGGACGCAGGATGGCGCAGCAGCCAACAACGCCGCAGCAGGAAGCCAACAACAAAGGACAAAGCCAAAGGACAATGGCAATGGAGGACGCAGCTGGCGCCAAAGGAAGCCAACAAAGGAAGGAAGCAGGATGGTGGTGGTGGCGCTGGCGCTGGCGCCAAAGGATGGCAATGGCAAAGGACAATGGCAAAGCAGGAAGGAAGGACAACAAAGGAAGCAGGAAGCAGCCAATGGAGCAGGATGGTGGAGGATGGAGGAAGGAAGGAAGGAAGCTGGCGCAGGAAGGAAGCAGGACGCCGCCGCTGGTGGCGCAGGACGCCGCAGGACAACAACAACGCTGGAGGATGGCGCCGCCGCTGGCAATGGCAACGCTGGCGC', '6', '3']\n",
      "GGGGGG\n"
     ]
    }
   ],
   "source": [
    "txtFile = \"/Users/HussainAlkhayat/Desktop/MS_Fall_2022/CS 249/HW2/dataset_746234_9.txt\"\n",
    "\n",
    "file = open(txtFile, 'r')\n",
    "data = list(file.read().strip().split())\n",
    "print(data)\n",
    "Text = data[0]\n",
    "k = int(data[1])\n",
    "d = int(data[2])\n",
    "answer = FrequentWordsWithMismatches(Text, k ,d)\n",
    "print(' '.join(map(str, answer))) "
   ]
  },
  {
   "cell_type": "markdown",
   "id": "f04066ce",
   "metadata": {},
   "source": [
    "# Frequent Words with Mismatches and Reverse Complements"
   ]
  },
  {
   "cell_type": "code",
   "execution_count": 346,
   "id": "fed8dfad",
   "metadata": {},
   "outputs": [],
   "source": [
    "def FrequentWordsWithMismatchesRev(Text, k, d):\n",
    "    freqMap = {}\n",
    "    n = len(Text)\n",
    "    for i in range(n - k+1):\n",
    "        Pattern = Text[i:i+k]\n",
    "        neighborhood = NeighborsD(Pattern, d)\n",
    "        tempneighborhood = copy.deepcopy(neighborhood)\n",
    "        for t in tempneighborhood:\n",
    "            neighborhood.append(\"\".join(ReverseComplement(t)))\n",
    "        for j in range(len(neighborhood)):\n",
    "            neighbor = neighborhood[j]\n",
    "            if neighbor not in freqMap.keys():\n",
    "                freqMap[neighbor] = 1\n",
    "            else:\n",
    "                #print(\"hi\")\n",
    "                freqMap[neighbor] = freqMap[neighbor] + 1\n",
    "                #print(freqMap[neighbor])\n",
    "    #print(freqMap)\n",
    "    m = max(freqMap.values())\n",
    "    #print(freqMap)\n",
    "    #print(m)\n",
    "    mostFreqWords = []\n",
    "    for pattern in freqMap.keys():\n",
    "        if freqMap[pattern] == m:\n",
    "            mostFreqWords.append(pattern)\n",
    "    return mostFreqWords"
   ]
  },
  {
   "cell_type": "code",
   "execution_count": 355,
   "id": "e8523dc6",
   "metadata": {},
   "outputs": [
    {
     "name": "stdout",
     "output_type": "stream",
     "text": [
      "['GTCGCCGTGTTGTCCAGTGTTCAGTCGCCGCCGTCGCCCATTGTCGTCGTCCAGCCCAGCCTTGTGGTGGTCGTCGTGGTCTTGTGTTGCCGTCTTGTCGTCTTGTGCACAGCCCATTTTCACAGCCCAGTGTTGTGGCCCATTCAGTGGTGGTGCAGTCCAGTGTTCAGCCGTCTTCATTGCCCAGTCGCCGTCCAGCCGCCGTGGTCGTGTTGCCGTGTTGTGTTTTGCCGCC', '7', '2']\n",
      "2\n",
      "GTCGTCG CGACGAC\n"
     ]
    }
   ],
   "source": [
    "txtFile = \"/Users/HussainAlkhayat/Desktop/MS_Fall_2022/CS 249/HW2/dataset_746234_10.txt\"\n",
    "\n",
    "file = open(txtFile, 'r')\n",
    "data = list(file.read().strip().split())\n",
    "print(data)\n",
    "Text = data[0]\n",
    "k = int(data[1])\n",
    "d = int(data[2])\n",
    "answer = FrequentWordsWithMismatchesRev(Text, k ,d)\n",
    "print(len(answer))\n",
    "print(' '.join(map(str, answer))) "
   ]
  },
  {
   "cell_type": "code",
   "execution_count": null,
   "id": "1fb59c76",
   "metadata": {},
   "outputs": [],
   "source": []
  }
 ],
 "metadata": {
  "kernelspec": {
   "display_name": "Python 3 (ipykernel)",
   "language": "python",
   "name": "python3"
  },
  "language_info": {
   "codemirror_mode": {
    "name": "ipython",
    "version": 3
   },
   "file_extension": ".py",
   "mimetype": "text/x-python",
   "name": "python",
   "nbconvert_exporter": "python",
   "pygments_lexer": "ipython3",
   "version": "3.9.7"
  }
 },
 "nbformat": 4,
 "nbformat_minor": 5
}
