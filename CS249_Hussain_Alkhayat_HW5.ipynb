{
 "cells": [
  {
   "cell_type": "code",
   "execution_count": 44,
   "id": "6eacfafc",
   "metadata": {},
   "outputs": [],
   "source": [
    "import numpy as np\n",
    "import copy"
   ]
  },
  {
   "cell_type": "code",
   "execution_count": 122,
   "id": "f68827f6",
   "metadata": {},
   "outputs": [],
   "source": [
    "class node():\n",
    "    def __init__(self, data):\n",
    "        self.data = data\n",
    "        self.outNodes = [] # list of node\n",
    "        self.inNodes = [] # list of nodes\n",
    "        \n",
    "class DAG():\n",
    "    def __init__(self,data):\n",
    "        self.source = node(0)\n",
    "        self.sink = node(data)\n",
    "        self.nodes = dict()\n",
    "        self.nodes[self.source.data] = self.source\n",
    "        self.nodes[self.sink.data] = self.sink\n",
    "        \n",
    "    def addEdge(self,fromNodeData, data):\n",
    "        if data not in self.nodes.keys():\n",
    "            newNode = node(data)\n",
    "            newNode.inNodes.append(self.nodes[fromNodeData])\n",
    "            self.nodes[fromNodeData].outNodes.append(newNode)\n",
    "            self.nodes[newNode.data] = newNode\n",
    "        else:\n",
    "            outNode = self.nodes[fromNodeData]\n",
    "            inNode = self.nodes[data]\n",
    "            outNode.outNodes.append(inNode)\n",
    "            inNode.inNodes.append(outNode)\n",
    "    "
   ]
  },
  {
   "cell_type": "code",
   "execution_count": 123,
   "id": "c43fa2e3",
   "metadata": {},
   "outputs": [],
   "source": [
    "# Construct the graph of a spectrum"
   ]
  },
  {
   "cell_type": "code",
   "execution_count": 124,
   "id": "bc6e920d",
   "metadata": {},
   "outputs": [],
   "source": [
    "def dict_from_table_weight(data):\n",
    "    count = 0\n",
    "    translationTable = {}\n",
    "    while count < len(data)-1:\n",
    "        translationTable[data[count]] = int(data[count+1])\n",
    "        count += 2\n",
    "    return translationTable"
   ]
  },
  {
   "cell_type": "code",
   "execution_count": 138,
   "id": "3f648fca",
   "metadata": {},
   "outputs": [],
   "source": [
    "def graphSpect(weight, spectrum):\n",
    "    graph = dict()\n",
    "    graph[0] = []\n",
    "    #print(spectrum)\n",
    "    for weightSpect in spectrum:\n",
    "\n",
    "        if weightSpect in list(weight.values()):\n",
    "            #print(\"in\")\n",
    "            key = [k for k, v in weight.items() if v == weightSpect][0]\n",
    "            graph[0].append(weightSpect)\n",
    "            graph[weightSpect] = []\n",
    "        else:\n",
    "            #print(\"out\")\n",
    "            graph_copy = copy.deepcopy(graph)\n",
    "            for key in graph_copy.keys():\n",
    "                temp_weight = key\n",
    "                #print(\"weightSpect:\", weightSpect)\n",
    "                #print(\"temp_weight:\", temp_weight)\n",
    "                if weightSpect-temp_weight in weight.values():\n",
    "                    key = [k for k, v in weight.items() if v == weightSpect-temp_weight][0]\n",
    "                    #item = [temp_weight, weightSpect, key]\n",
    "                    if weightSpect not in graph.keys():\n",
    "                        graph[weightSpect] = []\n",
    "                        graph[temp_weight].append(weightSpect)\n",
    "                    else:\n",
    "                        graph[temp_weight].append(weightSpect)\n",
    "                    #print(graph)\n",
    "    return graph"
   ]
  },
  {
   "cell_type": "code",
   "execution_count": 127,
   "id": "88857525",
   "metadata": {},
   "outputs": [],
   "source": [
    "def print_graph(graph):\n",
    "    for item in graph:\n",
    "        print(str(item[0])+\"->\"+str(item[1])+\":\"+str(item[2]))"
   ]
  },
  {
   "cell_type": "code",
   "execution_count": 159,
   "id": "bcab8e45",
   "metadata": {},
   "outputs": [],
   "source": [
    "def print_graph(graph):\n",
    "    helper(graph,0)\n",
    "    \n"
   ]
  },
  {
   "cell_type": "code",
   "execution_count": 160,
   "id": "d7be0973",
   "metadata": {},
   "outputs": [],
   "source": [
    "def helper(graph, data):\n",
    "    for i in graph[data]:\n",
    "        key = [k for k, v in weight.items() if v == i-data][0]\n",
    "        print(str(data)+\"->\"+str(i)+\":\"+str(key))\n",
    "    #visited.append(data)\n",
    "    for i in graph[data]:\n",
    "        #if i not in visited:\n",
    "            temp = helper(graph,i)\n",
    "            print(temp)\n",
    "            #for visit in temp:\n",
    "                #if visit not in visited:\n",
    "                    #visited.append(visit)\n",
    "    #return visited"
   ]
  },
  {
   "cell_type": "code",
   "execution_count": 164,
   "id": "91d006a3",
   "metadata": {},
   "outputs": [],
   "source": [
    "def print_graph(graph):\n",
    "    for key in graph.keys():\n",
    "        for i in graph[key]:\n",
    "            letter = [k for k, v in weight.items() if v == i-key][0]\n",
    "            print(str(key)+\"->\"+str(i)+\":\"+str(letter))"
   ]
  },
  {
   "cell_type": "code",
   "execution_count": 165,
   "id": "93405f6b",
   "metadata": {},
   "outputs": [
    {
     "name": "stdout",
     "output_type": "stream",
     "text": [
      "{'G': 57, 'A': 71, 'S': 87, 'P': 97, 'V': 99, 'T': 101, 'C': 103, 'I': 113, 'L': 113, 'N': 114, 'D': 115, 'K': 128, 'Q': 128, 'E': 129, 'M': 131, 'H': 137, 'F': 147, 'R': 156, 'Y': 163, 'W': 186}\n",
      "{0: [57, 71], 57: [154, 185], 71: [185], 154: [301], 185: [332], 301: [415, 429], 332: [429], 415: [486], 429: [486], 486: []}\n",
      "0->57:G\n",
      "0->71:A\n",
      "57->154:P\n",
      "57->185:K\n",
      "71->185:N\n",
      "154->301:F\n",
      "185->332:F\n",
      "301->415:N\n",
      "301->429:K\n",
      "332->429:P\n",
      "415->486:A\n",
      "429->486:G\n"
     ]
    }
   ],
   "source": [
    "txtFile = \"/Users/HussainAlkhayat/Desktop/MS_Fall_2022/CS 249/HW4/integer_mass_table.txt\"\n",
    "\n",
    "file = open(txtFile, 'r')\n",
    "data = list(file.read().strip().split())\n",
    "weight = dict_from_table_weight(data)\n",
    "print(weight)\n",
    "\n",
    "txtFile = \"/Users/HussainAlkhayat/Desktop/MS_Fall_2022/CS 249/HW5/dataset_746425_5.txt\"\n",
    "\n",
    "file = open(txtFile, 'r')\n",
    "#spectrumTemp = list(file.read().strip().split())\n",
    "spectrumTemp = list(\"57 71 154 185 301 332 415 429 486\".strip().split())\n",
    "spectrum = []\n",
    "for i in spectrumTemp:\n",
    "    spectrum.append(int(i))\n",
    "graph = graphSpect(weight, spectrum)\n",
    "print(graph)\n",
    "print_graph(graph)"
   ]
  },
  {
   "cell_type": "markdown",
   "id": "7dbddeeb",
   "metadata": {},
   "source": [
    "# Decoding an Ideal Spectrum Problem"
   ]
  },
  {
   "cell_type": "code",
   "execution_count": 215,
   "id": "673d7cd2",
   "metadata": {},
   "outputs": [],
   "source": [
    "def generate_all(peptide):\n",
    "    gen_all = []\n",
    "    #loopPeptide = peptide + peptide[:-1]\n",
    "    #print(\"loopPeptide\", loopPeptide)\n",
    "    for i in range(1,len(peptide)+1):\n",
    "        gen_all.append(peptide[:i])\n",
    "    for i in range(1,len(peptide)):\n",
    "        gen_all.append(peptide[i:])\n",
    "    #print(gen_all)\n",
    "    return gen_all"
   ]
  },
  {
   "cell_type": "code",
   "execution_count": 202,
   "id": "2cdd155a",
   "metadata": {},
   "outputs": [
    {
     "name": "stdout",
     "output_type": "stream",
     "text": [
      "['R', 'RE', 'RED', 'REDC', 'REDCA', 'EDCA', 'DCA', 'CA', 'A']\n",
      "[0, 156, 285, 400, 503, 574, 418, 289, 174, 71]\n"
     ]
    }
   ],
   "source": [
    "temp = generate_all(\"REDCA\")\n",
    "j = Generating_Theoretical_Spectrum(temp, weight)\n",
    "print(j)"
   ]
  },
  {
   "cell_type": "code",
   "execution_count": 216,
   "id": "9bd0d6a2",
   "metadata": {},
   "outputs": [],
   "source": [
    "def Generating_Theoretical_Spectrum(peptide_all, weight):\n",
    "    weight_all = [0]\n",
    "    for peptide in peptide_all:\n",
    "        curr_weight = 0\n",
    "        for letter in peptide:\n",
    "            curr_weight += weight[letter]\n",
    "        weight_all.append(curr_weight)\n",
    "    return weight_all"
   ]
  },
  {
   "cell_type": "code",
   "execution_count": 217,
   "id": "9aa43ae2",
   "metadata": {},
   "outputs": [],
   "source": [
    "def Generate_Peptide(weight, currPath):\n",
    "    peptide = \"\"\n",
    "    for index in range(1,len(currPath)):\n",
    "        currWeight = currPath[index] - currPath[index-1]\n",
    "        #print(\"currWeight\",currWeight)\n",
    "        #print(currPath)\n",
    "        letter = [k for k, v in weight.items() if v == currWeight][0]\n",
    "        peptide = peptide + letter\n",
    "    #print(\"peptide\", peptide)\n",
    "    return peptide"
   ]
  },
  {
   "cell_type": "code",
   "execution_count": 184,
   "id": "89d77690",
   "metadata": {},
   "outputs": [
    {
     "ename": "IndentationError",
     "evalue": "unexpected indent (1681270561.py, line 2)",
     "output_type": "error",
     "traceback": [
      "\u001b[0;36m  File \u001b[0;32m\"/var/folders/14/4g4xfxxj2mgfzlvfd2f095bc0000gn/T/ipykernel_19614/1681270561.py\"\u001b[0;36m, line \u001b[0;32m2\u001b[0m\n\u001b[0;31m    construct Graph(Spectrum)\u001b[0m\n\u001b[0m    ^\u001b[0m\n\u001b[0;31mIndentationError\u001b[0m\u001b[0;31m:\u001b[0m unexpected indent\n"
     ]
    }
   ],
   "source": [
    "DecodingIdealSpectrum(Spectrum)\n",
    "    construct Graph(Spectrum)\n",
    "    for each path Path from source to sink in Graph(Spectrum)\n",
    "        Peptide ← the amino acid string spelled by the edge labels of Path\n",
    "        if IdealSpectrum(Peptide) = Spectrum\n",
    "            return Peptide"
   ]
  },
  {
   "cell_type": "code",
   "execution_count": 218,
   "id": "7f29bc40",
   "metadata": {},
   "outputs": [],
   "source": [
    "def path(graph, weight, Spectrum):\n",
    "    return helperPath(graph, weight, 0, [0], Spectrum)\n",
    "    \n",
    "def helperPath(graph, weight, currNode, currPath, Spectrum):\n",
    "    if len(graph[currNode]) == 0:\n",
    "        #base case\n",
    "        # if ideal return else return none\n",
    "        currPeptide = Generate_Peptide(weight, currPath)\n",
    "        tempAllPeptide = generate_all(currPeptide)\n",
    "        ideal = Generating_Theoretical_Spectrum(tempAllPeptide, weight)\n",
    "        ideal.sort()\n",
    "        #print(\"ideal\", ideal)\n",
    "        #print(\"currPath\", currPath)\n",
    "        #print(\"Spectrum\", Spectrum)\n",
    "        correctSpect = [0] + Spectrum\n",
    "        if ideal == correctSpect:\n",
    "            #print(\"CORRECT!!\")\n",
    "            #print(currPeptide)\n",
    "            return currPeptide\n",
    "        else: \n",
    "            return None  \n",
    "    for nextNode in graph[currNode]:\n",
    "        retPath = helperPath(graph, weight, nextNode, currPath + [nextNode], Spectrum)\n",
    "        if retPath != None:\n",
    "            return retPath\n",
    "        "
   ]
  },
  {
   "cell_type": "code",
   "execution_count": 221,
   "id": "05c5c866",
   "metadata": {},
   "outputs": [
    {
     "name": "stdout",
     "output_type": "stream",
     "text": [
      "{'G': 57, 'A': 71, 'S': 87, 'P': 97, 'V': 99, 'T': 101, 'C': 103, 'I': 113, 'L': 113, 'N': 114, 'D': 115, 'K': 128, 'Q': 128, 'E': 129, 'M': 131, 'H': 137, 'F': 147, 'R': 156, 'Y': 163, 'W': 186}\n",
      "NAFKEMISTMHSAKKDSNKYFYH\n"
     ]
    }
   ],
   "source": [
    "txtFile = \"/Users/HussainAlkhayat/Desktop/MS_Fall_2022/CS 249/HW4/integer_mass_table.txt\"\n",
    "\n",
    "file = open(txtFile, 'r')\n",
    "data = list(file.read().strip().split())\n",
    "weight = dict_from_table_weight(data)\n",
    "print(weight)\n",
    "\n",
    "txtFile = \"/Users/HussainAlkhayat/Desktop/MS_Fall_2022/CS 249/HW5/dataset_746425_8.txt\"\n",
    "file = open(txtFile, 'r')\n",
    "spectrumTemp = list(file.read().strip().split())\n",
    "#spectrumTemp = list(\"57 71 154 185 301 332 415 429 486\".strip().split())\n",
    "spectrum = []\n",
    "for i in spectrumTemp:\n",
    "    spectrum.append(int(i))\n",
    "graph = graphSpect(weight, spectrum)\n",
    "#print(graph)\n",
    "#print_graph(graph)\n",
    "ret = path(graph, weight, spectrum)\n",
    "print(ret)"
   ]
  },
  {
   "cell_type": "markdown",
   "id": "5e336047",
   "metadata": {},
   "source": [
    "# Peptide into a Peptide Vector Problem"
   ]
  },
  {
   "cell_type": "code",
   "execution_count": 232,
   "id": "918b20f4",
   "metadata": {},
   "outputs": [],
   "source": [
    "def pepToVec(peptide, weight):\n",
    "    vec = []\n",
    "    for letter in peptide:\n",
    "        for j in range(1,weight[letter]+1):\n",
    "            if j != weight[letter]:\n",
    "                vec.append(0)\n",
    "            else:\n",
    "                vec.append(1)\n",
    "    return vec"
   ]
  },
  {
   "cell_type": "code",
   "execution_count": 234,
   "id": "7e6b6e01",
   "metadata": {},
   "outputs": [
    {
     "name": "stdout",
     "output_type": "stream",
     "text": [
      "{'G': 57, 'A': 71, 'S': 87, 'P': 97, 'V': 99, 'T': 101, 'C': 103, 'I': 113, 'L': 113, 'N': 114, 'D': 115, 'K': 128, 'Q': 128, 'E': 129, 'M': 131, 'H': 137, 'F': 147, 'R': 156, 'Y': 163, 'W': 186}\n",
      "LVNNHWIINRDWTKTHGHFISKQVMEKFPQTCISRADAN\n",
      "0 0 0 0 0 0 0 0 0 0 0 0 0 0 0 0 0 0 0 0 0 0 0 0 0 0 0 0 0 0 0 0 0 0 0 0 0 0 0 0 0 0 0 0 0 0 0 0 0 0 0 0 0 0 0 0 0 0 0 0 0 0 0 0 0 0 0 0 0 0 0 0 0 0 0 0 0 0 0 0 0 0 0 0 0 0 0 0 0 0 0 0 0 0 0 0 0 0 0 0 0 0 0 0 0 0 0 0 0 0 0 0 1 0 0 0 0 0 0 0 0 0 0 0 0 0 0 0 0 0 0 0 0 0 0 0 0 0 0 0 0 0 0 0 0 0 0 0 0 0 0 0 0 0 0 0 0 0 0 0 0 0 0 0 0 0 0 0 0 0 0 0 0 0 0 0 0 0 0 0 0 0 0 0 0 0 0 0 0 0 0 0 0 0 0 0 0 0 0 0 0 0 0 0 0 0 0 0 0 0 0 1 0 0 0 0 0 0 0 0 0 0 0 0 0 0 0 0 0 0 0 0 0 0 0 0 0 0 0 0 0 0 0 0 0 0 0 0 0 0 0 0 0 0 0 0 0 0 0 0 0 0 0 0 0 0 0 0 0 0 0 0 0 0 0 0 0 0 0 0 0 0 0 0 0 0 0 0 0 0 0 0 0 0 0 0 0 0 0 0 0 0 0 0 0 0 0 0 0 0 0 0 0 0 0 0 0 0 0 0 0 0 0 0 0 1 0 0 0 0 0 0 0 0 0 0 0 0 0 0 0 0 0 0 0 0 0 0 0 0 0 0 0 0 0 0 0 0 0 0 0 0 0 0 0 0 0 0 0 0 0 0 0 0 0 0 0 0 0 0 0 0 0 0 0 0 0 0 0 0 0 0 0 0 0 0 0 0 0 0 0 0 0 0 0 0 0 0 0 0 0 0 0 0 0 0 0 0 0 0 0 0 0 0 0 0 0 0 0 0 0 0 0 0 0 0 0 0 0 1 0 0 0 0 0 0 0 0 0 0 0 0 0 0 0 0 0 0 0 0 0 0 0 0 0 0 0 0 0 0 0 0 0 0 0 0 0 0 0 0 0 0 0 0 0 0 0 0 0 0 0 0 0 0 0 0 0 0 0 0 0 0 0 0 0 0 0 0 0 0 0 0 0 0 0 0 0 0 0 0 0 0 0 0 0 0 0 0 0 0 0 0 0 0 0 0 0 0 0 0 0 0 0 0 0 0 0 0 0 0 0 0 0 0 0 0 0 0 0 0 0 0 0 0 0 0 0 0 0 0 0 0 0 0 0 0 1 0 0 0 0 0 0 0 0 0 0 0 0 0 0 0 0 0 0 0 0 0 0 0 0 0 0 0 0 0 0 0 0 0 0 0 0 0 0 0 0 0 0 0 0 0 0 0 0 0 0 0 0 0 0 0 0 0 0 0 0 0 0 0 0 0 0 0 0 0 0 0 0 0 0 0 0 0 0 0 0 0 0 0 0 0 0 0 0 0 0 0 0 0 0 0 0 0 0 0 0 0 0 0 0 0 0 0 0 0 0 0 0 0 0 0 0 0 0 0 0 0 0 0 0 0 0 0 0 0 0 0 0 0 0 0 0 0 0 0 0 0 0 0 0 0 0 0 0 0 0 0 0 0 0 0 0 0 0 0 0 0 0 0 0 0 0 0 0 0 0 0 0 0 0 0 0 0 0 0 0 0 0 0 0 0 1 0 0 0 0 0 0 0 0 0 0 0 0 0 0 0 0 0 0 0 0 0 0 0 0 0 0 0 0 0 0 0 0 0 0 0 0 0 0 0 0 0 0 0 0 0 0 0 0 0 0 0 0 0 0 0 0 0 0 0 0 0 0 0 0 0 0 0 0 0 0 0 0 0 0 0 0 0 0 0 0 0 0 0 0 0 0 0 0 0 0 0 0 0 0 0 0 0 0 0 0 0 0 0 0 0 0 0 0 0 0 0 0 1 0 0 0 0 0 0 0 0 0 0 0 0 0 0 0 0 0 0 0 0 0 0 0 0 0 0 0 0 0 0 0 0 0 0 0 0 0 0 0 0 0 0 0 0 0 0 0 0 0 0 0 0 0 0 0 0 0 0 0 0 0 0 0 0 0 0 0 0 0 0 0 0 0 0 0 0 0 0 0 0 0 0 0 0 0 0 0 0 0 0 0 0 0 0 0 0 0 0 0 0 0 0 0 0 0 0 0 0 0 0 0 0 1 0 0 0 0 0 0 0 0 0 0 0 0 0 0 0 0 0 0 0 0 0 0 0 0 0 0 0 0 0 0 0 0 0 0 0 0 0 0 0 0 0 0 0 0 0 0 0 0 0 0 0 0 0 0 0 0 0 0 0 0 0 0 0 0 0 0 0 0 0 0 0 0 0 0 0 0 0 0 0 0 0 0 0 0 0 0 0 0 0 0 0 0 0 0 0 0 0 0 0 0 0 0 0 0 0 0 0 0 0 0 0 0 0 1 0 0 0 0 0 0 0 0 0 0 0 0 0 0 0 0 0 0 0 0 0 0 0 0 0 0 0 0 0 0 0 0 0 0 0 0 0 0 0 0 0 0 0 0 0 0 0 0 0 0 0 0 0 0 0 0 0 0 0 0 0 0 0 0 0 0 0 0 0 0 0 0 0 0 0 0 0 0 0 0 0 0 0 0 0 0 0 0 0 0 0 0 0 0 0 0 0 0 0 0 0 0 0 0 0 0 0 0 0 0 0 0 0 0 0 0 0 0 0 0 0 0 0 0 0 0 0 0 0 0 0 0 0 0 0 0 0 0 0 0 0 0 0 0 0 0 0 0 0 0 0 0 0 0 0 1 0 0 0 0 0 0 0 0 0 0 0 0 0 0 0 0 0 0 0 0 0 0 0 0 0 0 0 0 0 0 0 0 0 0 0 0 0 0 0 0 0 0 0 0 0 0 0 0 0 0 0 0 0 0 0 0 0 0 0 0 0 0 0 0 0 0 0 0 0 0 0 0 0 0 0 0 0 0 0 0 0 0 0 0 0 0 0 0 0 0 0 0 0 0 0 0 0 0 0 0 0 0 0 0 0 0 0 0 0 0 0 0 0 0 1 0 0 0 0 0 0 0 0 0 0 0 0 0 0 0 0 0 0 0 0 0 0 0 0 0 0 0 0 0 0 0 0 0 0 0 0 0 0 0 0 0 0 0 0 0 0 0 0 0 0 0 0 0 0 0 0 0 0 0 0 0 0 0 0 0 0 0 0 0 0 0 0 0 0 0 0 0 0 0 0 0 0 0 0 0 0 0 0 0 0 0 0 0 0 0 0 0 0 0 0 0 0 0 0 0 0 0 0 0 0 0 0 0 0 0 0 0 0 0 0 0 0 0 0 0 0 0 0 0 0 0 0 0 0 0 0 0 0 0 0 0 0 0 0 0 0 0 0 0 0 0 0 0 0 0 0 0 0 0 0 0 0 0 0 0 0 0 0 0 0 0 0 0 0 0 0 0 0 0 0 0 0 0 0 0 1 0 0 0 0 0 0 0 0 0 0 0 0 0 0 0 0 0 0 0 0 0 0 0 0 0 0 0 0 0 0 0 0 0 0 0 0 0 0 0 0 0 0 0 0 0 0 0 0 0 0 0 0 0 0 0 0 0 0 0 0 0 0 0 0 0 0 0 0 0 0 0 0 0 0 0 0 0 0 0 0 0 0 0 0 0 0 0 0 0 0 0 0 0 0 0 0 0 0 0 0 1 0 0 0 0 0 0 0 0 0 0 0 0 0 0 0 0 0 0 0 0 0 0 0 0 0 0 0 0 0 0 0 0 0 0 0 0 0 0 0 0 0 0 0 0 0 0 0 0 0 0 0 0 0 0 0 0 0 0 0 0 0 0 0 0 0 0 0 0 0 0 0 0 0 0 0 0 0 0 0 0 0 0 0 0 0 0 0 0 0 0 0 0 0 0 0 0 0 0 0 0 0 0 0 0 0 0 0 0 0 0 0 0 0 0 0 0 0 0 0 0 0 0 0 0 0 0 0 1 0 0 0 0 0 0 0 0 0 0 0 0 0 0 0 0 0 0 0 0 0 0 0 0 0 0 0 0 0 0 0 0 0 0 0 0 0 0 0 0 0 0 0 0 0 0 0 0 0 0 0 0 0 0 0 0 0 0 0 0 0 0 0 0 0 0 0 0 0 0 0 0 0 0 0 0 0 0 0 0 0 0 0 0 0 0 0 0 0 0 0 0 0 0 0 0 0 0 0 0 1 0 0 0 0 0 0 0 0 0 0 0 0 0 0 0 0 0 0 0 0 0 0 0 0 0 0 0 0 0 0 0 0 0 0 0 0 0 0 0 0 0 0 0 0 0 0 0 0 0 0 0 0 0 0 0 0 0 0 0 0 0 0 0 0 0 0 0 0 0 0 0 0 0 0 0 0 0 0 0 0 0 0 0 0 0 0 0 0 0 0 0 0 0 0 0 0 0 0 0 0 0 0 0 0 0 0 0 0 0 0 0 0 0 0 0 0 0 0 0 0 0 0 0 0 0 0 0 0 0 0 0 0 0 0 0 0 1 0 0 0 0 0 0 0 0 0 0 0 0 0 0 0 0 0 0 0 0 0 0 0 0 0 0 0 0 0 0 0 0 0 0 0 0 0 0 0 0 0 0 0 0 0 0 0 0 0 0 0 0 0 0 0 0 1 0 0 0 0 0 0 0 0 0 0 0 0 0 0 0 0 0 0 0 0 0 0 0 0 0 0 0 0 0 0 0 0 0 0 0 0 0 0 0 0 0 0 0 0 0 0 0 0 0 0 0 0 0 0 0 0 0 0 0 0 0 0 0 0 0 0 0 0 0 0 0 0 0 0 0 0 0 0 0 0 0 0 0 0 0 0 0 0 0 0 0 0 0 0 0 0 0 0 0 0 0 0 0 0 0 0 0 0 0 0 0 0 0 0 0 0 0 0 0 0 0 0 0 0 0 0 0 0 0 0 0 0 0 0 0 0 1 0 0 0 0 0 0 0 0 0 0 0 0 0 0 0 0 0 0 0 0 0 0 0 0 0 0 0 0 0 0 0 0 0 0 0 0 0 0 0 0 0 0 0 0 0 0 0 0 0 0 0 0 0 0 0 0 0 0 0 0 0 0 0 0 0 0 0 0 0 0 0 0 0 0 0 0 0 0 0 0 0 0 0 0 0 0 0 0 0 0 0 0 0 0 0 0 0 0 0 0 0 0 0 0 0 0 0 0 0 0 0 0 0 0 0 0 0 0 0 0 0 0 0 0 0 0 0 0 0 0 0 0 0 0 0 0 0 0 0 0 0 0 0 0 0 0 1 0 0 0 0 0 0 0 0 0 0 0 0 0 0 0 0 0 0 0 0 0 0 0 0 0 0 0 0 0 0 0 0 0 0 0 0 0 0 0 0 0 0 0 0 0 0 0 0 0 0 0 0 0 0 0 0 0 0 0 0 0 0 0 0 0 0 0 0 0 0 0 0 0 0 0 0 0 0 0 0 0 0 0 0 0 0 0 0 0 0 0 0 0 0 0 0 0 0 0 0 0 0 0 0 0 0 0 0 0 0 0 0 1 0 0 0 0 0 0 0 0 0 0 0 0 0 0 0 0 0 0 0 0 0 0 0 0 0 0 0 0 0 0 0 0 0 0 0 0 0 0 0 0 0 0 0 0 0 0 0 0 0 0 0 0 0 0 0 0 0 0 0 0 0 0 0 0 0 0 0 0 0 0 0 0 0 0 0 0 0 0 0 0 0 0 0 0 0 0 1 0 0 0 0 0 0 0 0 0 0 0 0 0 0 0 0 0 0 0 0 0 0 0 0 0 0 0 0 0 0 0 0 0 0 0 0 0 0 0 0 0 0 0 0 0 0 0 0 0 0 0 0 0 0 0 0 0 0 0 0 0 0 0 0 0 0 0 0 0 0 0 0 0 0 0 0 0 0 0 0 0 0 0 0 0 0 0 0 0 0 0 0 0 0 0 0 0 0 0 0 0 0 0 0 0 0 0 0 0 0 0 0 0 0 0 0 0 0 0 0 0 0 0 0 0 0 0 1 0 0 0 0 0 0 0 0 0 0 0 0 0 0 0 0 0 0 0 0 0 0 0 0 0 0 0 0 0 0 0 0 0 0 0 0 0 0 0 0 0 0 0 0 0 0 0 0 0 0 0 0 0 0 0 0 0 0 0 0 0 0 0 0 0 0 0 0 0 0 0 0 0 0 0 0 0 0 0 0 0 0 0 0 0 0 0 0 0 0 0 0 0 0 0 0 0 0 0 0 0 0 0 0 0 0 0 0 0 0 0 0 0 0 0 0 0 0 0 0 0 0 0 0 0 0 0 1 0 0 0 0 0 0 0 0 0 0 0 0 0 0 0 0 0 0 0 0 0 0 0 0 0 0 0 0 0 0 0 0 0 0 0 0 0 0 0 0 0 0 0 0 0 0 0 0 0 0 0 0 0 0 0 0 0 0 0 0 0 0 0 0 0 0 0 0 0 0 0 0 0 0 0 0 0 0 0 0 0 0 0 0 0 0 0 0 0 0 0 0 0 0 0 0 0 0 1 0 0 0 0 0 0 0 0 0 0 0 0 0 0 0 0 0 0 0 0 0 0 0 0 0 0 0 0 0 0 0 0 0 0 0 0 0 0 0 0 0 0 0 0 0 0 0 0 0 0 0 0 0 0 0 0 0 0 0 0 0 0 0 0 0 0 0 0 0 0 0 0 0 0 0 0 0 0 0 0 0 0 0 0 0 0 0 0 0 0 0 0 0 0 0 0 0 0 0 0 0 0 0 0 0 0 0 0 0 0 0 0 0 0 0 0 0 0 0 0 0 0 0 0 0 0 0 0 0 0 1 0 0 0 0 0 0 0 0 0 0 0 0 0 0 0 0 0 0 0 0 0 0 0 0 0 0 0 0 0 0 0 0 0 0 0 0 0 0 0 0 0 0 0 0 0 0 0 0 0 0 0 0 0 0 0 0 0 0 0 0 0 0 0 0 0 0 0 0 0 0 0 0 0 0 0 0 0 0 0 0 0 0 0 0 0 0 0 0 0 0 0 0 0 0 0 0 0 0 0 0 0 0 0 0 0 0 0 0 0 0 0 0 0 0 0 0 0 0 0 0 0 0 0 0 0 0 0 0 1 0 0 0 0 0 0 0 0 0 0 0 0 0 0 0 0 0 0 0 0 0 0 0 0 0 0 0 0 0 0 0 0 0 0 0 0 0 0 0 0 0 0 0 0 0 0 0 0 0 0 0 0 0 0 0 0 0 0 0 0 0 0 0 0 0 0 0 0 0 0 0 0 0 0 0 0 0 0 0 0 0 0 0 0 0 0 0 0 0 0 0 0 0 0 0 0 0 0 0 0 0 0 0 0 0 0 0 0 0 0 0 0 0 0 0 0 0 0 0 0 0 0 0 0 0 0 0 1 0 0 0 0 0 0 0 0 0 0 0 0 0 0 0 0 0 0 0 0 0 0 0 0 0 0 0 0 0 0 0 0 0 0 0 0 0 0 0 0 0 0 0 0 0 0 0 0 0 0 0 0 0 0 0 0 0 0 0 0 0 0 0 0 0 0 0 0 0 0 0 0 0 0 0 0 0 0 0 0 0 0 0 0 0 0 0 0 0 0 0 0 0 0 0 0 0 0 0 0 0 0 0 0 0 0 0 0 0 0 0 0 0 0 0 0 0 0 0 0 0 0 0 0 0 0 0 0 0 0 0 0 0 0 0 0 0 0 0 0 0 0 0 0 0 0 1 0 0 0 0 0 0 0 0 0 0 0 0 0 0 0 0 0 0 0 0 0 0 0 0 0 0 0 0 0 0 0 0 0 0 0 0 0 0 0 0 0 0 0 0 0 0 0 0 0 0 0 0 0 0 0 0 0 0 0 0 0 0 0 0 0 0 0 0 0 0 0 0 0 0 0 0 0 0 0 0 0 0 0 0 0 0 0 0 0 0 0 0 0 0 0 0 1 0 0 0 0 0 0 0 0 0 0 0 0 0 0 0 0 0 0 0 0 0 0 0 0 0 0 0 0 0 0 0 0 0 0 0 0 0 0 0 0 0 0 0 0 0 0 0 0 0 0 0 0 0 0 0 0 0 0 0 0 0 0 0 0 0 0 0 0 0 0 0 0 0 0 0 0 0 0 0 0 0 0 0 0 0 0 0 0 0 0 0 0 0 0 0 0 0 0 0 0 0 0 0 0 0 0 0 0 0 0 0 0 0 0 0 0 0 0 0 0 0 0 0 0 0 0 0 1 0 0 0 0 0 0 0 0 0 0 0 0 0 0 0 0 0 0 0 0 0 0 0 0 0 0 0 0 0 0 0 0 0 0 0 0 0 0 0 0 0 0 0 0 0 0 0 0 0 0 0 0 0 0 0 0 0 0 0 0 0 0 0 0 0 0 0 0 0 0 0 0 0 0 0 0 0 0 0 0 0 0 0 0 0 0 0 0 0 0 0 0 0 0 0 0 0 0 0 0 1 0 0 0 0 0 0 0 0 0 0 0 0 0 0 0 0 0 0 0 0 0 0 0 0 0 0 0 0 0 0 0 0 0 0 0 0 0 0 0 0 0 0 0 0 0 0 0 0 0 0 0 0 0 0 0 0 0 0 0 0 0 0 0 0 0 0 0 0 0 0 0 0 0 0 0 0 0 0 0 0 0 0 0 0 0 0 0 0 0 0 0 0 0 0 0 0 0 0 0 0 0 0 1 0 0 0 0 0 0 0 0 0 0 0 0 0 0 0 0 0 0 0 0 0 0 0 0 0 0 0 0 0 0 0 0 0 0 0 0 0 0 0 0 0 0 0 0 0 0 0 0 0 0 0 0 0 0 0 0 0 0 0 0 0 0 0 0 0 0 0 0 0 0 0 0 0 0 0 0 0 0 0 0 0 0 0 0 0 0 0 0 0 0 0 0 0 0 0 0 0 0 0 0 0 0 0 0 0 0 0 0 0 0 0 0 1 0 0 0 0 0 0 0 0 0 0 0 0 0 0 0 0 0 0 0 0 0 0 0 0 0 0 0 0 0 0 0 0 0 0 0 0 0 0 0 0 0 0 0 0 0 0 0 0 0 0 0 0 0 0 0 0 0 0 0 0 0 0 0 0 0 0 0 0 0 0 0 0 0 0 0 0 0 0 0 0 0 0 0 0 0 0 1 0 0 0 0 0 0 0 0 0 0 0 0 0 0 0 0 0 0 0 0 0 0 0 0 0 0 0 0 0 0 0 0 0 0 0 0 0 0 0 0 0 0 0 0 0 0 0 0 0 0 0 0 0 0 0 0 0 0 0 0 0 0 0 0 0 0 0 0 0 0 0 0 0 0 0 0 0 0 0 0 0 0 0 0 0 0 0 0 0 0 0 0 0 0 0 0 0 0 0 0 0 0 0 0 0 0 0 0 0 0 0 0 0 0 0 0 0 0 0 0 0 0 0 0 0 0 0 0 0 0 0 0 0 0 0 0 0 0 0 0 0 0 0 0 0 0 0 0 0 0 0 0 0 0 0 1 0 0 0 0 0 0 0 0 0 0 0 0 0 0 0 0 0 0 0 0 0 0 0 0 0 0 0 0 0 0 0 0 0 0 0 0 0 0 0 0 0 0 0 0 0 0 0 0 0 0 0 0 0 0 0 0 0 0 0 0 0 0 0 0 0 0 0 0 0 0 1 0 0 0 0 0 0 0 0 0 0 0 0 0 0 0 0 0 0 0 0 0 0 0 0 0 0 0 0 0 0 0 0 0 0 0 0 0 0 0 0 0 0 0 0 0 0 0 0 0 0 0 0 0 0 0 0 0 0 0 0 0 0 0 0 0 0 0 0 0 0 0 0 0 0 0 0 0 0 0 0 0 0 0 0 0 0 0 0 0 0 0 0 0 0 0 0 0 0 0 0 0 0 0 0 0 0 0 0 0 0 0 0 0 0 1 0 0 0 0 0 0 0 0 0 0 0 0 0 0 0 0 0 0 0 0 0 0 0 0 0 0 0 0 0 0 0 0 0 0 0 0 0 0 0 0 0 0 0 0 0 0 0 0 0 0 0 0 0 0 0 0 0 0 0 0 0 0 0 0 0 0 0 0 0 0 1 0 0 0 0 0 0 0 0 0 0 0 0 0 0 0 0 0 0 0 0 0 0 0 0 0 0 0 0 0 0 0 0 0 0 0 0 0 0 0 0 0 0 0 0 0 0 0 0 0 0 0 0 0 0 0 0 0 0 0 0 0 0 0 0 0 0 0 0 0 0 0 0 0 0 0 0 0 0 0 0 0 0 0 0 0 0 0 0 0 0 0 0 0 0 0 0 0 0 0 0 0 0 0 0 0 0 0 0 0 0 0 0 0 1\n"
     ]
    }
   ],
   "source": [
    "txtFile = \"/Users/HussainAlkhayat/Desktop/MS_Fall_2022/CS 249/HW4/integer_mass_table.txt\"\n",
    "\n",
    "file = open(txtFile, 'r')\n",
    "data = list(file.read().strip().split())\n",
    "weight = dict_from_table_weight(data)\n",
    "print(weight)\n",
    "\n",
    "txtFile = \"/Users/HussainAlkhayat/Desktop/MS_Fall_2022/CS 249/HW5/dataset_746427_5.txt\"\n",
    "file = open(txtFile, 'r')\n",
    "peptide = list(file.read().strip().split())[0]\n",
    "print(peptide)\n",
    "vec = pepToVec(peptide, weight)\n",
    "#print(vec)\n",
    "print(' '.join(map(str, vec))) "
   ]
  },
  {
   "cell_type": "markdown",
   "id": "b2d2ebd2",
   "metadata": {},
   "source": [
    "# Peptide Vector into a Peptide Problem"
   ]
  },
  {
   "cell_type": "code",
   "execution_count": 247,
   "id": "b162ac42",
   "metadata": {},
   "outputs": [],
   "source": [
    "def VecToPep(vec, weight):\n",
    "    peptide = ''\n",
    "    tempWeight = 0\n",
    "    for i in vec:\n",
    "        #print(\"i\", i)\n",
    "        if i == 0:\n",
    "            tempWeight += 1\n",
    "        else:\n",
    "            #print(\"here\")\n",
    "            #print(tempWeight)\n",
    "            tempWeight += 1\n",
    "            letter = [k for k, v in weight.items() if v == tempWeight][0]\n",
    "            peptide = peptide + letter\n",
    "            tempWeight = 0\n",
    "    return peptide\n"
   ]
  },
  {
   "cell_type": "code",
   "execution_count": 254,
   "id": "3d003ff4",
   "metadata": {},
   "outputs": [
    {
     "name": "stdout",
     "output_type": "stream",
     "text": [
      "{'G': 57, 'A': 71, 'S': 87, 'P': 97, 'V': 99, 'T': 101, 'C': 103, 'I': 113, 'L': 113, 'N': 114, 'D': 115, 'K': 128, 'Q': 128, 'E': 129, 'M': 131, 'H': 137, 'F': 147, 'R': 156, 'Y': 163, 'W': 186}\n",
      "AYERAWVTDIAWSFAKGASCWDVYSGENKSIADVNYWI\n"
     ]
    }
   ],
   "source": [
    "txtFile = \"/Users/HussainAlkhayat/Desktop/MS_Fall_2022/CS 249/HW4/integer_mass_table.txt\"\n",
    "\n",
    "file = open(txtFile, 'r')\n",
    "data = list(file.read().strip().split())\n",
    "weight = dict_from_table_weight(data)\n",
    "print(weight)\n",
    "\n",
    "txtFile = \"/Users/HussainAlkhayat/Desktop/MS_Fall_2022/CS 249/HW5/dataset_746427_6.txt\"\n",
    "file = open(txtFile, 'r')\n",
    "data = list(file.read().strip().split())\n",
    "\n",
    "vec = []\n",
    "for i in data:\n",
    "    vec.append(int(i))\n",
    "pep = VecToPep(vec, weight)\n",
    "print(pep)\n"
   ]
  },
  {
   "cell_type": "markdown",
   "id": "9de1e6b9",
   "metadata": {},
   "source": [
    "# Peptide Sequencing Problem"
   ]
  },
  {
   "cell_type": "code",
   "execution_count": 296,
   "id": "2eabbf98",
   "metadata": {},
   "outputs": [],
   "source": [
    "def findPeptide(spectralVector, weight):\n",
    "    l = len(spectralVector)\n",
    "    adj = [[] for temp in range(l)]\n",
    "    for i in range(l):\n",
    "        for j in range(i, l):\n",
    "            if j-i in weight.values():\n",
    "                adj[i].append(j)\n",
    "    #print(adj)\n",
    "    distance = [-np.inf] * l\n",
    "    parent = [None] * l\n",
    "    distance[0] = 0\n",
    "    updated = True\n",
    "    for i in range(l-1):\n",
    "        if not updated:\n",
    "            break\n",
    "        updated = False\n",
    "        for u in range(l):\n",
    "            for v in adj[u]:\n",
    "                if distance[u] + spectralVector[v] > distance[v]:\n",
    "                    distance[v] = dist[u] + spectralVector[v]\n",
    "                    parent[v] = u\n",
    "                    updated = True\n",
    "    #print(dist)\n",
    "    u = l-1\n",
    "    path = [u]\n",
    "    while 0 != u:\n",
    "        u = parent[u]\n",
    "        path.insert(0, u)\n",
    "    print(path)\n",
    "    peptide = Generate_Peptide(weight,path)\n",
    "    return peptide"
   ]
  },
  {
   "cell_type": "code",
   "execution_count": 298,
   "id": "d1a910b8",
   "metadata": {},
   "outputs": [
    {
     "name": "stdout",
     "output_type": "stream",
     "text": [
      "{'G': 57, 'A': 71, 'S': 87, 'P': 97, 'V': 99, 'T': 101, 'C': 103, 'I': 113, 'L': 113, 'N': 114, 'D': 115, 'K': 128, 'Q': 128, 'E': 129, 'M': 131, 'H': 137, 'F': 147, 'R': 156, 'Y': 163, 'W': 186}\n",
      "[0, 30, 0, 6, -14, 7, 29, 25, 26, 4, 22, 9, 7, -16, 17, 26, 3, -14, 11, 25, 11, -17, 7, 30, 26, 30, 0, 21, 17, -12, -15, -9, 0, 7, -9, 12, -1, 26, 8, 22, 29, -4, -11, 6, 4, -7, 6, 7, 30, 29, 19, 13, 23, 16, -10, -9, -11, 23, 11, 23, -19, 4, 14, 2, 11, 20, 7, -1, -3, -14, -8, 9, 4, -14, 19, 11, 23, 30, -12, 11, 10, 4, 12, 27, 18, 9, 15, 28, 10, 27, -1, 20, 10, -6, 25, 0, 24, 2, 26, 30, -16, 21, -9, -14, 14, 22, 3, 12, -15, 15, 8, -11, -17, -16, -1, 20, 27, 10, 1, -13, 0, 20, 9, 5, 1, 18, -19, 30, 26, -5, -2, 20, -16, -13, 24, -18, -7, -20, -4, 8, -1, -10, -11, -14, 30, 26, 9, -5, 26, -16, 28, -1, 19, 17, 20, 25, -14, 11, 27, -7, 25, 12, 21, -15, 0, 3, 6, 13, 9, -2, 26, 1, -15, 25, 20, -11, 23, 5, -20, 28, 9, 19, 0, 9, 7, 21, 30, -1, 14, -17, -2, 3, 16, -13, 6, 21, 27, 2, -15, -6, -3, 7, 21, -9, -10, -15, 30, -3, -13, 9, 7, -2, -5, -12, 25, -20, 2, 11, 19, 30, 10, 9, -3, -18, 21, 0, 19, -4, 30, -16, -5, -10, 27, -3, 26, 12, 5, 5, 26, 21, -2, 30, 23, -7, 16, -11, 3, 16, 7, -4, -20, 15, 22, 8, 12, -10, 2, 0, 1, 27, -2, 17, -17, 24, -17, -12, -15, -11, 10, 12, 18, 26, -15, 29, 24, 9, 11, 17, 27, -6, 23, 8, 15, -17, -15, -9, 29, 19, 11, 26, 10, -20, 0, -6, -13, 11, 27, 1, 17, 18, 16, -20, 13, -7, -14, 4, 28, 30, -4, 10, 4, 3, 0, 17, 15, -14, -18, -10, -5, -16, -12, 20, 20, 12, -6, 6, -11, 18, 4, -19, 28, 20, -10, 14, -3, 28, 28, 23, -13, 24, 18, 25, -8, -4, -20, 25, -4, 18, -3, 24, -13, 7, 10, 2, 13, 1, -15, 11, -3, 23, -1, -19, 30, 23, 2, 0, 0, -16, -5, 19, 6, -3, -15, 21, 13, -12, 19, 30, -16, -10, -4, -17, 6, 23, -4, 24, 6, -4, 14, 2, -12, -16, 11, -16, 12, -4, 30, 22, 1, 5, 8, -19, -4, 9, -17, 26, -14, -6, -1, -11, -19, 0, 10, 22, 9, 1, -5, -15, 10, 10, 28, 24, 23, 22, 22, -18, 14, -2, 3, -14, 22, 7, -15, 5, -5, 23, -12, 30, -1, 17, 13, 27, 19, 22, 14, 1, 0, -11, -12, -6, 6, 19, 0, 19, -6, -4, 21, -19, 12, -16, 27, 19, 6, -11, -3, 13, 12, -13, -11, -13, -17, -20, 19, 30, 14, 14, 25, 21, 16, 0, -12, -14, 27, 15, -5, -16, 19, -10, 2, -13, 7, 0, 8, -8, 24, -3, 16, 5, -2, 9, -14, 27, 1, 14, -14, -9, 21, -18, 11, 13, 18, -1, -4, 24, -7, 19, 15, 19, 13, 6, -13, -8, -15, -19, 17, 25, 23, 29, 7, -20, 9, -12, -10, -14, 2, 15, -11, -10, 0, 19, 16, 11, -16, 5, 11, 22, -3, 12, 13, -14, 7, 11, -16, 1, 22, 11, 17, 6, 21, -7, 12, 7, 7, 11, -18, 16, -1, -5, 9, -5, 7, 6, 4, 7, -4, 14, 15, 6, 27, 10, -5, -14, -9, 20, 13, 26, -14, 28, -14, -15, -19, 14, 0, -18, 7, 10, 29, -15, 17, 30, -16, 1, 4, 22, -14, 18, 10, -7, 13, 15, -5, 7, 14, 27, -15, -10, -8, 5, -15, 19, 26, 14, 24, -3, -8, -3, -4, 30, 21, -9, 27, -11, 10, 19, -5, 21, 2, 24, -10, 20, 5, 30, -14, 30, -11, 9, 20, 18, 27, -9, 29, -4, 10, 29, 17, 22, 29, 17, 21, 8, 10, -18, 15, 11, 22, 13, -18, -8, 30, -17, -16, 20, 26, 6, 23, 28, 22, 12, -7, -9, 15, -13, 20, -4, -18, 9, 21, 8, 4, 14, 19, -6, 0, 15, 9, 19, -5, 10, 15, -3, 11, 27, 29, 13, 5, -5, 7, -13, 5, -7, 21, 23, -11, 26, 3, 9, -12, 26, -12, -5, -4, 26, -13, 27, -15, 15, -14, 19, -11, -20, -15, 29, -11, 24, 22, -1, -10, 1, 28, 1, 30, -9, 12, 6, 5, 7, 7, -18, 5, 11, 15, 22, 23, -14, -15, 17, -7, -3, 5, 10, 5, -12, 28, -2, -3, 29, -17, 0, 5, -7, 8, 19, 16, 18, -11, -5, 28, 9, 12, 17, -17, 10, 27, -19, 10, 3, -3, -12, -1, -10, -6, 14, -6, -18, 16, -11, 13, -10, 29, -4, 11, -8, 8, -19, 12, 26, 20, 15, 16]\n",
      "[0, 57, 128, 185, 242, 339, 396, 453, 524, 637, 694, 751, 808]\n",
      "GAGGPGGAIGGG\n"
     ]
    }
   ],
   "source": [
    "txtFile = \"/Users/HussainAlkhayat/Desktop/MS_Fall_2022/CS 249/HW4/integer_mass_table.txt\"\n",
    "\n",
    "file = open(txtFile, 'r')\n",
    "data = list(file.read().strip().split())\n",
    "weight = dict_from_table_weight(data)\n",
    "print(weight)\n",
    "\n",
    "txtFile = \"/Users/HussainAlkhayat/Desktop/MS_Fall_2022/CS 249/HW5/dataset_746427_13.txt\"\n",
    "file = open(txtFile, 'r')\n",
    "#data = \"20 2 -14 -4 -10 -4 5 16 20 -12 -1 -9 11 -11 12 3 -1 0 3 21 3 -2 10 11 -11 15 17 2 4 8 -19 28 28 29 1 21 27 -15 25 -15 10 10 26 -9 -13 7 -6 9 27 -3 2 -12 0 20 26 -14 15 29 10 30 -17 25 21 -6 26 25 24 6 9 29 -13 27 16 -5 27 25 -3 -20 3 12 27 5 29 3 -13 9 6 12 14 -14 -17 -8 -13 17 6 20 0 -20 -7 -4 -12 18 7 11 3 -8 23 0 -6 27 6 -20 6 1 15 -14 -20 -3 22 -13 6 10 10 -18 -6 -1 -14 8 16 -4 -12 -12 -11 30 11 -4 -11 10 -15 23 -19 27 -17 -3 -3 13 12 -19 5 22 -8 19 21 -6 21 -20 -6 4 -20 -5 17 0 2 13 24 22 6 20 -3 17 -12 24 -18 5 -12 -9 -17 17 -3 29 9 -12 1 -17 -4 8 2 17 -20 28 -15 -11 26 16 19 4 23 -18 22 -15 1 16 14 30 3 12 -5 27 14 -5 29 5 13 16 -3 4 -9 -20 11 11 12 13 2 13 -2 -15 3 4 -20 28 -8 4 28 5 28 16 -3 3 19 17 6 -5 6 -15 6 15 -8 29 22 -3 -5 -5 16 24 14 26 -19 13 -17 22 16 -20 -7 14 -11 -10 -19 30 14 28 20 14 12 -11 -19 -4 -19 -20 22 2 -5 9 -10 -4 -12 15 8 22 27 5 9 18 -13 27 27 -12 8 28 29 -12 -9 29 -15 -7 7 18 -6 -4 -15 -11 23 25 27 -8 3 22 29 7 16 -8 11 -17 -9 5 22 4 -17 7 -18 2 0 -8 2 0 3 -6 23 -3 -17 21 9 -6 7 3 20 9 24 -11 21 1 25 30 -17 -11 12 -13 8 7 -12 -17 0 -1 19 20 -11 13 -6 -14 6 -4 27 6 -18 -4 21 20 -11 21 16 -15 2 -8 8 24 24 -15 -12 -5 -20 -15 27 29 25 -19 -20 14 -16 7 18 -15 25 11 -12 -5 1 -4 12 14 -3 -11 14 -14 25 4 21 -2 -1 -17 23 -3 -9 19 26 8 -18 2 3 20 19 -15 -20 3 26 -3 11 -14 8 25 -16 8 8 2 23 29 -10 28 -16 13 -1 11 22 -20 8 18 2 -16 -17 18 30 0 -19 23 -6 -10 11 24 16 27 19 -16 -17 -9 -8 -5 1 5 0 15 9 24 10 18 10 -7 -9 12 10 21 27 -10 4 -13 -17 -1 3 -17 0 -7 -20 20 29 -13 -11 -4 -12 11 3 25 26 20 27 14 29 17 19 -2 8 17 -8 -8 14 -15 -5 0 23 0 23 22 24 13 1 25 -17 -16 7 18 4 24 -9 10 -12 17 8 28 3 29 -2 26 -8 -3 22 23 -19 1 18 -8 -4 21 29 29 6 -5 5 24 -9 -12 -9 -10 3 5 0 -7 23 22 13 11 16 -20 28 -8 -17 -3 13 13 24 8 13 14 6 -5 -3 20 24 -19 14 -9 -6 16 3 28 -20 -18 11 -18 15 7 29 5 11 -14 21 6 16 -4 16 -10 -17 7 10 2 25 -16 1 16 -19 20 5 1 -3 5 11 21 21 -1 6 -11 -7 28 -8 8 -10 3 24 -9 -4 21 -6 1 -1 11 -13 -12 20 20 -13 -14 -20 -19 26 15 -16 -5 -9 10 4 5 -10 23 14 22 9 -16 16 21 9 15 3 30 6 8 22 25 24 22 1 -16 -3 19 6 -4 -7 -6 25 -13 13 15 21 10 30 -12 19 -1 -2 -19 14 29 -16 12 -17 -8 -12 5 8 25 18 22 7 14 13 25 -20\"\n",
    "\n",
    "data = file.read().strip().split()\n",
    "spectralVector = list(map(int, data))\n",
    "spectralVector.insert(0, 0)\n",
    "print(spectralVector)\n",
    "pep = findPeptide(spectralVector, weight)\n",
    "print(pep)\n"
   ]
  },
  {
   "cell_type": "markdown",
   "id": "36e04d7e",
   "metadata": {},
   "source": [
    "# Peptide Identification"
   ]
  },
  {
   "cell_type": "code",
   "execution_count": 318,
   "id": "88451b3a",
   "metadata": {},
   "outputs": [],
   "source": [
    "def pepIdentification(spectralVector, spectralPeptide, weight):\n",
    "        lenSpect = len(spectralVector) - 1\n",
    "        lenPep = len(spectralPeptide)\n",
    "        score = -np.inf\n",
    "        peptide = ''\n",
    "        for i in range(lenPep-1):\n",
    "            for j in range(i, lenPep):\n",
    "                tempWeight = [weight[letter] for letter in spectralPeptide[i:j+1]]\n",
    "                if sum(tempWeight) > lenSpect:\n",
    "                    break\n",
    "                elif sum(tempWeight) == lenSpect:\n",
    "                    prefixMasses = [sum([weight[letter] for letter in spectralPeptide[i:i+k+1]]) for k in range(j-i+1)]\n",
    "                    currScore = sum([spectralVector[m] for m in prefixMasses])\n",
    "                    if currScore > score:\n",
    "                        score = currScore\n",
    "                        peptide = spectralPeptide[i:j+1]\n",
    "        return peptide"
   ]
  },
  {
   "cell_type": "code",
   "execution_count": 317,
   "id": "64b8a813",
   "metadata": {},
   "outputs": [
    {
     "name": "stdout",
     "output_type": "stream",
     "text": [
      "{'G': 57, 'A': 71, 'S': 87, 'P': 97, 'V': 99, 'T': 101, 'C': 103, 'I': 113, 'L': 113, 'N': 114, 'D': 115, 'K': 128, 'Q': 128, 'E': 129, 'M': 131, 'H': 137, 'F': 147, 'R': 156, 'Y': 163, 'W': 186}\n",
      "['19', '27', '7', '27', '8', '-14', '-7', '28', '7', '-18', '30', '4', '26', '13', '19', '-10', '25', '11', '17', '19', '-12', '21', '-20', '-7', '-3', '21', '12', '3', '21', '6', '-6', '-14', '17', '-9', '4', '-14', '18', '16', '-8', '-14', '0', '-15', '10', '27', '14', '14', '-1', '13', '-9', '-17', '16', '-11', '-2', '-4', '3', '0', '26', '13', '14', '17', '24', '-17', '27', '-19', '22', '10', '11', '-3', '25', '27', '20', '-20', '-16', '-17', '8', '14', '-2', '13', '10', '-19', '-3', '29', '-10', '12', '-18', '-15', '8', '22', '4', '-9', '-7', '-5', '21', '-17', '-10', '17', '-9', '28', '11', '-8', '29', '-11', '23', '11', '-13', '-4', '20', '-11', '12', '1', '30', '-11', '8', '24', '6', '-14', '-20', '-19', '23', '-6', '15', '26', '26', '-13', '9', '-10', '-19', '22', '16', '-14', '-7', '-18', '16', '26', '15', '-13', '-4', '-6', '-13', '12', '2', '-1', '3', '-13', '-16', '-1', '16', '-15', '-6', '22', '-2', '22', '14', '-20', '29', '17', '20', '24', '20', '-12', '6', '-20', '-8', '-9', '17', '-17', '-15', '-10', '6', '24', '5', '16', '-13', '10', '14', '-9', '2', '14', '-9', '25', '-7', '21', '23', '-3', '8', '17', '19', '4', '-11', '-8', '-3', '7', '20', '30', '30', '-20', '24', '8', '-15', '-18', '-5', '-10', '26', '20', '28', '-18', '16', '-6', '-15', '17', '5', '21', '26', '30', '27', '28', '0', '-11', '-2', '4', '-18', '17', '25', '0', '22', '-1', '-4', '-6', '-10', '-11', '-8', '-1', '-19', '6', '1', '20', '28', '-17', '-7', '-11', '-11', '-1', '13', '19', '18', '1', '-15', '6', '-2', '5', '17', '-15', '6', '-10', '-13', '9', '2', '-18', '9', '-3', '28', '-8', '8', '12', '29', '8', '6', '-10', '25', '26', '-1', '-2', '5', '5', '17', '21', '11', '9', '14', '10', '28', '-1', '26', '-10', '20', '23', '22', '-1', '-12', '-15', '-18', '22', '-11', '26', '25', '-13', '-18', '20', '-13', '-7', '-12', '-17', '-13', '24', '15', '-15', '-8', '-7', '20', '20', '11', '4', '4', '9', '8', '22', '7', '-1', '-15', '7', '16', '-10', '0', '20', '-11', '-2', '-6', '-17', '14', '-19', '-7', '2', '16', '1', '9', '-7', '2', '12', '-2', '23', '-13', '-17', '15', '17', '10', '-8', '18', '-9', '-13', '3', '30', '23', '12', '26', '29', '8', '1', '-12', '8', '-2', '12', '-1', '24', '-17', '15', '-2', '-16', '14', '14', '2', '13', '-12', '-14', '-17', '4', '-2', '30', '-12', '18', '-10', '23', '-17', '7', '5', '16', '30', '-19', '15', '-7', '-2', '18', '1', '-5', '30', '7', '-9', '26', '9', '-14', '23', '14', '21', '7', '-5', '8', '-17', '0', '-19', '19', '2', '5', '22', '-3', '21', '11', '4', '11', '6', '7', '-10', '7', '6', '25', '-4', '14', '12', '-16', '-12', '4', '15', '20', '15', '10', '19', '-4', '-3', '17', '16', '4', '22', '9', '24', '-20', '10', '-6', '-7', '11', '26', '22', '-17', '1', '-10', '-3', '-4', '-5', '11', '17', '11', '-8', '-1', '24', '26', '29', '-12', '17', '27', '0', '6', '2', '8', '30', '15', '0', '-18', '-4', '-16', '14', '2', '11', '24', '15', '24', '-1', '29', '23', '24', '22', '13', '-4', '22', '26', '22', '5', '30', '9', '-14', '25', '8', '-14', '-4', '15', '-9', '-15', '24', '22', '11', '18', '6', '0', '-2', '30', '28', '13', '-11', '-9', '25', '26', '-5', '20', '-5', '23', '2', '6', '-17', '10', '20', '9', '-10', '5', '5', '-16', '0', '19', '26', '20', '-7', '-11', '19', '-19', '1', '27', '28', '-19', '-16', '-7', '27', '-16', '-18', '24', '2', '15', '-14', '11', '2', '14', '5', '-17', '5', '9', '2', '5', '-14', '-15', '8', '24', '-5', '-18', '-16', '0', '3', '15', '21', '20', '-3', '11', '16', '-11', '23', '-12', '15', '4', '-17', '-8', '-9', '8', '-16', '25', '-19', '5', '-16', '29', '22', '-13', '-11', '27', '30', '7', '-5', '0', '1', '13', '-18', '-5', '5', '10', '23', '-12', '-5', '-6', '28', '21', '-18', '25', '-19', '-10', '0', '17', '2', '21', '-2', '-18', '-8', '-8', '-1', '11', '-17', '15', '-16', '25', '5', '-1', '-12', '-8', '29', '4', '-19', '23', '22', '-6', '-8', '-9', '28', '24', '18', '-11', '0', '17', '14', '2', '-10', '-7', '-17', '-6', '20', '-18', '-5', '-17', '23', '0', '24', '18', '6', '14', '14', '-13', '-13', '16', '4', '-3', '-7', '17', '29', '-17', '20', '-4', '15', '4', '7', '8', '-3', '11', '26', '1', '-11', '0', '-13', '26', '20', '-4', '29', '29', '27', '22', '-5', '-4', '17', '24', '-15', '-7', '15', '22', '7', '27', '8', '-7', '24', '26', '-4', '28', '4', '-13', '-17', '10', '-16', '30', '30', '28', '19', '13', '20', '-17', '11', '26', '12', '14', '5', '-16', '-7', '-2', '1', '18', '27', '30', '26', '4', '-13', '20', '-7', '-8', '22', '27', '-18', '-9', '-16', '-4', '-16', '29', '-19', '-11', '29', '11', '-5', '20', '4', '7', '-9', '-15', '-15', '-8', '-6', '-12', '-9', '-6', '26', '19', '7', '19', '19', '-15', '27', '0', '14', '-12', '-3', '16', '28', '20', '15', '-20', '4', '-14', '4', '25', '-8', '2', '0', '-13', '13', '27', '7', '9', '11', '23', '23', '-7', '-19', '10', '29', '28', '20', '-9', '-18', '16', '16', '-7', '2', '20', '5', '7', '-16', '24', '12', '16', '0', '4', '24', '15', '27', '19', '23', '27', '29', '25', '27', '16', '-6', '26', '14', '2', '-17', '1', '-8', '23', '22', '9', '25', '19', '16', '28', '13', '2', '22', '19', '-16', '29', '-1', '-11', '29', '0', '6', '25', '-16', '15', '-14', '10', '19', '-4', '-4', '20', '18', '16', '-8', '16', '-19', '-8', '-19', '15', '13', '19', '18', '-11', '5', '-5', '14', '-10', '-20', '-12', '6', '8', '7', '24', '-7', '23', '30', '-1', '-13', '30', '-6', '-17', '7', '9', '23', '-10', '15', '24', '-2', '0', '12', '-6', '13', '9', '6', '-9', '24', '22', '-10', '0', '-14', '-17', '-2', '8', '7', '21', '-7', '-11', '9', '8', '29', '30', '-5', '0', '5', '-20', '15', '16', '19', '-11', '9', '-18', '-4', '30', '-11', '25', '14', '-10', '-16', '30', '15', '25', '-12', '7', '0', '-9', '1', '14', '4', '10', '10', '14', '20', '7', '25', '28', '-10', '3', '23', '17', '-10', '-17', '5', '4', '9', '-20', '4', '6', '-9', '14', '27', '-16', '11', '-10', '-4', '-20', '-8', '0', '17', '10', '-9', '-19', '-12', '12', '-16', '11', '-5', '7', '-7', '-11', '17', '-20', '2', '26', '-9', '10', '-17', '8', '-16', '27', '10', '14', '29', '7', '-20', '-12', '6', '14', '5', '18', '9', '-12', '7', '30', '14', '-18', '-2', '11', '-15', '18', '15', '4', '28', '5', '25', '-10', '-6', '3', '22', '10', '-4', '-12', '-20', '21', '11', '30', '14', '-9', '6', '-11', '29', '8', '9', '-7', '1', '4', '9', '-17', '-14', '4', '3', '16', '17', '15', '14', '18', '-18', '-2', '7', '-12', '25', '3', '-13', '-11', '24', '9', '5', '5', '-11', '-4', '15', '10', '6', '24', '-2', '-19', '-20', '10', '-13', '-17', '-4', '23', '-13', '14', '-13', '16', '26', '-3', '-2', '-10', '21', '-2', '-19', '-10', '30', '-7', '20', '21', '4', '-8', '11', '9', '-15', '-3', '-3', '8', '-3', '14', '7', '-9', '9', '26', '7', '-19', '15', '21', '-17', '-14', '7', '29', '-18', '-13', '9', '-4', '3', '-18', '-11', '-6', '7', '-17', '9', '3', '-20', '13', '-5', '-20', '5', '3', '10', '-3', '26', '-17', '-7', '2', '-12', '30', '-7', '9', '-9', '17', '8', '-5', '-20', '-2', '23', '-14', '-6', '-2', '6', '4', '30', '-16', '1', '-11', '-9', '1', '7', '5', '-15', '5', '-17', '-14', '17', '-3', '27', '5', '22', '-11', '-3', '0', '-10', '15', '-7', '-19', '-10', '-14', '23', '-8', '7', '3', '2', '-1', '12', '-1', '-6', '10', '-19', '-7', '6', '26', '-16', '15', '-6', '1', '21', '16', '-6', '6', '28', '20', '0', '-8', '11', '12', '26', '-19', '4', '-6', '17', '-15', '29', '-18', '6', '7', '14', '9', '22', '14', '-17', '12', '1', '8', '23', '-5', '-10', '23', '24', '-12', '9', '-12', '-20', '-12', '-20', '10', '-12', '-2', '11', '-9', '-8', '-7', '15', '21', '1', '-20', '26', '-6', '2', '28', '24', '26', '30', '23', '27', '22', '-9', '19', '23', '-11', '1', '-3', '-2', '29', '-9', '-19', '3', '-1', '-19', '23', '30', '3', '-8', '20', '21', '28', '15', '8', '22', '-2', '-1', '-13', '-13', '25', '-7', '-2', '-18', '8', '-10', '13', '-12', '28', '13', '25', '4', '21', '-3', '4', '13', '-20', '2', '16', '-17', '12', '4', '24', '-14', '-5', '-17', '1', '22', '11', '-9', '-20', '17', '-16', '-4', '29', '23', '17', '-2', '-20', '-18', '-4', '-9', '11', '20', '30', '5', '5', '-4', '-18', '-6', '-19', '7', '-11', '-5', '17', '-9', '-19', '14', '26', '-5', '3', '-2', '12', '-17', '-10', '-17', '-10', '13', '-15', '-1', '-14', '-16', '14', '0', '-9', '-18', '-11', '28', '-11', '-20', '12', '-12', '26', '-17', '10', '7', '21', '0', '5', '6', '-12', '-5', '-5', '-14', '30', '14', '-16', '-19', '-16', '0', '-11', '22', '-19', '-2', '14', '-12', '16', '29', '20', '7', '11', '16', '10', '-7', '0', '20', '26', '-6', '-19', '26', '15', '-10', '-8', '13', '-19', '11', '14', '20', '-9', '23', '-9', '-9', '11', '18', '-5', '0', '28', '-9', '28', '15', '-11', '27', '-6', '-9', '3', '29', '11', '2', '-18', '10', '23', '20', '-15', '20', '21', '1', '6', '-6', '23', '9', '-18', '-14', '25', '22', '-7', '10', '21', '-17', '27', '28', '24', '11', '15', '-7', '14', '8', '9', '26', '19', '7', '-15', '23', '-1', '5', '-18', '21', '0', '-17', '-12', '-4', '17', '-15', '24', '21', '17', '6', '-18', '27', '29', '-6', '10', '10', '30', '2', '8', '-8', '2', '12', '9', '-20', '-2', '-14', '17', '-12', '-14', '1', '23', '7', '18', '21', '17', '-13', '20', '0', '-5', '12', '-15', '15', '30', '-10', '-14', '21', '-14', '10', '-15', '2', '-2', '29', '7', '9', '22', '-11', '-7', '15', '-17', '21', '-20', '13', '-20', '18', '14', '13', '-6', '-16', '-8', '-11', '24', '8', '-7', '27', '-20', '-4', '5', '-6', '1', '-7', '-12', '-18', '2', '0', '-5', '-19', '-19', '-13', '-9', '-1', '-7', '-9', '10', '24', '5', '-19', '-12', '20', '-9', '-10', '15', '20', '0', '29', '24', '28', '-7', '28', '19', '29', '-1', '23', '-3', '-9', '-11', '-12', '29', '6', '29', '17', '6', '-13', '-16', '-9', '18', '-11', '-3', '19', '-15', '25', '18', '7', '7', '21', '7', '11', '30', '29', '-20', '11', '-18', '16', '3', '13', '28', '-6', '9', '-18', '-3', '-3', '-1', '11', '17', '17', '25', '-1', '-15', '22', '3', '-11', '1', '7', '8', '27', '-1', '18', '-19', '18', '-10', '-2', '8', '30', '21', '17', '18', '9', '13', '15', '18', '9', '3', 'VAWTTGSCTSSSWTAQWSAQHQSCRDPRSPEGRCYMYQCEFASLRNDPTWICELGGASFFCFGICMYRGNDYYSRPDHQPQEQSIDYECPKMLAHEHWYPETLSPGFPTGNTFFLECNCQGWLVCHDAGMSRSCRQRFGDQYKLWSEMLYWWWVMWCMTGGSEFQWFDHMGCQIQPQWNPNADRRLVNDLKIAFMRGQYVYHAPKLHDPFISNYTSPCVSMVGLFMSMLPNHCHIQCCWEHCCGTIGCKFYIKMTCDDFNNGPVVERAIMDTSWLYGHSKQGVGYQGYEFYLMKDNGGQWWCHDRIKISRIRIRWVCQVKVAFQQMSWIAHMLTQCVGSNNGFLNIAQCLWNAASALIQSEIHDGIFTIDIYGLLGMCIQESQMCCKFLNFDLIKWRGMQWEIGGIYDLAQTEYMKNAINSVENGPPPNVGQTIYVMTHLKSTWYCVLMAGCRTCYGMFRDESSKWCIRQWPQKHRCFMIIKKCWFTTNGAEDLAPLKWDNRYPCDPQEDLLMMAQTMESKMYRCEYEMHMRCYGRNCLVFPYTTFFHIHTCQSIDIESWGESPYFFGCEMMAVAVIILLCHNEWDKFTEGAYFNYPLTDTMYRIHGNSCRKMSECMYVWCPHKWRKFKWEDYENMFDWQFTRAMPHDCYLLCRCAYMSQTWDPWKIEFPFLNPPINNFEHHSATCWKKYNEALPGQDWQHEDKRLGAAVIQSASAYKWIYACNPVNFIEQTMDEQPVTKIRMLVEVMVSYWLYPQRMIIVPSFEGGKEHDPVSKSMEIDRFPWLGCPQYVDERQAKAFRGCRKCICFVYWAYSSFKDTTGSWLLHMCGTNVQWAKAQFDNMKPWSWREVEERWQDEIFIRWPVMSGAGSWAIEMRIQLRPDFTWPLFERGDYDFYHEDMEDPLFRWWFKNRWAIKYCGVNMTDNVVNFTRNTTRGEFNEWHMGLGHCGSNKKGYENDQEEHGQNSYLERQIDERTPRGQGGMRNEMRDMCYNGVRAWKYHDLLDWAPHLICKFANYILMITSRLSREANNMEASPTLYDLHSKIWENWHCTGHCKTMMCQPTVEAPNYQEENKWAMQSIYFIAICYIQDCNGWQKDNYIFSVVFHECGIHGVEGNPYPQQVVLAYQIPPRSFGQMTLCHEYWVHHKMCQKESWSPVVRYFHHDKCDNETGDKWFMCKYIHRNFTQKGWFQENEHLRMTWSFYVMPHVDAYYSMKLVNPQKRNRWLINQNLFVEEQHGMGFDDRAIVASWCFHVISLYRFATAYVDPGGYPPKQDKCGQLRLVTFNEEHHNEDWQDEGAGFHFPHRGYVASSSPDTCRNIQMHDMCLANQYNVLPSVFTKRQLEIGLFVCRRARANELCWSEQFYVKMFLNGPIGFCKLEFACKAYNHRNNRVVFQSLVLTKWIKAQNLVHFCIMTEEFYITLEKRQMEWVYNEQVNTQSVEPWSNIELIAREMNVTSMADSLHNDYNVWITIYTVSKVRADINMCEPRFSGDMWHDCKYSPVHPADQIYRCTDYTMKRKSYYTNTAAMLHVWFPTGQWLPGTDTWNRHWFTHIFPSVDCFLRVDSDVHTQWKHFGESITVLVSKPPSCPNVWFALIIISNRSWADKLVEWGEEQDEDFHTMFNHWAHMVYKQHWAATIASGMWWSPSDIRPVDDEYPDMFRYDCQGRQRVNDPCCEVKVNIWFFQFLWMMDLIRQVFVFSCLAHKFEPMDGWVDVDQIQKNWCKWIQYGKVPYPFEPVLEIRMQICNDTMPGWSEENYAVHPILCDAENFDVWHQNSVEHCMHTLDRYTLPTMRFKVRFKGWEATQYRYAHDLCYPYWFCKLDQRDTWMPHSWIQWGIPADGWVEWYDAHELCECFTEKENLQSAGGIWCYEACSHVQFIYDEQYKFHMNNLKKSEVEYIRGSKYTEPSLQKQEYYLRCNETGQWSVMFDVHMYQDNGRDPWVCPWPTIWMYLMEIDHDMTAIHVPPFRLAPQCMVFKMVFVPSHAEVLCDCVLEPTPPFCGLDSMQDSAWYPNIISSHGQLIERECSPRKQMKGWWVSQPIEFRNEKKYDFDNSNGGSANRGFEKISDRASIGFRLMDQFTSDDRYLTFVIALGSWFTNDNMYYGWCHNLDNDEVETWLGNDVPDFVFMPWLVTTCEIPSHPYVQYVGQQCDNCCWYMPNPNWRLGQDRYSQEINFNAHDQWCFACFTEHKNGTTEHWQQQPCDDHIWDPEWWLMVFHMYGPMMMYWSKNATAPYYRNQYRISDNFFPRNKITACTPGELCQSVAFEYIGHCLYKCLANWGIPSMAYLRDSIWNEIRHVKFQGHHKDWPGGINLVWIHIIHHTSNIHCHQHIHMRLPFKSKKEDKDQQPPYNVRLCFRANKPWHCDWEPLDPMEEADCTACDRYMVMEHGYRDTKEKTQQFYNRITNPSDDIGGQKILMRWPQEHQFWLIQIIMLYMRAIWRMIDRGPLPQCGFQMLLFDVQFTNLNCYSAYSILSQPQKYTLWAPFFFNRYPCYWVAIKPIWQWQAICFDHYVPLECPHRYRKWIDSCLPHEFWLCWMRGSLRMTWCIYSDIHNWSMHEYIRRWDCIWYEIETIEHMDDLRNMGDMIDLTWLNMRTMAPYDHHQCLKLNRKTCVGFGLMYSDWKKCYPYKFTGENYTVHPSYETTPCWASNAVQTTDQHSPPNMAMAIPTTCKMCTEMTLNLNICINEIMEKGRKCRYLRTYASHWQGAISIMDSGYCLAVSNYSETTWMDGMNGKVDFLFQQCAAHAEGKYDVLYECCHSYARCADNKQVMPYDEIPKPQCFWKDTHLWVQHEQTCAHNFWQLFFFAQLKWTAYTAILYIHLWCFVLLLQHYRNDPCCEAFLPQQDADRWYYTRCGHDAEDRWSEAWPWPLCWTDDKIYASNIRQTIKAQSPCHGLAWIFENDASQVQQSMTTAHMQDHGVDTSRCDDWVYHDYDALLPKYHEFHHLMGNDWPRDITLVEDDDTMQLEDEQMCEWSYYYVVGTTEINHLHMYGFRYVDPCRWEPWSHKKNDNVCNAPHGDKMNSQILLHRYVKIKYRGWQHFYFPPCQSASFLKFKIQCENLNDGMDPPMSQPAEGGEYYWGSLFTGCMGSWQILEEKNLELSEMLQLHWCWNIPVQKYDFAIYGFEYWRARRSEEWIQMIELIPISWTYKLAEAHEFFDDYLRFSHKKHNSGARVHHCGMSEQTPDWNGFVGMWMDMHNQQEKMGVKVTKENIHCPDFIAMCDRFPSQFQSMLLPLAGGGAYNVHCLWINNEPNMRHWITHADDFGDRSTMVSCCSHCCRIDHFAVFMWQLFVTYDNQSDQQDIQLGSARPDIGQGMDHQQQDVALNHDWHIGTGPEHCARFMYCSLCLSVTYTWSPLCDDCVRLQPNQVDHSILCPVINVMHTNIWTTTSVLDLAFRWADHRCIEPLCYWWRRRCIHRLKLNIGRAFTAFSNHNYPHENDDMSWWSEHWQWSYFATRWPWMNYNAHKPPYCNMGRIPIRRRHHDWSDCDNEPNIALKSDNCKSTQHEPPSESCAIRQECNLYLVEDGPGAHFSDFGFDGMVMVLLGGCFHTLHTTYDFVCVQPTVDTVRWGNPRMFIVVVPYSGFEDSGDDSEPTHIWNRDFTICGLDKRGHDVNIQGNNMKCVLKHSWLSDQWMCTVYVPDEPFVGDRGAEAGKGHSIGRSYSNGWWMVPPPYPKKVTNSMHWEDLNVMSTLCNNYPGHYKQFWYCVPFVWEGAPEILTPTLPWMWRHASKGMLWEEIYPVIDQRQGMSCNTQKMRPEPRNAHQIWNTDLARMRWWMVPHRTIKHSMATCSKRVRACECSICLACQCHPRNNDVWPKHWMPSMWSRMFIDVWMPPENMISQPTWKVFIPSGTCILMFPLISSSLIFHETTSHNNCHHHYQLETNEDDVHCPFWQFAGDDTHTNIIEKMAVNIVKCSRETKGKAFHQCHIARRPTYNKLRPGKQSQSFLQACKAKEMWPRTCYGRISRFAGMWDLVNHSIDIVHSHHVWSHTEQKDMIKRYQKKMNSWGVPSHPCCNHYHSQILLYMIKWKWMMAIIMEAKMNHQFLHLMEQRHSGVWNDIIGGGDRGQDQPHCRYGEARPKTYFVLCHNDYCYSINKNFWLLAHHTQRFQWANELWLCGSLNCRQQNHQNWHMMGQKGESCWKKGTYLLLCMSNRRWLSMRLDQVLYKVRTGQVYCVANSMPHFWLEFDKTGHSSWAIEHRYSMSFFIRQITREDFCHTQFNAKIIIPLKAQWKGFPLAAGINQYAWDMWCFRMKVFIIYLHTNGCCLYKYHEDFHSPNTVEGGKIFIVTCMHDMDMVKARVIYLWADIPLMRNYMNPGLEWWSFLHARSTYTHMPQECAKPALFNYWIKAKHMGNPQDTGWRHHWHYETQPQMWRVDELNWITMCTFKDKPEYLTLPQQLTYYKQPFYTSIICYRCHSSNERIYWNWKGDPRNWNTGTDITDWAYNIEHWGSGIFTYAKQIPLRHEHIILMYELEFEGYSLPTFHCNPGHMNISINDCTVMSPCARIIDWDLETEYITPFRKWMTDDCCSIFPSPIRPPSKWPVYIYMYCKLWWKKAPLNKSHKWFPWKHAMWIILVFDSSPWMTTARKATTWCGPRCFKWWPTHNTVFQDMHTTEMNKCMLTRYEQLHPQCPMPLGTMSSTVMMCWRYPWMKYKHAENCSERLGCQNSPYQHTIMGWYKQQQPNHRQTMHAIYQTMCKSKQRALVCSPSCHCNWMTYRGCSNWKWVTNVAGGTAYFVKLWVEERTSGVMLFNCAYGHRREVNSLVPYQYHPPKIIQEPNEQNNNWDDCVGCTEFAIHGMMFNQYCIPPDPVHGWYKPTANMSDVFVNPVIDDNFCNFLQREVKWQWGHDQGWMVTTFFWDAKEMWWNPPKMRYSQLSPIFAQLWIDNYFHKHMVVRIAMVVPMWLTSFRNIVDGPLGTICGDKKEFVVDRHESLNRLGCVAYIMEWLKTNVYTKGAWGDNNKVDEQSMAMIKVMVNGAIWHPLINVGGNQQ']\n",
      "[0, 19, 27, 7, 27, 8, -14, -7, 28, 7, -18, 30, 4, 26, 13, 19, -10, 25, 11, 17, 19, -12, 21, -20, -7, -3, 21, 12, 3, 21, 6, -6, -14, 17, -9, 4, -14, 18, 16, -8, -14, 0, -15, 10, 27, 14, 14, -1, 13, -9, -17, 16, -11, -2, -4, 3, 0, 26, 13, 14, 17, 24, -17, 27, -19, 22, 10, 11, -3, 25, 27, 20, -20, -16, -17, 8, 14, -2, 13, 10, -19, -3, 29, -10, 12, -18, -15, 8, 22, 4, -9, -7, -5, 21, -17, -10, 17, -9, 28, 11, -8, 29, -11, 23, 11, -13, -4, 20, -11, 12, 1, 30, -11, 8, 24, 6, -14, -20, -19, 23, -6, 15, 26, 26, -13, 9, -10, -19, 22, 16, -14, -7, -18, 16, 26, 15, -13, -4, -6, -13, 12, 2, -1, 3, -13, -16, -1, 16, -15, -6, 22, -2, 22, 14, -20, 29, 17, 20, 24, 20, -12, 6, -20, -8, -9, 17, -17, -15, -10, 6, 24, 5, 16, -13, 10, 14, -9, 2, 14, -9, 25, -7, 21, 23, -3, 8, 17, 19, 4, -11, -8, -3, 7, 20, 30, 30, -20, 24, 8, -15, -18, -5, -10, 26, 20, 28, -18, 16, -6, -15, 17, 5, 21, 26, 30, 27, 28, 0, -11, -2, 4, -18, 17, 25, 0, 22, -1, -4, -6, -10, -11, -8, -1, -19, 6, 1, 20, 28, -17, -7, -11, -11, -1, 13, 19, 18, 1, -15, 6, -2, 5, 17, -15, 6, -10, -13, 9, 2, -18, 9, -3, 28, -8, 8, 12, 29, 8, 6, -10, 25, 26, -1, -2, 5, 5, 17, 21, 11, 9, 14, 10, 28, -1, 26, -10, 20, 23, 22, -1, -12, -15, -18, 22, -11, 26, 25, -13, -18, 20, -13, -7, -12, -17, -13, 24, 15, -15, -8, -7, 20, 20, 11, 4, 4, 9, 8, 22, 7, -1, -15, 7, 16, -10, 0, 20, -11, -2, -6, -17, 14, -19, -7, 2, 16, 1, 9, -7, 2, 12, -2, 23, -13, -17, 15, 17, 10, -8, 18, -9, -13, 3, 30, 23, 12, 26, 29, 8, 1, -12, 8, -2, 12, -1, 24, -17, 15, -2, -16, 14, 14, 2, 13, -12, -14, -17, 4, -2, 30, -12, 18, -10, 23, -17, 7, 5, 16, 30, -19, 15, -7, -2, 18, 1, -5, 30, 7, -9, 26, 9, -14, 23, 14, 21, 7, -5, 8, -17, 0, -19, 19, 2, 5, 22, -3, 21, 11, 4, 11, 6, 7, -10, 7, 6, 25, -4, 14, 12, -16, -12, 4, 15, 20, 15, 10, 19, -4, -3, 17, 16, 4, 22, 9, 24, -20, 10, -6, -7, 11, 26, 22, -17, 1, -10, -3, -4, -5, 11, 17, 11, -8, -1, 24, 26, 29, -12, 17, 27, 0, 6, 2, 8, 30, 15, 0, -18, -4, -16, 14, 2, 11, 24, 15, 24, -1, 29, 23, 24, 22, 13, -4, 22, 26, 22, 5, 30, 9, -14, 25, 8, -14, -4, 15, -9, -15, 24, 22, 11, 18, 6, 0, -2, 30, 28, 13, -11, -9, 25, 26, -5, 20, -5, 23, 2, 6, -17, 10, 20, 9, -10, 5, 5, -16, 0, 19, 26, 20, -7, -11, 19, -19, 1, 27, 28, -19, -16, -7, 27, -16, -18, 24, 2, 15, -14, 11, 2, 14, 5, -17, 5, 9, 2, 5, -14, -15, 8, 24, -5, -18, -16, 0, 3, 15, 21, 20, -3, 11, 16, -11, 23, -12, 15, 4, -17, -8, -9, 8, -16, 25, -19, 5, -16, 29, 22, -13, -11, 27, 30, 7, -5, 0, 1, 13, -18, -5, 5, 10, 23, -12, -5, -6, 28, 21, -18, 25, -19, -10, 0, 17, 2, 21, -2, -18, -8, -8, -1, 11, -17, 15, -16, 25, 5, -1, -12, -8, 29, 4, -19, 23, 22, -6, -8, -9, 28, 24, 18, -11, 0, 17, 14, 2, -10, -7, -17, -6, 20, -18, -5, -17, 23, 0, 24, 18, 6, 14, 14, -13, -13, 16, 4, -3, -7, 17, 29, -17, 20, -4, 15, 4, 7, 8, -3, 11, 26, 1, -11, 0, -13, 26, 20, -4, 29, 29, 27, 22, -5, -4, 17, 24, -15, -7, 15, 22, 7, 27, 8, -7, 24, 26, -4, 28, 4, -13, -17, 10, -16, 30, 30, 28, 19, 13, 20, -17, 11, 26, 12, 14, 5, -16, -7, -2, 1, 18, 27, 30, 26, 4, -13, 20, -7, -8, 22, 27, -18, -9, -16, -4, -16, 29, -19, -11, 29, 11, -5, 20, 4, 7, -9, -15, -15, -8, -6, -12, -9, -6, 26, 19, 7, 19, 19, -15, 27, 0, 14, -12, -3, 16, 28, 20, 15, -20, 4, -14, 4, 25, -8, 2, 0, -13, 13, 27, 7, 9, 11, 23, 23, -7, -19, 10, 29, 28, 20, -9, -18, 16, 16, -7, 2, 20, 5, 7, -16, 24, 12, 16, 0, 4, 24, 15, 27, 19, 23, 27, 29, 25, 27, 16, -6, 26, 14, 2, -17, 1, -8, 23, 22, 9, 25, 19, 16, 28, 13, 2, 22, 19, -16, 29, -1, -11, 29, 0, 6, 25, -16, 15, -14, 10, 19, -4, -4, 20, 18, 16, -8, 16, -19, -8, -19, 15, 13, 19, 18, -11, 5, -5, 14, -10, -20, -12, 6, 8, 7, 24, -7, 23, 30, -1, -13, 30, -6, -17, 7, 9, 23, -10, 15, 24, -2, 0, 12, -6, 13, 9, 6, -9, 24, 22, -10, 0, -14, -17, -2, 8, 7, 21, -7, -11, 9, 8, 29, 30, -5, 0, 5, -20, 15, 16, 19, -11, 9, -18, -4, 30, -11, 25, 14, -10, -16, 30, 15, 25, -12, 7, 0, -9, 1, 14, 4, 10, 10, 14, 20, 7, 25, 28, -10, 3, 23, 17, -10, -17, 5, 4, 9, -20, 4, 6, -9, 14, 27, -16, 11, -10, -4, -20, -8, 0, 17, 10, -9, -19, -12, 12, -16, 11, -5, 7, -7, -11, 17, -20, 2, 26, -9, 10, -17, 8, -16, 27, 10, 14, 29, 7, -20, -12, 6, 14, 5, 18, 9, -12, 7, 30, 14, -18, -2, 11, -15, 18, 15, 4, 28, 5, 25, -10, -6, 3, 22, 10, -4, -12, -20, 21, 11, 30, 14, -9, 6, -11, 29, 8, 9, -7, 1, 4, 9, -17, -14, 4, 3, 16, 17, 15, 14, 18, -18, -2, 7, -12, 25, 3, -13, -11, 24, 9, 5, 5, -11, -4, 15, 10, 6, 24, -2, -19, -20, 10, -13, -17, -4, 23, -13, 14, -13, 16, 26, -3, -2, -10, 21, -2, -19, -10, 30, -7, 20, 21, 4, -8, 11, 9, -15, -3, -3, 8, -3, 14, 7, -9, 9, 26, 7, -19, 15, 21, -17, -14, 7, 29, -18, -13, 9, -4, 3, -18, -11, -6, 7, -17, 9, 3, -20, 13, -5, -20, 5, 3, 10, -3, 26, -17, -7, 2, -12, 30, -7, 9, -9, 17, 8, -5, -20, -2, 23, -14, -6, -2, 6, 4, 30, -16, 1, -11, -9, 1, 7, 5, -15, 5, -17, -14, 17, -3, 27, 5, 22, -11, -3, 0, -10, 15, -7, -19, -10, -14, 23, -8, 7, 3, 2, -1, 12, -1, -6, 10, -19, -7, 6, 26, -16, 15, -6, 1, 21, 16, -6, 6, 28, 20, 0, -8, 11, 12, 26, -19, 4, -6, 17, -15, 29, -18, 6, 7, 14, 9, 22, 14, -17, 12, 1, 8, 23, -5, -10, 23, 24, -12, 9, -12, -20, -12, -20, 10, -12, -2, 11, -9, -8, -7, 15, 21, 1, -20, 26, -6, 2, 28, 24, 26, 30, 23, 27, 22, -9, 19, 23, -11, 1, -3, -2, 29, -9, -19, 3, -1, -19, 23, 30, 3, -8, 20, 21, 28, 15, 8, 22, -2, -1, -13, -13, 25, -7, -2, -18, 8, -10, 13, -12, 28, 13, 25, 4, 21, -3, 4, 13, -20, 2, 16, -17, 12, 4, 24, -14, -5, -17, 1, 22, 11, -9, -20, 17, -16, -4, 29, 23, 17, -2, -20, -18, -4, -9, 11, 20, 30, 5, 5, -4, -18, -6, -19, 7, -11, -5, 17, -9, -19, 14, 26, -5, 3, -2, 12, -17, -10, -17, -10, 13, -15, -1, -14, -16, 14, 0, -9, -18, -11, 28, -11, -20, 12, -12, 26, -17, 10, 7, 21, 0, 5, 6, -12, -5, -5, -14, 30, 14, -16, -19, -16, 0, -11, 22, -19, -2, 14, -12, 16, 29, 20, 7, 11, 16, 10, -7, 0, 20, 26, -6, -19, 26, 15, -10, -8, 13, -19, 11, 14, 20, -9, 23, -9, -9, 11, 18, -5, 0, 28, -9, 28, 15, -11, 27, -6, -9, 3, 29, 11, 2, -18, 10, 23, 20, -15, 20, 21, 1, 6, -6, 23, 9, -18, -14, 25, 22, -7, 10, 21, -17, 27, 28, 24, 11, 15, -7, 14, 8, 9, 26, 19, 7, -15, 23, -1, 5, -18, 21, 0, -17, -12, -4, 17, -15, 24, 21, 17, 6, -18, 27, 29, -6, 10, 10, 30, 2, 8, -8, 2, 12, 9, -20, -2, -14, 17, -12, -14, 1, 23, 7, 18, 21, 17, -13, 20, 0, -5, 12, -15, 15, 30, -10, -14, 21, -14, 10, -15, 2, -2, 29, 7, 9, 22, -11, -7, 15, -17, 21, -20, 13, -20, 18, 14, 13, -6, -16, -8, -11, 24, 8, -7, 27, -20, -4, 5, -6, 1, -7, -12, -18, 2, 0, -5, -19, -19, -13, -9, -1, -7, -9, 10, 24, 5, -19, -12, 20, -9, -10, 15, 20, 0, 29, 24, 28, -7, 28, 19, 29, -1, 23, -3, -9, -11, -12, 29, 6, 29, 17, 6, -13, -16, -9, 18, -11, -3, 19, -15, 25, 18, 7, 7, 21, 7, 11, 30, 29, -20, 11, -18, 16, 3, 13, 28, -6, 9, -18, -3, -3, -1, 11, 17, 17, 25, -1, -15, 22, 3, -11, 1, 7, 8, 27, -1, 18, -19, 18, -10, -2, 8, 30, 21, 17, 18, 9, 13, 15, 18, 9, 3]\n"
     ]
    },
    {
     "name": "stdout",
     "output_type": "stream",
     "text": [
      "NRWLINQNLFVEE\n"
     ]
    }
   ],
   "source": [
    "txtFile = \"/Users/HussainAlkhayat/Desktop/MS_Fall_2022/CS 249/HW4/integer_mass_table.txt\"\n",
    "\n",
    "file = open(txtFile, 'r')\n",
    "data = list(file.read().strip().split())\n",
    "weight = dict_from_table_weight(data)\n",
    "print(weight)\n",
    "\n",
    "txtFile = \"/Users/HussainAlkhayat/Desktop/MS_Fall_2022/CS 249/HW5/dataset_746428_2.txt\"\n",
    "file = open(txtFile, 'r')\n",
    "#data = \"-10 8 -15 -8 28 29 8 -17 -8 19 6 -9 7 16 -15 -13 -9 29 21 17 -12 28 22 -7 5 -20 -8 13 15 20 -11 21 -5 8 20 21 16 8 -4 4 -20 25 -18 11 15 20 12 -18 -6 -19 -10 -5 10 7 26 -10 -18 18 -8 8 -7 -4 -13 21 -6 3 23 17 24 -10 -13 7 -8 13 -11 13 -12 5 9 -7 18 3 14 25 -20 8 -19 -15 28 14 -3 26 21 23 -18 2 -15 23 -4 0 8 4 10 15 27 1 1 -8 19 10 15 18 -15 22 -5 3 1 4 6 24 16 19 25 -15 23 10 24 23 13 0 -8 -8 28 23 -20 15 -13 13 25 24 -4 20 30 -6 4 28 26 27 1 -20 5 -19 22 -7 -9 10 3 30 13 9 28 4 -7 -16 18 -15 -5 -9 7 29 24 18 8 27 29 8 11 -18 3 2 18 2 0 16 -4 1 -10 -4 18 27 26 -5 28 1 -17 -6 -2 3 -4 10 13 6 29 8 -20 4 16 18 29 9 -8 -17 21 21 -1 2 27 -7 15 27 20 -19 -13 16 12 -19 -20 -11 18 17 19 30 4 -4 9 -4 -9 -13 -6 6 28 2 -11 -2 30 -3 15 19 3 14 21 -14 -1 -17 9 0 7 -3 2 -10 -20 -3 -17 -10 14 8 1 28 24 -6 -15 6 12 27 13 25 26 11 1 -12 16 -14 11 5 -17 21 28 -4 14 13 -11 2 24 28 -7 1 -2 2 14 1 7 17 7 26 5 -18 20 23 6 22 29 13 1 -18 27 21 -20 -6 -7 -12 -6 7 12 17 15 30 11 19 9 7 -10 23 -8 26 15 26 19 -18 -9 12 -5 -10 -4 23 29 11 -7 20 -5 -14 -16 -8 -16 10 9 -13 -4 -13 0 -7 1 4 22 24 4 24 9 15 23 24 17 -10 27 14 13 -3 -12 17 13 1 18 -17 -6 1 15 30 -14 13 27 -18 3 5 20 13 17 26 11 -8 8 25 -9 1 17 -18 -15 -12 -11 16 9 20 19 -2 15 17 -14 2 -4 -14 -17 -19 -12 8 -14 22 -13 1 30 -20 5 28 9 -4 -18 -16 -20 8 24 3 -2 21 27 22 -17 -15 22 20 0 0 8 2 9 -5 -2 -9 16 -8 -17 8 23 8 -17 6 -4 27 -9 -9 -5 -16 -6 -3 -4 16 20 14 30 5 -14 3 23 -3 -14 29 -4 -15 20 -10 13 19 -15 3 5 23 10 -10 -19 8 -17 17 1 -18 4 30 20 -4 -7 14 28 6 27 -11 12 16 4 25 -19 7 -1 13 19 -1 18 -9 15 2 -20 0 15 -1 8 2 11 17 7 -3 -2 -12 -17 -2 -15 22 23 17 -13 21 12 30 7 7 -12 -19 25 23 -1 1 24 20 -16 -13 23 19 14 18 7 -9 10 1 23 27 3 19 12 -4 5 -2 -7 -1 23 -5 -2 25 -20 -16 22 4 -17 -1 14 26 -16 29 -15 3 -5 19 11 1 30 13 -19 4 -15 2 -14 19 -11 -11 1 -16 3 -5 -5 0 23 -3 -10 -3 20 11 24 17 26 11 8 14 -10 -4 -13 -16 25 22 5 22 18 -10 -10 16 0 22 -19 12 26 15 -12 2 5 8 8 -5 -16 9 -19 8 10 -16 -9 -16 -10 -3 -3 -15 1 25 19 -10 21 2 13 9 30 9 -10 25 -16 12 19 6 -12 -9 15 12 -12 0 3 2 15 18 -12 2 7 20 -10 19 14 8 16 0 4 18 0 -5 23 14 -17 6 15 -15 -5 25 25 14 -2 16 -19 -3 13 16 -7 24 10 22 -18 25 2 28 -16 -16 21 4 -2 -16 -20 29 -3 8 9 30 11 6 13 19 26 -1 -7 25 -11 -9 7 16 22 -7 -7 21 0 23 24 -14 26 3 -5 -6 -18 5 16 14 13 19 6 23 1 -1 -12 -18 -5 21 19 26 -5 -8 -19 -8 24 15 11 18 -15 -18 -14 -7 22 -5 18 -4 15 19 4 28 2 -19 1 10 27 -10 -19 27 -10 0 -17 -5 -3 22 -5 30 -1 2 26 -13 -7 -12 -4 19 -8 19 25 15 -1 9 2 -2 27 27 -19 19 14 -10 22 -14 -20 22 23 28 11 -6 -12 26 30 1 27 26 -17 26 -2 8 -20 25 27 -13 14 24 0 -7 1 -5 12 -14 12 21 28 -1 12 19 2 27 -1 8 26 -7 10 30 -6 -18 4 -14 8 27 29 10 -3 9 6 -1 -8 -10 -8 -9 -16 5 26 -13 -16 24 19 -20 -11 4 -12 20 25 4 30 -9 25 -13 18 -6 11 -3 18 29 24 -19 28 18 -14 10 27 27 2 26 1 28 -11 28 24 5 24 6 12 -13 21 -14 17 -6 27 -14 22 20 -16 -12 10 24 25 -10 25 3 -1 -6 -8 -5 -10 -6 -2 -9 29 1 23 12 19 26 -5 -8 -12 -3 15 21 30 -14 -18 11 -2 -13 -20 -19 5 28 -17 8 11 26 -12 7 9 -11 25 11 -11 -18 10 1 -18 12 25 12 -19 -8 23 27 7 23 -10 -12 -15 -6 -9 19 15 14 -11 12 17 -20 9 27 24 -9 -6 -10 15 25 -11 16 -8 26 19 12 13 -4 -6 -6 20 -4 8 1 3 15 23 -10 29 13 -12 -16 -9 14 23 25 16 8 28 25 -20 -8 23 25 26 9 -4 -8 25 11 -12 -11 0 11 3 -5 -18 6 19 -18 18 -6 26 -3 15 19 4 2 -6 3 28 8 22 -2 19 -9 4 8 22 -16 4 -20 -14 -4 28 15 4 23 -15 15 18 -10 -7 19 -18 16 -13 24 -11 -19 8 28 24 -14 -15 11 15 -8 4 -13 3 -4 23 -17 6 6 -7 -8 -15 8 18 -17 13 6 14 17 26 -18 -2 -4 -19 19 9 -9 -2 -1 -9 24 30 18 8 6 20 -10 -8 20 -12 -13 -19 2 -20 -15 11 16 -11 18 11 -20 20 19 -5 22 -2 14 18 10 26 5 26 9 18 30 -8 -5 29 -13 29 19 28 -14 -8 -11 3 -19 17 9 25 7 -18 14 29 -13 4 2 5 -15 -19 -6 15 16 18 18 -3 9 26 9 2 4 -13 6 -9 21 12 14 17 11 25 -11 -18 17 -11 3 16 13 -19 0 -7 7 10 -10 -3 -10 -8 3 -11 -16 -1 18 2 -17 26 16 -10 -18 30 9 24 -14 19 6 -16 -17 -6 10 13 -5 8 16 -5 -17 -4 26 14 -12 4 -4 18 14 7 -7 -15 8 -1 -10 -17 17 -11 -9 -15 10 1 29 -3 20 5 -7 -10 1 30 23 23 -13 5 -7 3 7 2 -8 -6 20 -11 21 0 -17 30 28 17 25 30 14 -5 16 -19 23 18 12 24 8 7 5 3 12 1 -18 -4 -16 27 29 14 11 9 -15 4 -18 -10 22 -18 6 7 -19 -17 -18 26 14 9 20 -6 -6 -6 -6 11 29 -5 19 22 -6 -3 29 1 23 7 -9 16 27 -11 17 -12 -2 -11 -14 15 20 -5 -1 17 -3 27 30 25 -11 23 13 -15 -16 24 -15 6 -13 -18 -9 -10 -8 5 -1 -16 19 -17 30 -20 -12 5 27 28 -1 21 -11 1 -18 19 -2 7 -12 26 24 5 20 20 -10 21 -13 24 19 1 3 27 -8 20 10 -3 4 -8 15 2 1 -16 11 29 8 -2 -20 10 -9 23 -9 30 -11 4 26 17 -2 26 28 20 -16 -9 6 28 11 -15 -9 -3 13 25 13 9 18 9 9 -7 -18 3 26 17 -11 -16 18 -7 3 -1 7 -18 4 0 2 1 9 10 21 4 -16 21 27 -20 -12 28 8 22 15 -4 -7 20 23 23 9 -12 -15 -12 -4 26 4 -5 -15 14 30 13 16 30 12 6 -12 -1 5 19 -13 21 -6 21 30 2 2 30 6 19 -8 25 -16 21 11 -12 14 6 23 20 -19 -15 1 15 16 7 -5 9 28 6 -10 -16 28 -13 8 24 -15 -6 8 -7 -5 -16 -10 24 2 -6 2 -17 19 0 10\"\n",
    "#sectralpeptide = \"EIFWAPNSFNRWCRFPRKIEICVYQPAGFYHMEMRNVKTDKMHAVDGVITWENVFKAALLYHAAWGGNSGGDEMMACAMFMRWMQGIEAQLHNYGNDMTWEMMAILMMLDRGQHWAEWTGGAWRTEQCNNQEIAENEITQVNSFGTVPACRRQDRVQDYFCQNGRSQPIKAISDCHKMIIDISEMIGWSNLPQLSCLFYQNTWPCLAQVCAHIAQRAQQYTQVHHWAQPDLDAFEYGISDDRTSWQFCCANLFSWVMFSSQFCVEKYKVRDRRILQGLACCTETVQKYQERSCCMHKDEWEVYNDEYIPCMDMFNNKVTMAACRTIVEASEPVLKPPPNKMIEMMDNEHVYVAIVDGFWKLEAARSCFSTRNEKKVAREQRFQECDEWYKRNTGIQEWYIEDPANYPWMAAQLFEKWHCGTQTDNKAQIHMPPFLKVMNIKEDTKWPIEFCCRIVNYCDRPIELEIKFPGTWMLCQMLYSSGWGGHEFEPYLRFCLFYRYGKAIRMHKGDTPTQSLPAFVCFRNGDDLNEGVRPWQRCANIRNEWWPEKPPQEDPSDWGNDACCVCNWCDGDRKVFSESDCCNNDANPNWSEQKIIILRTMQLCDHIRMVYYKAHAWTGMSGHFIYKLFKPWCFFGTFVFAQDVMAPDYYWYHCLGHATKNVVGFFHMVQQSSEIQNCHACASHKRKFHQVEKMSWMCQCPLRCFSNVMPLNMAYYIKTYNVNGTDFYAGITVRSSAWHEQFTSHCSWVFCLQWCMGDPVLFYPSTIGKYMHVRSWTRYREFVVFTGAEMNRGYNYNWAYIVCIIMKNCQAQMCFMKTLHRQQCVQHMPWVFHEIFIADEVGKWYLTTYAAHWDCTRTEAPKTYIIPQQNPIDSQRKPTNCQIGWEMGIRNPLCWFHTSWPHSPTFSEATMIYEFRYNYGRPIDWDWKSQRNTTKRNQMDNGWPWYVISMCMWFYTGQEAVMCTQCAGFQFDRERMIHAGPMLIPIQCKIFNSVPPYNWETYRPGFNTFWRYMGECRMKIGKQTVSLNRVYHWEWCFFGKQIDFIICTNPFTKRDCRLDHNTHSNKMYRNVSNAHTTCFKYKYFYHKNKMCFWLNVEPAKCVAWAEFICWTIVMCFFRVQKEQFPQECWMMIIVTSNLDAFPDNSRQKRIGETDPQQHMGKWHRHARDKGCMPREQTWQDKFCTYDPSAEDKYQDCYLISAFTWQYWMEQCCYKPRHDPWLNKLQPQFLMSIDSPNPCFSCINHPDECKVGYKHVSRGRPMEQHCKMQPIQNAFLPRFALQHNSQHSWWWIANWQDKMSARWPRLLRTHCVIVNAWQACNYNDRHCYHFLTFVMYSGFDQNCELRACVVIQCNRTGDYHNQKVYLMIMANHIMLVPRARWFTPQRCINMIECKKNSEANDQYQRLIEFTPWGVEGHEIPNERILQTRHLLLYCMVYQQVQYAKGHEAAIWWFWDTGRIAYCLCLVLRCYWEPESQTTLLTLGAGNNDKMIHNMTFVETYAMPSVASILEKVQMNPDMIMVNEWHKAVWVWDISTLACFHEHHIHPMSICKLIWMSENRFKNFHCPTYGYITRCAYMAQRDYENKHAIWVGTTKFFKTFGFLGYHCPQRIVIEHLIYRPCSTLWCPNWDKKRCQRRGRQQPYANQLSCIAGNGESRIFWTWPQRQIYLYGFHDNHNQMIYLPTSILHSKSNGYAPQFRQYRLSMETMMMTGHQTKPHDWHNKHIHCCYEHDIFLKFVKEVEMYCFNGNNARREIDFQIKYYKHSAFLFQVNMHLYWFKQCGNMSAGNSFRSYKHESFLLYNRDYMKLLLCCDQCDVWCPYNCDRIITCKAGIIIQMATEYPDSQFAVFERGVDDYRVLGDFDAYDAYNTNHVVWQDAYNMWFYNLGPYAMGRQACKPCRGFHGYVMWWEWMALAGGGSIHSYRSERGCASFFWQPNTCGFYGLAMENYREFLCQMDMVVRNKVSDYNTYMMYDWCKPFANLSMFNCKQPMQKTYHLTFGKLEVDVANYMVLFKLHFGCISCDDERLWDMMGRRQVDNMCKEPRPFGFIYYQQTEFWEGLADVTAQYKLNIGKFTMHQELPVPKDNLMNWECSRWFEECHFTQNLFKLRVHYGFAGSALTKVDNCHYSEIQPFTFGKCQCWSDVLKTLQTMYGLNHMYEDEWEYHILETTFCYGNQNMNPFMAHAWFPYSSWQPNHYRPKWLRHLTNMRSGQDMVTRVVCNCANVLDGIHSRIPFFIPSMKSRYFVTSTMPECPFPQMNSWAQIASTYQYKTPWSGLVQGFENDPFAHLYVWFARNWDMYRQSGRCAMYFVKSMSHIIIMCAVHGDLHPQCVAYNHYKTPNAEDCNRDNPDSHYFNTANMDEWPTSHTTFNMYHLIDMCSDPVANCHMVCVQSPCLNEDTGLRTKTEYGTMAEHTSDQKTYQCCGMENYSTVRYNSVEHFWMTWNRNHKVWEMCNIFYSHTFWYVPWLIHTQYPGRAGSTVKQKWTNIGLAACIVYESYFVEGKVELIRQRFHNPTIRTKNPAFTPCIGFTLYTYMEEEVKMHLGVRNNYEYNMSEPDCAQKLREFQEVEIHRMAKGLIVTNAHHCFSMAFYQHSYGKIHVSKSKGHQCCQPGYGPSYEGPTVPKSRKLNQKGAYGHPPDQNEYHNRPENGYCECNVCWEQNTVDTPSPTDGLHVHHVCVPGWVNSGGTEDEWHWQTYMVMTDHFKLYQAQEYPSIWQRQSCQWFCECDGHAPEKMADMYAWGPDHNFGSEMIRPRRCLPCRKGNTAQEVVGMMQENESWANWGIWPMQSQYRIINMTSEMIDSTKYQQGFMFKGQHCSFQKWSQTESEFKSIYGHETRLAVGFLWWENWIWLREYIRPAGMAGCEDEYFTVYPWEPVASRYHWDWEPKTMDCQSKYPIRWDKDDQKWMFNYLIWPQVNDGPMAQSQSHRREQYKYHLYDTNGCQWEFQTPHKPHEYSIQQWKDWYFYNRMKGISCNFDNVSTLPFMNHQPVFCEHFEGRQAHWCQCIFNCYELGEFDYMQWVMVKYAKIKHNPTHTQEVNVWNCWCTPQCICQWMDFPCWWRCFMTCWETMYPGRMSHRMPTLQFLYIEDHVVLMNYSEGKDHWGCKVHPGDRPHVIIDDNPHDMWVWVKGDMIAYIKMVQNQRVCMALYQLWALKQWYYMKWMNDETLSFWEWCGAPGWFIGGADRQRKIFWCWVIGDHPNPGFSSGAVCYDLIRLYDMITPFDYTAESRQLNKYNSRIEGITFVGQRIQLQMIKMGVPIQQPGTWPMAFDMFWDPIHMQWSWNQKFGFGEIYICHFVGGFAAYMIQNWQIQYVEVLASPRYHQDGIKVHHFLESDQSCTMNNPKIHLDFALGEHFPWTRIHAPSCHFYRNQCLWLVIQHQISQHCWMKCQWAFCLKQTKNILHKESYSVCSAEIAMWTIRGRYLAVRASELIAIIGHELPIQGTYRITANAKDEQCTLRGLKVYYSKKRGEKDVDNCIYEIANGIWTQLNIFVRADWSPMAEWGSLSFYMFPNVDDLYRCHDYVMSYMYYFPQRIYWATCKDWEAKLPRVAENVCRDHMHMGHKRWFHGTEQRRHVLQDQICQKTDRYERWRNDQDQNQMQSGPCYCSSHYFCNEWGQTERFIKYEPKNQSFPRHNYLKRHMKPEEANARSESRYCEMSGQFLWLGLENSKHLVRSERWSRDKYYQKFIARIAAHDKILMINYWRATKGAMSHKRTGPQDGVCIWVCWNSKVRMQGYDCTNNACCWCPSCAAMIKENILNYTHAVNTRVWQFNYITRDYQDCWKERNIRQQPWHRFHSCLQLCCHDFIIDKTTLVDFGSLVCARLHPQCNVVYYKAQINRRFMTDCIDVTIVVWPKQEKNAFGRHHQALFPRGHYSGADCVIFDHTKILRIDLSKPHESHWWKYHLPKIAFAGHSVDDPIFIIYMCNHRVPSWAMAWWVKHLTSSMGVFRCISWCNQHLTRTIRKLMYSFGGAPSLPFQMFGINSLEVPNCVTPFIDYRSRVMSDNHSPLKVDVNIMKWQTEYFKGLWCEMTHMERIDYKLCRQFETWCCDMQHSKMPGQMPFIFVFDEMLIFQTPRPDTYENYYRIIGEMHRNYACWPIAFPHDDLPHTVVLKFANNCFRWHDQVINYFGLFVKVYACLPLWVLLLHCEWMMHRVSRMNVCGPILPCEKADILQVKSHEMFPGANGECPYWDPGSCHDAVACCFAKGGEHCGSEMMNKPANTKCHPSANSMWQRHASPRQIIAANHCIALGKERGYHPLQKKHAWRGLEPQWHKSTYKQRCCPMICADIMVDMTWDAHQWGSNFRDEPIYCWAINTHGLHHEIFCYAILHDHCGEHTMVHWVMFNIPPMQHWKVRHEHPGCRGVMDEPSLVFFSSDGSNWIKVTSEALFVDIYPQQPKGDAWEVCKQEPPEISELGSEHSANASCNNFIYSGTKTFRMDNQGECSNKAFALCFIMCIWCTYTEKYMAPRNAVLSKADCSPIWMEEILFVFMPAYYPGDIFPWMAEKDCIYAMTDNNHDDPVRCECKSEAQEQIMCMPSHFKCRSYVVKRHMSGAPETIGFAWKPCNNGTLMVLKATLAFGYSCGCYLITRSLAQHYMNIYEYIIAMDWCRGMGNEIHPVIDDSCKTRDVTIHCHKDVMWPGEMEENEGCRWVLCVIKQMQVMIFWDINTYHSVNSARIKWRGKFTCGATGHDGWKCCACDEYRIMEFLDLDWQEGGRQMFACVPANSMPFCIFLVVVGYTICHSIICDTNYGYWECPSSECIRVKKSTLYILASHISYKRTTTDLSHYFMMTYYYEFCEVLTMVQTMNSKVVRDYHAEHVQPRVNAVYGPNSYETIVGHERFLTWTCAKWWSSVWNLEMDRRFMLQLFRCEISMQMLFKVQPYYMARACNYGVGYMWEGTATVACLGKVCNVAVFKFEPFCKMLDRPTIQPDIIYNATIYIDDLDSDKICYMSICVYFYNLVSYYSAHEDFAVCIQHITWELDVFGQNDYMELVIGHI\"\n",
    "\n",
    "tempData = file.read().strip().split()\n",
    "\n",
    "print(tempData)\n",
    "data = tempData[:-1]\n",
    "#data = data.strip().split()\n",
    "spectralVector = list(map(int, data))\n",
    "spectralVector.insert(0, 0)\n",
    "print(spectralVector)\n",
    "sectralpeptide = tempData[-1]\n",
    "\n",
    "pep = pepIdentification(spectralVector,sectralpeptide, weight)\n",
    "print(pep)\n"
   ]
  },
  {
   "cell_type": "markdown",
   "id": "31353a4d",
   "metadata": {},
   "source": [
    "# PSMSearch"
   ]
  },
  {
   "cell_type": "code",
   "execution_count": 320,
   "id": "be01a94c",
   "metadata": {},
   "outputs": [],
   "source": [
    "def pepIdentificationScore(spectralVector, spectralPeptide, weight):\n",
    "        lenSpect = len(spectralVector) - 1\n",
    "        lenPep = len(spectralPeptide)\n",
    "        score = -np.inf\n",
    "        peptide = ''\n",
    "        for i in range(lenPep-1):\n",
    "            for j in range(i, lenPep):\n",
    "                tempWeight = [weight[letter] for letter in spectralPeptide[i:j+1]]\n",
    "                if sum(tempWeight) > lenSpect:\n",
    "                    break\n",
    "                elif sum(tempWeight) == lenSpect:\n",
    "                    prefixMasses = [sum([weight[letter] for letter in spectralPeptide[i:i+k+1]]) for k in range(j-i+1)]\n",
    "                    currScore = sum([spectralVector[m] for m in prefixMasses])\n",
    "                    if currScore > score:\n",
    "                        score = currScore\n",
    "                        peptide = spectralPeptide[i:j+1]\n",
    "        return peptide, score"
   ]
  },
  {
   "cell_type": "code",
   "execution_count": null,
   "id": "c31def6d",
   "metadata": {},
   "outputs": [],
   "source": [
    "PSMSearch(SpectralVectors, Proteome, threshold)\n",
    "    PSMSet ← an empty set\n",
    "    for each vector Spectrum' in SpectralVectors\n",
    "        Peptide ← PeptideIdentification(Spectrum', Proteome)\n",
    "        if Score(Peptide, Spectrum') ≥ threshold\n",
    "            add the PSM (Peptide, Spectrum') to PSMSet \n",
    "    return PSMSet"
   ]
  },
  {
   "cell_type": "code",
   "execution_count": 321,
   "id": "3631d002",
   "metadata": {},
   "outputs": [],
   "source": [
    "def PSMSearch(SpectralVectors, Proteome, threshold, weight):\n",
    "    PSMSet = []\n",
    "    for vec in SpectralVectors:\n",
    "        peptide, score = pepIdentificationScore(vec, Proteome, weight)\n",
    "        if score >= threshold:\n",
    "            PSMSet.append(peptide)\n",
    "    return PSMSet"
   ]
  },
  {
   "cell_type": "code",
   "execution_count": 342,
   "id": "47a90407",
   "metadata": {},
   "outputs": [
    {
     "name": "stdout",
     "output_type": "stream",
     "text": [
      "{'G': 57, 'A': 71, 'S': 87, 'P': 97, 'V': 99, 'T': 101, 'C': 103, 'I': 113, 'L': 113, 'N': 114, 'D': 115, 'K': 128, 'Q': 128, 'E': 129, 'M': 131, 'H': 137, 'F': 147, 'R': 156, 'Y': 163, 'W': 186}\n",
      "22\n",
      "YVMHSDPSHGMPNKKWEEPERCPRDMCCGPYHPFMAQGLADNNTATIKHLFDGTNITRGHANHATISKSPCCYSIITMSMKESEWGYVTYPIPTTDGSDPCNSRHSHSTGTAQVLIQWMWYRHTEYNRSCYPFTREPRNQQSEKFPFEYGGVNAEWAKREENTNPAWCCDVQMVEMDSPSGRLFLTEWSLQVDNAKWLHKGYVNHHVHLYTGHKEMGINYGYSCHVHFVYAFNDRVPHKKIRRRYYPLKDNNSAPYMYVCIKCLTTVLTDMVATDNNVEWTIGHGVWEKTSMQMVKHSLLFGDDDHAPKNGMNQLVTRFWIGRDQECPIFNFDMDYPCHMSCSSAHNLVTAIHQCKTKSTVRAMFADTMKMRCMALDWAWKRFKSMAKTLYMYHEMCGSGWCPIFVDFDPLYAPKSCLIGQSCAERCHFEYYLTYHMDLKWCIHVIMYNKTISFWSNFTVQRGCRIEWGNTPQYGLMNAFWVIPKAKSTGPSSTMPAMIIIVPKEDWNMVQSDCSMEFIKGCDASQGQSKPLRQVRPYHGTGSLNICMDNWHCPHLSAHIAHIVPYIFNMKKFSPGGHGMKEWIGSGFRFYENWQALSWVVIGTPCDEKWYRYDDNRNINIYMIEGAFFDDGHRSSCADGAAGVCYDYGPRSGLCWADRVCKRERGPQWMHGLIEDCHNASWTGNQQWHMVETPICITPASSWMRFSIPFKHTMGLFCTAMCMDYCFIIWQELRNYWVNYENVIDSSCHSLPLICPRCHPQKDRETYAMMEVCDKHLWGDNHKHALNWPERNKYRVFNQDRDSWAECWSICQADVDQTAWISISANKTMSMFMSMRETPHRSYREWWTAKLLLYGCKYSWWGDKWDKTWMNIAYWYFHGDEWEIYNKHQFSQPTCFDMYNWWPTRMNWPRSEHYPDTLQHWEEKCSAYTSATKAALSTWRPIAPITTFNMYRIHWCVPPEGTESTMFYKVQSEWRMDCSAPMHYAMPSVRHTDEFRWLPWINMWIDQRYRWWWRRHYILNGAFDAMNHELAVLMSYANHIWTYIVFFKPKVLMQMKWAEDTDATWNREGLDEVSRNHAEEYPGFLNKIMNHICTCEVVKIPYRAESMRDFDAFGIQWYIIGGICTAQTPGNCRMMTQWYMANKGRNEQDPWPKHAEHTLLARCFTNLVNCHSSMLAWCYLPSMYWEYNWAGENNNNELMRDHFCAWGCFNSTDMDTMKQCSCGRDQVVGQKEMKLHESSILFAFCRPENHQHPQIFCKNWEDCTSIICLNHMTLNFFSVYHLWDHHFATLAEMTLCDLHDVCRWAKRKASYCDQVTQMKLMKDIKRFGYFFFKQYWLQWDQDMAKGAVGLLVIYDQAYKQFQHQAAYVEIQSNTMRYFAADMSESQAFNFEDGRMVQMGTTENRCHKTEDRQFEIFWRGLKECDVMKFTRAMECRDTRNPCHPNAQCVCSCMATACMGAHACCQTPMGGSLESPQGMSLYSTSSWSRYQQHYQSHTWYQEMDSNIHVASHYGRQMMIANQMVYDVAFYNMMVGDLHAEYPHWSRHMCLGIQRHWLAARMQWFWWGLNFLLMGHHAPDYYVHQYGMMKADVPMESGMEQCVCKVYYNKLPHILHEVFFCGMGISGETLIMQDMDPHHRWTWAFIYGCVIPIARVPPCDNQVACWYRLAAWTQMAEMGDKLPPYDLQFLFFWSRWHYCTMFLKKISGNDMSFNIRWECDRVHKYAFQKEDMYWTMVGWAQWAYICPSENYLGYGVGRSPKARPCHWFVYIVIMMLTVPKCTGLYRMFTNTNNETNEKDAVRTVLVLVITIQPHPEVKGWAHAVSYVCPEQSAGEGAWTWGNSANIVFAPTGWGTWSRNFSDFQMPFVKAFCKMRNWFVAMPCLPPFFRFTLPQKQCKNATHTHIETSTDGMWDIGKEKGRPMLGHHRKAEECKVWSIIIIMPTEMVYESTSKGVAKVFNMTIWYHPTPLKPGLVHNIKTTLGVGLTMKADNIQLLKRCEVMNGPSNRLMATKFHCGSCRNCIEWVRCSESDRGPLQPVPNTIMPVNQQHFFMRQHHIPIEVGVEDMDCHEAKTNHPWMTTWFHEMPWMMEKVYYCDLTDKMKEESSTIPGGLMYKYLNCGQWGKFTSFQCALFGKGIYDPTDACRFAEIVNCHFMCWNFNITLRLMWDEYSILSMIVGCLCVDWFTKAMIKRPTNLDYEWIIMYGTCCWLVYYWWTFNCCVARWQMASVEPCFHNMEAFRYDEGSIHLFLEDYFRSTNPAIERIRCINECEEKDNTQPRMFAIQGVWYENGFWDGCMLVNSPATPSLWGNFPIELSTMKDWYTKCQQSCCRCRIFGHNGALSKNVTTENPSPMLRWLLGAKTSANTTRDMWESMWKATEIPLQVTRKGAVPFGAQPWDDHKKVLMWPDEEIFCDWEKSTYFVFWPDHHTYQMSTTDQTFDREKGMLHRGAASDAWYPNFEEGGRAEIGMDCVTGLYDVKRQMSTCRRLVQNWSGHAFAQHGSMPGYRGKSHTAIEKRTCENTQWSVCNCYWFCCMWFCMYSTCHRKFPFDADLFNMPKEKADWLWVQKKQEQFEMPGCTANCEPKCAFHRDIKAGHNGNVFILLCCDCYAEEAHANQCNQLLCHEEVIRFNFHRKPFITKKRKCETEKHEITWHWRRPSFYINLEVRATPLSQTEVFKATRSNIVQRETCYASSVQWMTEMDRQKWTRLVWPNPPWPETLGESSFGKDHATHFKRYVMISTWIITYWVQYECPHWPCSFVERCELLKWHIKVKSHKICWYTWLVYTQYCMVRPGQYDIEPTYSRVFIYTISEVTMPCKIRTNYPAQITFRDRTFLKGHFARYHEHWQIHWRWMTDHKLFINWTTENFLAWCFWAPRAPETDMTYNYTYVSTADCDSMENCIELNATKIKVPWAENQYEDMADCVMHGQSRLPMYTWMVWSMPYGRTKNGEHGMDDWYYVYMINRSLNKGAPESMTSYRAEPIRHTGSCCHKLKCTEDFKRFDITQSNGRWFTRPDLAEPCCGCHDMLKCWDRNSGLKNCLKWLWWQNPHAGCRFCCAIMHWLWQPCVDQCEENEDYDNMCTVLQIHRMNRQPYWPACDCNHVLNDTKCVCGYHQYHVRSEPQFVTYMYIIIFDEGGFVIWYRCISFVVDFKIFKRFKTCECVPFAKHMNYIKGPPPTFFGLLRDFRRDDWLAAYVKILTRSKEISCKMFSQWQEFPLMDMPIQKWVLDSRDAEAVPPLATFNIWSGPGNNWICFHSTRRCPGYHLQATHTWRWMFAWWQQECDNSVNHNEHSRWYCMTVCWDLIIWLDQLEFEIREHDMYYMFEEWKHNNPHFWTNARKVQCDRSDGPSCDWYPEPVSVVNSKNNEHDQVQMVDGYSSRLFCKNCMKENIPCVVVMRLQTKKIEITRKHRIAKLPLLKGQGMCHYSIHDDIEWKYVKTVHCMEFMGYFFMDCDEVDCRNYSMGNFRKYGLSQNHDWCFLENVDYISMNKGYYSRYVPDAFRFFDQCCVYEPPSYGCFYTGMTIIVCFVLYVMCETKMNPLHFSHFWWAYESWSCESQVWCRDKNVMAWQCMKCMETMTMCRVGEKKFTTYFDSKWNVRGYYAPMKKYIDESMEYPHKMKHFWFCARFCDLDTKCMPLSCWPPICHIKRCTCNYRWQYHIDEHAAPVTVDFSNLVYAVRPRIEDWICCQIMVFGIPCGATYHPLEAMYILVRAWNTWPQEVDRTCVIRTAAAVQPEDDPHKFWTIADHFWTSQITRRGHMHFAAQKCERGDSRFGKVTFMDENENAFCVDDASHNAAYPPYCCVIEQLSFALCDKKMQTRLNHIGAFKLATCGGVGMWSKYCLEMGVTWYPTPAWYFVPCHTWHTCKAISTMPAGHSCGSSGPYVFGKYVPTWVMFEYEKHRDKHNIDMEKDAQDMPLISPRDLYCIWDFPTWWMQVLLALQSETVHCSWMLKRTILGEGEDQWDTMSMLAPHCCGGCDVMCGGVMIWPNIMVITCMAWEWGIPTENTALTSALFQDIIPWREAAMYCYHDRSHTVYVQMMGFDPITCARTYTPMKKRYNPDHAIPCIKPARIDSERRGRMFKQPWGICIFHRDMYHEWYIMAIGWHALHNWMPPCVQNCKSLYPGCYKGKPEIMYYMNSCNTHVVGPNCMHNKHYGMRYWCELCVMWGFGEVKRTDWDLPLQAWASHWIRNIGPCPNACRDIECCRYCAQPDHTYKIQTHSLVINNQLKTLDEKRATAPQKSAHPTGEQYDWTHPKMCQVLNFMLQRFGQWMFAVDIKYEQRIKSDCSEDVQIEHTRGPNKTCYKIQMWEQWQRLNVCCHAETELFKRGLGHQCSLFRKQMEGRFTNMCQSTHYDQGDTEIAWNMILFTVWQTRARCMWQGKWHEVLEYEYDVWWPPTSNTDSKASFWYAHCEVHECAHEAPGESTWPSDQRNNWQCLCWFSAKRANVKSKCFTHDKEMGASNWLSIGGRTYIVKSQTHTWPMPCFGIDTFPGHMSFWSWDASSVIQDADKQGNGDESRCARGIPAARGIATHENSWDATCGKGGWYLLPMFRHFKRPTTKFWVPSPGFNDKKPFLLDNSPGIYIIIVCPPEQHHWCLFPNHIAKWIKFFAVMCRWMSPHYLEKQQTSESTWAGCCSCWVGNTRCDETQCMDKHKKRSVIRRNLQGKTEGYFMDMQAVMGFLREFRDHKVFVQCSGWLYQWDAGPMHMFCNEGGYMWRQIELHGAPKFFGFWENVLGLIFMSHAFMATHMRTDDSHWSVRFPGKFNSAQCSAANVNRHHIHPGHDWKIEVFIANHAWTHEEHQEFNVGHGCSQANQHGEKDKCIDNPHRQEHEMSYAFRAHMGPAEPLRVLFRVKGTDHYRLLSPICPRYLTPFQDNRREFQDWISMDQLASTQTSPNQCITLSPSTQVKMVLGNHTHFGCGGSLWDMCGEHTQREMPFEDNMAWEIVGYRQTCNNEMCCYWFTKLKMEVTNNNDSCYQSVYNQTRKNHVMFAYCVEVRADA\n",
      "----------\n",
      "[0, 19, 27, 7, 27, 8, -14, -7, 28, 7, -18, 30, 4, 26, 13, 19, -10, 25, 11, 17, 19, -12, 21, -20, -7, -3, 21, 12, 3, 21, 6, -6, -14, 17, -9, 4, -14, 18, 16, -8, -14, 0, -15, 10, 27, 14, 14, -1, 13, -9, -17, 16, -11, -2, -4, 3, 0, 26, 13, 14, 17, 24, -17, 27, -19, 22, 10, 11, -3, 25, 27, 20, -20, -16, -17, 8, 14, -2, 13, 10, -19, -3, 29, -10, 12, -18, -15, 8, 22, 4, -9, -7, -5, 21, -17, -10, 17, -9, 28, 11, -8, 29, -11, 23, 11, -13, -4, 20, -11, 12, 1, 30, -11, 8, 24, 6, -14, -20, -19, 23, -6, 15, 26, 26, -13, 9, -10, -19, 22, 16, -14, -7, -18, 16, 26, 15, -13, -4, -6, -13, 12, 2, -1, 3, -13, -16, -1, 16, -15, -6, 22, -2, 22, 14, -20, 29, 17, 20, 24, 20, -12, 6, -20, -8, -9, 17, -17, -15, -10, 6, 24, 5, 16, -13, 10, 14, -9, 2, 14, -9, 25, -7, 21, 23, -3, 8, 17, 19, 4, -11, -8, -3, 7, 20, 30, 30, -20, 24, 8, -15, -18, -5, -10, 26, 20, 28, -18, 16, -6, -15, 17, 5, 21, 26, 30, 27, 28, 0, -11, -2, 4, -18, 17, 25, 0, 22, -1, -4, -6, -10, -11, -8, -1, -19, 6, 1, 20, 28, -17, -7, -11, -11, -1, 13, 19, 18, 1, -15, 6, -2, 5, 17, -15, 6, -10, -13, 9, 2, -18, 9, -3, 28, -8, 8, 12, 29, 8, 6, -10, 25, 26, -1, -2, 5, 5, 17, 21, 11, 9, 14, 10, 28, -1, 26, -10, 20, 23, 22, -1, -12, -15, -18, 22, -11, 26, 25, -13, -18, 20, -13, -7, -12, -17, -13, 24, 15, -15, -8, -7, 20, 20, 11, 4, 4, 9, 8, 22, 7, -1, -15, 7, 16, -10, 0, 20, -11, -2, -6, -17, 14, -19, -7, 2, 16, 1, 9, -7, 2, 12, -2, 23, -13, -17, 15, 17, 10, -8, 18, -9, -13, 3, 30, 23, 12, 26, 29, 8, 1, -12, 8, -2, 12, -1, 24, -17, 15, -2, -16, 14, 14, 2, 13, -12, -14, -17, 4, -2, 30, -12, 18, -10, 23, -17, 7, 5, 16, 30, -19, 15, -7, -2, 18, 1, -5, 30, 7, -9, 26, 9, -14, 23, 14, 21, 7, -5, 8, -17, 0, -19, 19, 2, 5, 22, -3, 21, 11, 4, 11, 6, 7, -10, 7, 6, 25, -4, 14, 12, -16, -12, 4, 15, 20, 15, 10, 19, -4, -3, 17, 16, 4, 22, 9, 24, -20, 10, -6, -7, 11, 26, 22, -17, 1, -10, -3, -4, -5, 11, 17, 11, -8, -1, 24, 26, 29, -12, 17, 27, 0, 6, 2, 8, 30, 15, 0, -18, -4, -16, 14, 2, 11, 24, 15, 24, -1, 29, 23, 24, 22, 13, -4, 22, 26, 22, 5, 30, 9, -14, 25, 8, -14, -4, 15, -9, -15, 24, 22, 11, 18, 6, 0, -2, 30, 28, 13, -11, -9, 25, 26, -5, 20, -5, 23, 2, 6, -17, 10, 20, 9, -10, 5, 5, -16, 0, 19, 26, 20, -7, -11, 19, -19, 1, 27, 28, -19, -16, -7, 27, -16, -18, 24, 2, 15, -14, 11, 2, 14, 5, -17, 5, 9, 2, 5, -14, -15, 8, 24, -5, -18, -16, 0, 3, 15, 21, 20, -3, 11, 16, -11, 23, -12, 15, 4, -17, -8, -9, 8, -16, 25, -19, 5, -16, 29, 22, -13, -11, 27, 30, 7, -5, 0, 1, 13, -18, -5, 5, 10, 23, -12, -5, -6, 28, 21, -18, 25, -19, -10, 0, 17, 2, 21, -2, -18, -8, -8, -1, 11, -17, 15, -16, 25, 5, -1, -12, -8, 29, 4, -19, 23, 22, -6, -8, -9, 28, 24, 18, -11, 0, 17, 14, 2, -10, -7, -17, -6, 20, -18, -5, -17, 23, 0, 24, 18, 6, 14, 14, -13, -13, 16, 4, -3, -7, 17, 29, -17, 20, -4, 15, 4, 7, 8, -3, 11, 26, 1, -11, 0, -13, 26, 20, -4, 29, 29, 27, 22, -5, -4, 17, 24, -15, -7, 15, 22, 7, 27, 8, -7, 24, 26, -4, 28, 4, -13, -17, 10, -16, 30, 30, 28, 19, 13, 20, -17, 11, 26, 12, 14, 5, -16, -7, -2, 1, 18, 27, 30, 26, 4, -13, 20, -7, -8, 22, 27, -18, -9, -16, -4, -16, 29, -19, -11, 29, 11, -5, 20, 4, 7, -9, -15, -15, -8, -6, -12, -9, -6, 26, 19, 7, 19, 19, -15, 27, 0, 14, -12, -3, 16, 28, 20, 15, -20, 4, -14, 4, 25, -8, 2, 0, -13, 13, 27, 7, 9, 11, 23, 23, -7, -19, 10, 29, 28, 20, -9, -18, 16, 16, -7, 2, 20, 5, 7, -16, 24, 12, 16, 0, 4, 24, 15, 27, 19, 23, 27, 29, 25, 27, 16, -6, 26, 14, 2, -17, 1, -8, 23, 22, 9, 25, 19, 16, 28, 13, 2, 22, 19, -16, 29, -1, -11, 29, 0, 6, 25, -16, 15, -14, 10, 19, -4, -4, 20, 18, 16, -8, 16, -19, -8, -19, 15, 13, 19, 18, -11, 5, -5, 14, -10, -20, -12, 6, 8, 7, 24, -7, 23, 30, -1, -13, 30, -6, -17, 7, 9, 23, -10, 15, 24, -2, 0, 12, -6, 13, 9, 6, -9, 24, 22, -10, 0, -14, -17, -2, 8, 7, 21, -7, -11, 9, 8, 29, 30, -5, 0, 5, -20, 15, 16, 19, -11, 9, -18, -4, 30, -11, 25, 14, -10, -16, 30, 15, 25, -12, 7, 0, -9, 1, 14, 4, 10, 10, 14, 20, 7, 25, 28, -10, 3, 23, 17, -10, -17, 5, 4, 9, -20, 4, 6, -9, 14, 27, -16, 11, -10, -4, -20, -8, 0, 17, 10, -9, -19, -12, 12, -16, 11, -5, 7, -7, -11, 17, -20, 2, 26, -9, 10, -17, 8, -16, 27, 10, 14, 29, 7, -20, -12, 6, 14, 5, 18, 9, -12, 7, 30, 14, -18, -2, 11, -15, 18, 15, 4, 28, 5, 25, -10, -6, 3, 22, 10, -4, -12, -20, 21, 11, 30, 14, -9, 6, -11, 29, 8, 9, -7, 1, 4, 9, -17, -14, 4, 3, 16, 17, 15, 14, 18, -18, -2, 7, -12, 25, 3, -13, -11, 24, 9, 5, 5, -11, -4, 15, 10, 6, 24, -2, -19, -20, 10, -13, -17, -4, 23, -13, 14, -13, 16, 26, -3, -2, -10, 21, -2, -19, -10, 30, -7, 20, 21, 4, -8, 11, 9, -15, -3, -3, 8, -3, 14, 7, -9, 9, 26, 7, -19, 15, 21, -17, -14, 7, 29, -18, -13, 9, -4, 3, -18, -11, -6, 7, -17, 9, 3, -20, 13, -5, -20, 5, 3, 10, -3, 26, -17, -7, 2, -12, 30, -7, 9, -9, 17, 8, -5, -20, -2, 23, -14, -6, -2, 6, 4, 30, -16, 1, -11, -9, 1, 7, 5, -15, 5, -17, -14, 17, -3, 27, 5, 22, -11, -3, 0, -10, 15, -7, -19, -10, -14, 23, -8, 7, 3, 2, -1, 12, -1, -6, 10, -19, -7, 6, 26, -16, 15, -6, 1, 21, 16, -6, 6, 28, 20, 0, -8, 11, 12, 26, -19, 4, -6, 17, -15, 29, -18, 6, 7, 14, 9, 22, 14, -17, 12, 1, 8, 23, -5, -10, 23, 24, -12, 9, -12, -20, -12, -20, 10, -12, -2, 11, -9, -8, -7, 15, 21, 1, -20, 26, -6, 2, 28, 24, 26, 30, 23, 27, 22, -9, 19, 23, -11, 1, -3, -2, 29, -9, -19, 3, -1, -19, 23, 30, 3, -8, 20, 21, 28, 15, 8, 22, -2, -1, -13, -13, 25, -7, -2, -18, 8, -10, 13, -12, 28, 13, 25, 4, 21, -3, 4, 13, -20, 2, 16, -17, 12, 4, 24, -14, -5, -17, 1, 22, 11, -9, -20, 17, -16, -4, 29, 23, 17, -2, -20, -18, -4, -9, 11, 20, 30, 5, 5, -4, -18, -6, -19, 7, -11, -5, 17, -9, -19, 14, 26, -5, 3, -2, 12, -17, -10, -17, -10, 13, -15, -1, -14, -16, 14, 0, -9, -18, -11, 28, -11, -20, 12, -12, 26, -17, 10, 7, 21, 0, 5, 6, -12, -5, -5, -14, 30, 14, -16, -19, -16, 0, -11, 22, -19, -2, 14, -12, 16, 29, 20, 7, 11, 16, 10, -7, 0, 20, 26, -6, -19, 26, 15, -10, -8, 13, -19, 11, 14, 20, -9, 23, -9, -9, 11, 18, -5, 0, 28, -9, 28, 15, -11, 27, -6, -9, 3, 29, 11, 2, -18, 10, 23, 20, -15, 20, 21, 1, 6, -6, 23, 9, -18, -14, 25, 22, -7, 10, 21, -17, 27, 28, 24, 11, 15, -7, 14, 8, 9, 26, 19, 7, -15, 23, -1, 5, -18, 21, 0, -17, -12, -4, 17, -15, 24, 21, 17, 6, -18, 27, 29, -6, 10, 10, 30, 2, 8, -8, 2, 12, 9, -20, -2, -14, 17, -12, -14, 1, 23, 7, 18, 21, 17, -13, 20, 0, -5, 12, -15, 15, 30, -10, -14, 21, -14, 10, -15, 2, -2, 29, 7, 9, 22, -11, -7, 15, -17, 21, -20, 13, -20, 18, 14, 13, -6, -16, -8, -11, 24, 8, -7, 27, -20, -4, 5, -6, 1, -7, -12, -18, 2, 0, -5, -19, -19, -13, -9, -1, -7, -9, 10, 24, 5, -19, -12, 20, -9, -10, 15, 20, 0, 29, 24, 28, -7, 28, 19, 29, -1, 23, -3, -9, -11, -12, 29, 6, 29, 17, 6, -13, -16, -9, 18, -11, -3, 19, -15, 25, 18, 7, 7, 21, 7, 11, 30, 29, -20, 11, -18, 16, 3, 13, 28, -6, 9, -18, -3, -3, -1, 11, 17, 17, 25, -1, -15, 22, 3, -11, 1, 7, 8, 27, -1, 18, -19, 18, -10, -2, 8, 30, 21, 17, 18, 9, 13, 15, 18, 9, 3]\n",
      "$$$$$\n",
      "YVMHSDPSHGMPNKKWEEPERCPRDMCCGPYHPFMAQGLADNNTATIKHLFDGTNITRGHANHATISKSPCCYSIITMSMKESEWGYVTYPIPTTDGSDPCNSRHSHSTGTAQVLIQWMWYRHTEYNRSCYPFTREPRNQQSEKFPFEYGGVNAEWAKREENTNPAWCCDVQMVEMDSPSGRLFLTEWSLQVDNAKWLHKGYVNHHVHLYTGHKEMGINYGYSCHVHFVYAFNDRVPHKKIRRRYYPLKDNNSAPYMYVCIKCLTTVLTDMVATDNNVEWTIGHGVWEKTSMQMVKHSLLFGDDDHAPKNGMNQLVTRFWIGRDQECPIFNFDMDYPCHMSCSSAHNLVTAIHQCKTKSTVRAMFADTMKMRCMALDWAWKRFKSMAKTLYMYHEMCGSGWCPIFVDFDPLYAPKSCLIGQSCAERCHFEYYLTYHMDLKWCIHVIMYNKTISFWSNFTVQRGCRIEWGNTPQYGLMNAFWVIPKAKSTGPSSTMPAMIIIVPKEDWNMVQSDCSMEFIKGCDASQGQSKPLRQVRPYHGTGSLNICMDNWHCPHLSAHIAHIVPYIFNMKKFSPGGHGMKEWIGSGFRFYENWQALSWVVIGTPCDEKWYRYDDNRNINIYMIEGAFFDDGHRSSCADGAAGVCYDYGPRSGLCWADRVCKRERGPQWMHGLIEDCHNASWTGNQQWHMVETPICITPASSWMRFSIPFKHTMGLFCTAMCMDYCFIIWQELRNYWVNYENVIDSSCHSLPLICPRCHPQKDRETYAMMEVCDKHLWGDNHKHALNWPERNKYRVFNQDRDSWAECWSICQADVDQTAWISISANKTMSMFMSMRETPHRSYREWWTAKLLLYGCKYSWWGDKWDKTWMNIAYWYFHGDEWEIYNKHQFSQPTCFDMYNWWPTRMNWPRSEHYPDTLQHWEEKCSAYTSATKAALSTWRPIAPITTFNMYRIHWCVPPEGTESTMFYKVQSEWRMDCSAPMHYAMPSVRHTDEFRWLPWINMWIDQRYRWWWRRHYILNGAFDAMNHELAVLMSYANHIWTYIVFFKPKVLMQMKWAEDTDATWNREGLDEVSRNHAEEYPGFLNKIMNHICTCEVVKIPYRAESMRDFDAFGIQWYIIGGICTAQTPGNCRMMTQWYMANKGRNEQDPWPKHAEHTLLARCFTNLVNCHSSMLAWCYLPSMYWEYNWAGENNNNELMRDHFCAWGCFNSTDMDTMKQCSCGRDQVVGQKEMKLHESSILFAFCRPENHQHPQIFCKNWEDCTSIICLNHMTLNFFSVYHLWDHHFATLAEMTLCDLHDVCRWAKRKASYCDQVTQMKLMKDIKRFGYFFFKQYWLQWDQDMAKGAVGLLVIYDQAYKQFQHQAAYVEIQSNTMRYFAADMSESQAFNFEDGRMVQMGTTENRCHKTEDRQFEIFWRGLKECDVMKFTRAMECRDTRNPCHPNAQCVCSCMATACMGAHACCQTPMGGSLESPQGMSLYSTSSWSRYQQHYQSHTWYQEMDSNIHVASHYGRQMMIANQMVYDVAFYNMMVGDLHAEYPHWSRHMCLGIQRHWLAARMQWFWWGLNFLLMGHHAPDYYVHQYGMMKADVPMESGMEQCVCKVYYNKLPHILHEVFFCGMGISGETLIMQDMDPHHRWTWAFIYGCVIPIARVPPCDNQVACWYRLAAWTQMAEMGDKLPPYDLQFLFFWSRWHYCTMFLKKISGNDMSFNIRWECDRVHKYAFQKEDMYWTMVGWAQWAYICPSENYLGYGVGRSPKARPCHWFVYIVIMMLTVPKCTGLYRMFTNTNNETNEKDAVRTVLVLVITIQPHPEVKGWAHAVSYVCPEQSAGEGAWTWGNSANIVFAPTGWGTWSRNFSDFQMPFVKAFCKMRNWFVAMPCLPPFFRFTLPQKQCKNATHTHIETSTDGMWDIGKEKGRPMLGHHRKAEECKVWSIIIIMPTEMVYESTSKGVAKVFNMTIWYHPTPLKPGLVHNIKTTLGVGLTMKADNIQLLKRCEVMNGPSNRLMATKFHCGSCRNCIEWVRCSESDRGPLQPVPNTIMPVNQQHFFMRQHHIPIEVGVEDMDCHEAKTNHPWMTTWFHEMPWMMEKVYYCDLTDKMKEESSTIPGGLMYKYLNCGQWGKFTSFQCALFGKGIYDPTDACRFAEIVNCHFMCWNFNITLRLMWDEYSILSMIVGCLCVDWFTKAMIKRPTNLDYEWIIMYGTCCWLVYYWWTFNCCVARWQMASVEPCFHNMEAFRYDEGSIHLFLEDYFRSTNPAIERIRCINECEEKDNTQPRMFAIQGVWYENGFWDGCMLVNSPATPSLWGNFPIELSTMKDWYTKCQQSCCRCRIFGHNGALSKNVTTENPSPMLRWLLGAKTSANTTRDMWESMWKATEIPLQVTRKGAVPFGAQPWDDHKKVLMWPDEEIFCDWEKSTYFVFWPDHHTYQMSTTDQTFDREKGMLHRGAASDAWYPNFEEGGRAEIGMDCVTGLYDVKRQMSTCRRLVQNWSGHAFAQHGSMPGYRGKSHTAIEKRTCENTQWSVCNCYWFCCMWFCMYSTCHRKFPFDADLFNMPKEKADWLWVQKKQEQFEMPGCTANCEPKCAFHRDIKAGHNGNVFILLCCDCYAEEAHANQCNQLLCHEEVIRFNFHRKPFITKKRKCETEKHEITWHWRRPSFYINLEVRATPLSQTEVFKATRSNIVQRETCYASSVQWMTEMDRQKWTRLVWPNPPWPETLGESSFGKDHATHFKRYVMISTWIITYWVQYECPHWPCSFVERCELLKWHIKVKSHKICWYTWLVYTQYCMVRPGQYDIEPTYSRVFIYTISEVTMPCKIRTNYPAQITFRDRTFLKGHFARYHEHWQIHWRWMTDHKLFINWTTENFLAWCFWAPRAPETDMTYNYTYVSTADCDSMENCIELNATKIKVPWAENQYEDMADCVMHGQSRLPMYTWMVWSMPYGRTKNGEHGMDDWYYVYMINRSLNKGAPESMTSYRAEPIRHTGSCCHKLKCTEDFKRFDITQSNGRWFTRPDLAEPCCGCHDMLKCWDRNSGLKNCLKWLWWQNPHAGCRFCCAIMHWLWQPCVDQCEENEDYDNMCTVLQIHRMNRQPYWPACDCNHVLNDTKCVCGYHQYHVRSEPQFVTYMYIIIFDEGGFVIWYRCISFVVDFKIFKRFKTCECVPFAKHMNYIKGPPPTFFGLLRDFRRDDWLAAYVKILTRSKEISCKMFSQWQEFPLMDMPIQKWVLDSRDAEAVPPLATFNIWSGPGNNWICFHSTRRCPGYHLQATHTWRWMFAWWQQECDNSVNHNEHSRWYCMTVCWDLIIWLDQLEFEIREHDMYYMFEEWKHNNPHFWTNARKVQCDRSDGPSCDWYPEPVSVVNSKNNEHDQVQMVDGYSSRLFCKNCMKENIPCVVVMRLQTKKIEITRKHRIAKLPLLKGQGMCHYSIHDDIEWKYVKTVHCMEFMGYFFMDCDEVDCRNYSMGNFRKYGLSQNHDWCFLENVDYISMNKGYYSRYVPDAFRFFDQCCVYEPPSYGCFYTGMTIIVCFVLYVMCETKMNPLHFSHFWWAYESWSCESQVWCRDKNVMAWQCMKCMETMTMCRVGEKKFTTYFDSKWNVRGYYAPMKKYIDESMEYPHKMKHFWFCARFCDLDTKCMPLSCWPPICHIKRCTCNYRWQYHIDEHAAPVTVDFSNLVYAVRPRIEDWICCQIMVFGIPCGATYHPLEAMYILVRAWNTWPQEVDRTCVIRTAAAVQPEDDPHKFWTIADHFWTSQITRRGHMHFAAQKCERGDSRFGKVTFMDENENAFCVDDASHNAAYPPYCCVIEQLSFALCDKKMQTRLNHIGAFKLATCGGVGMWSKYCLEMGVTWYPTPAWYFVPCHTWHTCKAISTMPAGHSCGSSGPYVFGKYVPTWVMFEYEKHRDKHNIDMEKDAQDMPLISPRDLYCIWDFPTWWMQVLLALQSETVHCSWMLKRTILGEGEDQWDTMSMLAPHCCGGCDVMCGGVMIWPNIMVITCMAWEWGIPTENTALTSALFQDIIPWREAAMYCYHDRSHTVYVQMMGFDPITCARTYTPMKKRYNPDHAIPCIKPARIDSERRGRMFKQPWGICIFHRDMYHEWYIMAIGWHALHNWMPPCVQNCKSLYPGCYKGKPEIMYYMNSCNTHVVGPNCMHNKHYGMRYWCELCVMWGFGEVKRTDWDLPLQAWASHWIRNIGPCPNACRDIECCRYCAQPDHTYKIQTHSLVINNQLKTLDEKRATAPQKSAHPTGEQYDWTHPKMCQVLNFMLQRFGQWMFAVDIKYEQRIKSDCSEDVQIEHTRGPNKTCYKIQMWEQWQRLNVCCHAETELFKRGLGHQCSLFRKQMEGRFTNMCQSTHYDQGDTEIAWNMILFTVWQTRARCMWQGKWHEVLEYEYDVWWPPTSNTDSKASFWYAHCEVHECAHEAPGESTWPSDQRNNWQCLCWFSAKRANVKSKCFTHDKEMGASNWLSIGGRTYIVKSQTHTWPMPCFGIDTFPGHMSFWSWDASSVIQDADKQGNGDESRCARGIPAARGIATHENSWDATCGKGGWYLLPMFRHFKRPTTKFWVPSPGFNDKKPFLLDNSPGIYIIIVCPPEQHHWCLFPNHIAKWIKFFAVMCRWMSPHYLEKQQTSESTWAGCCSCWVGNTRCDETQCMDKHKKRSVIRRNLQGKTEGYFMDMQAVMGFLREFRDHKVFVQCSGWLYQWDAGPMHMFCNEGGYMWRQIELHGAPKFFGFWENVLGLIFMSHAFMATHMRTDDSHWSVRFPGKFNSAQCSAANVNRHHIHPGHDWKIEVFIANHAWTHEEHQEFNVGHGCSQANQHGEKDKCIDNPHRQEHEMSYAFRAHMGPAEPLRVLFRVKGTDHYRLLSPICPRYLTPFQDNRREFQDWISMDQLASTQTSPNQCITLSPSTQVKMVLGNHTHFGCGGSLWDMCGEHTQREMPFEDNMAWEIVGYRQTCNNEMCCYWFTKLKMEVTNNNDSCYQSVYNQTRKNHVMFAYCVEVRADA\n",
      "144\n",
      "----------\n"
     ]
    },
    {
     "name": "stdout",
     "output_type": "stream",
     "text": [
      "['PLEAMYILVRAWN', 'WQTRARCMWQGK', 'ATAPQKSAHPTGEQY', 'KTTLGVGLTMKADNIQ', 'PKVLMQMKWAEDT', 'QPYWPACDCNHVLN', 'HDRSHTVYVQMMGF', 'FFKPKVLMQMKWA', 'QGNGDESRCARGIPAAR', 'CMGAHACCQTPMGGSLE', 'GAHACCQTPMGGSLESPQ', 'AHACCQTPMGGSLESPQ', 'NQCNQLLCHEEVI', 'NNETNEKDAVRTVLVL', 'WHWRRPSFYINLE', 'VCIKCLTTVLTDMVAT', 'EWRMDCSAPMHYA']\n",
      "PLEAMYILVRAWN WQTRARCMWQGK ATAPQKSAHPTGEQY KTTLGVGLTMKADNIQ PKVLMQMKWAEDT QPYWPACDCNHVLN HDRSHTVYVQMMGF FFKPKVLMQMKWA QGNGDESRCARGIPAAR CMGAHACCQTPMGGSLE GAHACCQTPMGGSLESPQ AHACCQTPMGGSLESPQ NQCNQLLCHEEVI NNETNEKDAVRTVLVL WHWRRPSFYINLE VCIKCLTTVLTDMVAT EWRMDCSAPMHYA\n"
     ]
    }
   ],
   "source": [
    "txtFile = \"/Users/HussainAlkhayat/Desktop/MS_Fall_2022/CS 249/HW4/integer_mass_table.txt\"\n",
    "\n",
    "file = open(txtFile, 'r')\n",
    "data = list(file.read().strip().split())\n",
    "weight = dict_from_table_weight(data)\n",
    "print(weight)\n",
    "\n",
    "txtFile = \"/Users/HussainAlkhayat/Desktop/MS_Fall_2022/CS 249/HW5/dataset_746428_7.txt\"\n",
    "file = open(txtFile, 'r')\n",
    "Lines = file.readlines()\n",
    "spectralVectors = []\n",
    "count = 0\n",
    "sectralpeptide = \"\"\n",
    "threshold = 0\n",
    "print(len(Lines))\n",
    "for line in Lines[:-3]:\n",
    "\n",
    "    temp = line.strip().split()\n",
    "    #print(temp)\n",
    "    spectralVectors.append(list(map(int, temp)))\n",
    "    spectralVectors[count].insert(0, 0)\n",
    "    count +=1\n",
    "\n",
    "sectralpeptide = Lines[-2].strip()\n",
    "print(sectralpeptide)\n",
    "threshold = int(Lines[-1])   \n",
    "\n",
    "#data = \"-10 8 -15 -8 28 29 8 -17 -8 19 6 -9 7 16 -15 -13 -9 29 21 17 -12 28 22 -7 5 -20 -8 13 15 20 -11 21 -5 8 20 21 16 8 -4 4 -20 25 -18 11 15 20 12 -18 -6 -19 -10 -5 10 7 26 -10 -18 18 -8 8 -7 -4 -13 21 -6 3 23 17 24 -10 -13 7 -8 13 -11 13 -12 5 9 -7 18 3 14 25 -20 8 -19 -15 28 14 -3 26 21 23 -18 2 -15 23 -4 0 8 4 10 15 27 1 1 -8 19 10 15 18 -15 22 -5 3 1 4 6 24 16 19 25 -15 23 10 24 23 13 0 -8 -8 28 23 -20 15 -13 13 25 24 -4 20 30 -6 4 28 26 27 1 -20 5 -19 22 -7 -9 10 3 30 13 9 28 4 -7 -16 18 -15 -5 -9 7 29 24 18 8 27 29 8 11 -18 3 2 18 2 0 16 -4 1 -10 -4 18 27 26 -5 28 1 -17 -6 -2 3 -4 10 13 6 29 8 -20 4 16 18 29 9 -8 -17 21 21 -1 2 27 -7 15 27 20 -19 -13 16 12 -19 -20 -11 18 17 19 30 4 -4 9 -4 -9 -13 -6 6 28 2 -11 -2 30 -3 15 19 3 14 21 -14 -1 -17 9 0 7 -3 2 -10 -20 -3 -17 -10 14 8 1 28 24 -6 -15 6 12 27 13 25 26 11 1 -12 16 -14 11 5 -17 21 28 -4 14 13 -11 2 24 28 -7 1 -2 2 14 1 7 17 7 26 5 -18 20 23 6 22 29 13 1 -18 27 21 -20 -6 -7 -12 -6 7 12 17 15 30 11 19 9 7 -10 23 -8 26 15 26 19 -18 -9 12 -5 -10 -4 23 29 11 -7 20 -5 -14 -16 -8 -16 10 9 -13 -4 -13 0 -7 1 4 22 24 4 24 9 15 23 24 17 -10 27 14 13 -3 -12 17 13 1 18 -17 -6 1 15 30 -14 13 27 -18 3 5 20 13 17 26 11 -8 8 25 -9 1 17 -18 -15 -12 -11 16 9 20 19 -2 15 17 -14 2 -4 -14 -17 -19 -12 8 -14 22 -13 1 30 -20 5 28 9 -4 -18 -16 -20 8 24 3 -2 21 27 22 -17 -15 22 20 0 0 8 2 9 -5 -2 -9 16 -8 -17 8 23 8 -17 6 -4 27 -9 -9 -5 -16 -6 -3 -4 16 20 14 30 5 -14 3 23 -3 -14 29 -4 -15 20 -10 13 19 -15 3 5 23 10 -10 -19 8 -17 17 1 -18 4 30 20 -4 -7 14 28 6 27 -11 12 16 4 25 -19 7 -1 13 19 -1 18 -9 15 2 -20 0 15 -1 8 2 11 17 7 -3 -2 -12 -17 -2 -15 22 23 17 -13 21 12 30 7 7 -12 -19 25 23 -1 1 24 20 -16 -13 23 19 14 18 7 -9 10 1 23 27 3 19 12 -4 5 -2 -7 -1 23 -5 -2 25 -20 -16 22 4 -17 -1 14 26 -16 29 -15 3 -5 19 11 1 30 13 -19 4 -15 2 -14 19 -11 -11 1 -16 3 -5 -5 0 23 -3 -10 -3 20 11 24 17 26 11 8 14 -10 -4 -13 -16 25 22 5 22 18 -10 -10 16 0 22 -19 12 26 15 -12 2 5 8 8 -5 -16 9 -19 8 10 -16 -9 -16 -10 -3 -3 -15 1 25 19 -10 21 2 13 9 30 9 -10 25 -16 12 19 6 -12 -9 15 12 -12 0 3 2 15 18 -12 2 7 20 -10 19 14 8 16 0 4 18 0 -5 23 14 -17 6 15 -15 -5 25 25 14 -2 16 -19 -3 13 16 -7 24 10 22 -18 25 2 28 -16 -16 21 4 -2 -16 -20 29 -3 8 9 30 11 6 13 19 26 -1 -7 25 -11 -9 7 16 22 -7 -7 21 0 23 24 -14 26 3 -5 -6 -18 5 16 14 13 19 6 23 1 -1 -12 -18 -5 21 19 26 -5 -8 -19 -8 24 15 11 18 -15 -18 -14 -7 22 -5 18 -4 15 19 4 28 2 -19 1 10 27 -10 -19 27 -10 0 -17 -5 -3 22 -5 30 -1 2 26 -13 -7 -12 -4 19 -8 19 25 15 -1 9 2 -2 27 27 -19 19 14 -10 22 -14 -20 22 23 28 11 -6 -12 26 30 1 27 26 -17 26 -2 8 -20 25 27 -13 14 24 0 -7 1 -5 12 -14 12 21 28 -1 12 19 2 27 -1 8 26 -7 10 30 -6 -18 4 -14 8 27 29 10 -3 9 6 -1 -8 -10 -8 -9 -16 5 26 -13 -16 24 19 -20 -11 4 -12 20 25 4 30 -9 25 -13 18 -6 11 -3 18 29 24 -19 28 18 -14 10 27 27 2 26 1 28 -11 28 24 5 24 6 12 -13 21 -14 17 -6 27 -14 22 20 -16 -12 10 24 25 -10 25 3 -1 -6 -8 -5 -10 -6 -2 -9 29 1 23 12 19 26 -5 -8 -12 -3 15 21 30 -14 -18 11 -2 -13 -20 -19 5 28 -17 8 11 26 -12 7 9 -11 25 11 -11 -18 10 1 -18 12 25 12 -19 -8 23 27 7 23 -10 -12 -15 -6 -9 19 15 14 -11 12 17 -20 9 27 24 -9 -6 -10 15 25 -11 16 -8 26 19 12 13 -4 -6 -6 20 -4 8 1 3 15 23 -10 29 13 -12 -16 -9 14 23 25 16 8 28 25 -20 -8 23 25 26 9 -4 -8 25 11 -12 -11 0 11 3 -5 -18 6 19 -18 18 -6 26 -3 15 19 4 2 -6 3 28 8 22 -2 19 -9 4 8 22 -16 4 -20 -14 -4 28 15 4 23 -15 15 18 -10 -7 19 -18 16 -13 24 -11 -19 8 28 24 -14 -15 11 15 -8 4 -13 3 -4 23 -17 6 6 -7 -8 -15 8 18 -17 13 6 14 17 26 -18 -2 -4 -19 19 9 -9 -2 -1 -9 24 30 18 8 6 20 -10 -8 20 -12 -13 -19 2 -20 -15 11 16 -11 18 11 -20 20 19 -5 22 -2 14 18 10 26 5 26 9 18 30 -8 -5 29 -13 29 19 28 -14 -8 -11 3 -19 17 9 25 7 -18 14 29 -13 4 2 5 -15 -19 -6 15 16 18 18 -3 9 26 9 2 4 -13 6 -9 21 12 14 17 11 25 -11 -18 17 -11 3 16 13 -19 0 -7 7 10 -10 -3 -10 -8 3 -11 -16 -1 18 2 -17 26 16 -10 -18 30 9 24 -14 19 6 -16 -17 -6 10 13 -5 8 16 -5 -17 -4 26 14 -12 4 -4 18 14 7 -7 -15 8 -1 -10 -17 17 -11 -9 -15 10 1 29 -3 20 5 -7 -10 1 30 23 23 -13 5 -7 3 7 2 -8 -6 20 -11 21 0 -17 30 28 17 25 30 14 -5 16 -19 23 18 12 24 8 7 5 3 12 1 -18 -4 -16 27 29 14 11 9 -15 4 -18 -10 22 -18 6 7 -19 -17 -18 26 14 9 20 -6 -6 -6 -6 11 29 -5 19 22 -6 -3 29 1 23 7 -9 16 27 -11 17 -12 -2 -11 -14 15 20 -5 -1 17 -3 27 30 25 -11 23 13 -15 -16 24 -15 6 -13 -18 -9 -10 -8 5 -1 -16 19 -17 30 -20 -12 5 27 28 -1 21 -11 1 -18 19 -2 7 -12 26 24 5 20 20 -10 21 -13 24 19 1 3 27 -8 20 10 -3 4 -8 15 2 1 -16 11 29 8 -2 -20 10 -9 23 -9 30 -11 4 26 17 -2 26 28 20 -16 -9 6 28 11 -15 -9 -3 13 25 13 9 18 9 9 -7 -18 3 26 17 -11 -16 18 -7 3 -1 7 -18 4 0 2 1 9 10 21 4 -16 21 27 -20 -12 28 8 22 15 -4 -7 20 23 23 9 -12 -15 -12 -4 26 4 -5 -15 14 30 13 16 30 12 6 -12 -1 5 19 -13 21 -6 21 30 2 2 30 6 19 -8 25 -16 21 11 -12 14 6 23 20 -19 -15 1 15 16 7 -5 9 28 6 -10 -16 28 -13 8 24 -15 -6 8 -7 -5 -16 -10 24 2 -6 2 -17 19 0 10\"\n",
    "#sectralpeptide = \"EIFWAPNSFNRWCRFPRKIEICVYQPAGFYHMEMRNVKTDKMHAVDGVITWENVFKAALLYHAAWGGNSGGDEMMACAMFMRWMQGIEAQLHNYGNDMTWEMMAILMMLDRGQHWAEWTGGAWRTEQCNNQEIAENEITQVNSFGTVPACRRQDRVQDYFCQNGRSQPIKAISDCHKMIIDISEMIGWSNLPQLSCLFYQNTWPCLAQVCAHIAQRAQQYTQVHHWAQPDLDAFEYGISDDRTSWQFCCANLFSWVMFSSQFCVEKYKVRDRRILQGLACCTETVQKYQERSCCMHKDEWEVYNDEYIPCMDMFNNKVTMAACRTIVEASEPVLKPPPNKMIEMMDNEHVYVAIVDGFWKLEAARSCFSTRNEKKVAREQRFQECDEWYKRNTGIQEWYIEDPANYPWMAAQLFEKWHCGTQTDNKAQIHMPPFLKVMNIKEDTKWPIEFCCRIVNYCDRPIELEIKFPGTWMLCQMLYSSGWGGHEFEPYLRFCLFYRYGKAIRMHKGDTPTQSLPAFVCFRNGDDLNEGVRPWQRCANIRNEWWPEKPPQEDPSDWGNDACCVCNWCDGDRKVFSESDCCNNDANPNWSEQKIIILRTMQLCDHIRMVYYKAHAWTGMSGHFIYKLFKPWCFFGTFVFAQDVMAPDYYWYHCLGHATKNVVGFFHMVQQSSEIQNCHACASHKRKFHQVEKMSWMCQCPLRCFSNVMPLNMAYYIKTYNVNGTDFYAGITVRSSAWHEQFTSHCSWVFCLQWCMGDPVLFYPSTIGKYMHVRSWTRYREFVVFTGAEMNRGYNYNWAYIVCIIMKNCQAQMCFMKTLHRQQCVQHMPWVFHEIFIADEVGKWYLTTYAAHWDCTRTEAPKTYIIPQQNPIDSQRKPTNCQIGWEMGIRNPLCWFHTSWPHSPTFSEATMIYEFRYNYGRPIDWDWKSQRNTTKRNQMDNGWPWYVISMCMWFYTGQEAVMCTQCAGFQFDRERMIHAGPMLIPIQCKIFNSVPPYNWETYRPGFNTFWRYMGECRMKIGKQTVSLNRVYHWEWCFFGKQIDFIICTNPFTKRDCRLDHNTHSNKMYRNVSNAHTTCFKYKYFYHKNKMCFWLNVEPAKCVAWAEFICWTIVMCFFRVQKEQFPQECWMMIIVTSNLDAFPDNSRQKRIGETDPQQHMGKWHRHARDKGCMPREQTWQDKFCTYDPSAEDKYQDCYLISAFTWQYWMEQCCYKPRHDPWLNKLQPQFLMSIDSPNPCFSCINHPDECKVGYKHVSRGRPMEQHCKMQPIQNAFLPRFALQHNSQHSWWWIANWQDKMSARWPRLLRTHCVIVNAWQACNYNDRHCYHFLTFVMYSGFDQNCELRACVVIQCNRTGDYHNQKVYLMIMANHIMLVPRARWFTPQRCINMIECKKNSEANDQYQRLIEFTPWGVEGHEIPNERILQTRHLLLYCMVYQQVQYAKGHEAAIWWFWDTGRIAYCLCLVLRCYWEPESQTTLLTLGAGNNDKMIHNMTFVETYAMPSVASILEKVQMNPDMIMVNEWHKAVWVWDISTLACFHEHHIHPMSICKLIWMSENRFKNFHCPTYGYITRCAYMAQRDYENKHAIWVGTTKFFKTFGFLGYHCPQRIVIEHLIYRPCSTLWCPNWDKKRCQRRGRQQPYANQLSCIAGNGESRIFWTWPQRQIYLYGFHDNHNQMIYLPTSILHSKSNGYAPQFRQYRLSMETMMMTGHQTKPHDWHNKHIHCCYEHDIFLKFVKEVEMYCFNGNNARREIDFQIKYYKHSAFLFQVNMHLYWFKQCGNMSAGNSFRSYKHESFLLYNRDYMKLLLCCDQCDVWCPYNCDRIITCKAGIIIQMATEYPDSQFAVFERGVDDYRVLGDFDAYDAYNTNHVVWQDAYNMWFYNLGPYAMGRQACKPCRGFHGYVMWWEWMALAGGGSIHSYRSERGCASFFWQPNTCGFYGLAMENYREFLCQMDMVVRNKVSDYNTYMMYDWCKPFANLSMFNCKQPMQKTYHLTFGKLEVDVANYMVLFKLHFGCISCDDERLWDMMGRRQVDNMCKEPRPFGFIYYQQTEFWEGLADVTAQYKLNIGKFTMHQELPVPKDNLMNWECSRWFEECHFTQNLFKLRVHYGFAGSALTKVDNCHYSEIQPFTFGKCQCWSDVLKTLQTMYGLNHMYEDEWEYHILETTFCYGNQNMNPFMAHAWFPYSSWQPNHYRPKWLRHLTNMRSGQDMVTRVVCNCANVLDGIHSRIPFFIPSMKSRYFVTSTMPECPFPQMNSWAQIASTYQYKTPWSGLVQGFENDPFAHLYVWFARNWDMYRQSGRCAMYFVKSMSHIIIMCAVHGDLHPQCVAYNHYKTPNAEDCNRDNPDSHYFNTANMDEWPTSHTTFNMYHLIDMCSDPVANCHMVCVQSPCLNEDTGLRTKTEYGTMAEHTSDQKTYQCCGMENYSTVRYNSVEHFWMTWNRNHKVWEMCNIFYSHTFWYVPWLIHTQYPGRAGSTVKQKWTNIGLAACIVYESYFVEGKVELIRQRFHNPTIRTKNPAFTPCIGFTLYTYMEEEVKMHLGVRNNYEYNMSEPDCAQKLREFQEVEIHRMAKGLIVTNAHHCFSMAFYQHSYGKIHVSKSKGHQCCQPGYGPSYEGPTVPKSRKLNQKGAYGHPPDQNEYHNRPENGYCECNVCWEQNTVDTPSPTDGLHVHHVCVPGWVNSGGTEDEWHWQTYMVMTDHFKLYQAQEYPSIWQRQSCQWFCECDGHAPEKMADMYAWGPDHNFGSEMIRPRRCLPCRKGNTAQEVVGMMQENESWANWGIWPMQSQYRIINMTSEMIDSTKYQQGFMFKGQHCSFQKWSQTESEFKSIYGHETRLAVGFLWWENWIWLREYIRPAGMAGCEDEYFTVYPWEPVASRYHWDWEPKTMDCQSKYPIRWDKDDQKWMFNYLIWPQVNDGPMAQSQSHRREQYKYHLYDTNGCQWEFQTPHKPHEYSIQQWKDWYFYNRMKGISCNFDNVSTLPFMNHQPVFCEHFEGRQAHWCQCIFNCYELGEFDYMQWVMVKYAKIKHNPTHTQEVNVWNCWCTPQCICQWMDFPCWWRCFMTCWETMYPGRMSHRMPTLQFLYIEDHVVLMNYSEGKDHWGCKVHPGDRPHVIIDDNPHDMWVWVKGDMIAYIKMVQNQRVCMALYQLWALKQWYYMKWMNDETLSFWEWCGAPGWFIGGADRQRKIFWCWVIGDHPNPGFSSGAVCYDLIRLYDMITPFDYTAESRQLNKYNSRIEGITFVGQRIQLQMIKMGVPIQQPGTWPMAFDMFWDPIHMQWSWNQKFGFGEIYICHFVGGFAAYMIQNWQIQYVEVLASPRYHQDGIKVHHFLESDQSCTMNNPKIHLDFALGEHFPWTRIHAPSCHFYRNQCLWLVIQHQISQHCWMKCQWAFCLKQTKNILHKESYSVCSAEIAMWTIRGRYLAVRASELIAIIGHELPIQGTYRITANAKDEQCTLRGLKVYYSKKRGEKDVDNCIYEIANGIWTQLNIFVRADWSPMAEWGSLSFYMFPNVDDLYRCHDYVMSYMYYFPQRIYWATCKDWEAKLPRVAENVCRDHMHMGHKRWFHGTEQRRHVLQDQICQKTDRYERWRNDQDQNQMQSGPCYCSSHYFCNEWGQTERFIKYEPKNQSFPRHNYLKRHMKPEEANARSESRYCEMSGQFLWLGLENSKHLVRSERWSRDKYYQKFIARIAAHDKILMINYWRATKGAMSHKRTGPQDGVCIWVCWNSKVRMQGYDCTNNACCWCPSCAAMIKENILNYTHAVNTRVWQFNYITRDYQDCWKERNIRQQPWHRFHSCLQLCCHDFIIDKTTLVDFGSLVCARLHPQCNVVYYKAQINRRFMTDCIDVTIVVWPKQEKNAFGRHHQALFPRGHYSGADCVIFDHTKILRIDLSKPHESHWWKYHLPKIAFAGHSVDDPIFIIYMCNHRVPSWAMAWWVKHLTSSMGVFRCISWCNQHLTRTIRKLMYSFGGAPSLPFQMFGINSLEVPNCVTPFIDYRSRVMSDNHSPLKVDVNIMKWQTEYFKGLWCEMTHMERIDYKLCRQFETWCCDMQHSKMPGQMPFIFVFDEMLIFQTPRPDTYENYYRIIGEMHRNYACWPIAFPHDDLPHTVVLKFANNCFRWHDQVINYFGLFVKVYACLPLWVLLLHCEWMMHRVSRMNVCGPILPCEKADILQVKSHEMFPGANGECPYWDPGSCHDAVACCFAKGGEHCGSEMMNKPANTKCHPSANSMWQRHASPRQIIAANHCIALGKERGYHPLQKKHAWRGLEPQWHKSTYKQRCCPMICADIMVDMTWDAHQWGSNFRDEPIYCWAINTHGLHHEIFCYAILHDHCGEHTMVHWVMFNIPPMQHWKVRHEHPGCRGVMDEPSLVFFSSDGSNWIKVTSEALFVDIYPQQPKGDAWEVCKQEPPEISELGSEHSANASCNNFIYSGTKTFRMDNQGECSNKAFALCFIMCIWCTYTEKYMAPRNAVLSKADCSPIWMEEILFVFMPAYYPGDIFPWMAEKDCIYAMTDNNHDDPVRCECKSEAQEQIMCMPSHFKCRSYVVKRHMSGAPETIGFAWKPCNNGTLMVLKATLAFGYSCGCYLITRSLAQHYMNIYEYIIAMDWCRGMGNEIHPVIDDSCKTRDVTIHCHKDVMWPGEMEENEGCRWVLCVIKQMQVMIFWDINTYHSVNSARIKWRGKFTCGATGHDGWKCCACDEYRIMEFLDLDWQEGGRQMFACVPANSMPFCIFLVVVGYTICHSIICDTNYGYWECPSSECIRVKKSTLYILASHISYKRTTTDLSHYFMMTYYYEFCEVLTMVQTMNSKVVRDYHAEHVQPRVNAVYGPNSYETIVGHERFLTWTCAKWWSSVWNLEMDRRFMLQLFRCEISMQMLFKVQPYYMARACNYGVGYMWEGTATVACLGKVCNVAVFKFEPFCKMLDRPTIQPDIIYNATIYIDDLDSDKICYMSICVYFYNLVSYYSAHEDFAVCIQHITWELDVFGQNDYMELVIGHI\"\n",
    "\n",
    "#tempData = file.read().strip().split()\n",
    "\n",
    "#print(tempData)\n",
    "#data = tempData[:-1]\n",
    "#data = data.strip().split()\n",
    "#spectralVector = list(map(int, data))\n",
    "#spectralVector.insert(0, 0)\n",
    "print(\"----------\")\n",
    "print(spectralVector)\n",
    "print(\"$$$$$\")\n",
    "\n",
    "print(sectralpeptide)\n",
    "print(threshold)\n",
    "print(\"----------\")\n",
    "\n",
    "pep = PSMSearch(spectralVectors,sectralpeptide,threshold, weight)\n",
    "print(pep)\n",
    "print(' '.join(map(str, pep))) "
   ]
  },
  {
   "cell_type": "markdown",
   "id": "776240c6",
   "metadata": {},
   "source": [
    "# Size of Spectral Dictionary "
   ]
  },
  {
   "cell_type": "code",
   "execution_count": 366,
   "id": "6783b7a9",
   "metadata": {},
   "outputs": [],
   "source": [
    "def dictSize(spectralVector, threshold, maxScore, weight):\n",
    "    size = dict()\n",
    "    size[(0, 0)] = 1\n",
    "    tempList = [getSize(len(spectralVector)-1, t, spectralVector, weight, size) for t in range(threshold, maxScore+1)]\n",
    "    correctSum = sum(tempList)\n",
    "    return correctSum\n",
    "    \n",
    "def getSize(i, t, spectralVector, weight, size):\n",
    "    if (i, t) in size:\n",
    "        return size[(i, t)]\n",
    "    if i < 0 or t < 0:\n",
    "        size[(i, t)] = 0\n",
    "        return 0\n",
    "    tempList = []\n",
    "    for letter in weight.keys():\n",
    "        tempList.append(getSize(i-weight[letter], t-spectralVector[i], spectralVector, weight, size))\n",
    "    currSum = sum(tempList)\n",
    "    size[(i, t)] = currSum\n",
    "    return currSum"
   ]
  },
  {
   "cell_type": "code",
   "execution_count": 367,
   "id": "bfc7a4b8",
   "metadata": {},
   "outputs": [
    {
     "name": "stdout",
     "output_type": "stream",
     "text": [
      "{'G': 57, 'A': 71, 'S': 87, 'P': 97, 'V': 99, 'T': 101, 'C': 103, 'I': 113, 'L': 113, 'N': 114, 'D': 115, 'K': 128, 'Q': 128, 'E': 129, 'M': 131, 'H': 137, 'F': 147, 'R': 156, 'Y': 163, 'W': 186}\n",
      "['5 2 2 6 14 -5 15 12 -5 -4 7 9 6 -6 0 -7 -8 -5 -8 9 1 2 13 6 7 -2 -10 1 7 11 4 -3 15 7 14 -9 -10 -10 1 7 1 8 12 -5 -4 13 12 4 7 -3 12 -5 7 12 -3 -2 -5 0 11 5 6 -1 7 2 9 -2 6 0 -1 -4 13 15 -4 9 -5 14 -6 -1 12 12 -10 -8 2 -5 2 -5 -4 0 -5 -5 6 8 -7 -5 6 -2 11 3 -1 4 1 0 -8 -7 2 15 13 -1 6 15 -1 -9 -6 -4 -2 10 -4 -1 5 0 -5 3 -2 -10 10 1 4 -8 -3 7 -9 2 -8 8 7 -5 2 3 11 -2 9 10 -9 -7 15 -6 14 -10 11 0 12 -3 13 -8 0 4 -8 9 3 5 2 -10 6 1 -5 11 15 14 14 5 3 6 7 -6 4 5 3 7 0 -2 13 8 5 -9 11 6 8 4 -8 15 13 -4 9 11 -5 6 -10 -6 15 -10 9 -5 8 2 9 5 -6 7 -9 14 -5 -3 3 14 15 1 -5 8 7 -8 9 8 -1 -1 3 15 5 -3 -9 -1 -2 9 1 -7 2 1 8 6 -7 9 6 7 5 4 3 2 -6 14 -4 14 12 15 6 10 -4 -3 11 4 13 6 0 -8 13 14 3 1 -3 15 -4 -2 0 3 11 -4 2 6 -5 6 10 3 -10 4 7 10 11 11 -10 -2 10 -6 3 -4 12 15 2 7 -5 -4 1 6 3 0 -3 -4 -2 13 -4 12 15 -1 -1 15 -2 10 -7 2 9 3 13 -8 -8 4 -1 -7 4 -3 13 -3 -10 1 14 -1 -8 3 -7 -9 12 -3 0 -2 -8 8 2 11 -7 1 3 -1 -7 0 -10 13 -1 13 5 -10 15 -1 -5 12 1 -4 -1 14 5 -6 2 0 9 9 8 -1 11 -2 12 15 -5 8 10 8 -3 2 -6 -9 13 4 5 -9 -9 6 -2 0 1 -7 15 -8 -7 11 -5 -3 2 10 1 2 14 -2 5 -7 11 10 14 -5 -5 9 4 4 1 -10 7 12 -7 14 13 4 3 15 12 15 12 4 11 -10 1 7 -8 -6 -8 3 -1 -8 -1 2 -4 10 -5 -1 4 2 2 -7 -9 7 -8 8 6 0 10 5 -10 6 -3 9 8 10 -1 15 7 -10 -4 -9 -9 9 0 -4 14 -7 -10 -6 14 4 5\\n', '30\\n', '200\\n']\n",
      "[0, 5, 2, 2, 6, 14, -5, 15, 12, -5, -4, 7, 9, 6, -6, 0, -7, -8, -5, -8, 9, 1, 2, 13, 6, 7, -2, -10, 1, 7, 11, 4, -3, 15, 7, 14, -9, -10, -10, 1, 7, 1, 8, 12, -5, -4, 13, 12, 4, 7, -3, 12, -5, 7, 12, -3, -2, -5, 0, 11, 5, 6, -1, 7, 2, 9, -2, 6, 0, -1, -4, 13, 15, -4, 9, -5, 14, -6, -1, 12, 12, -10, -8, 2, -5, 2, -5, -4, 0, -5, -5, 6, 8, -7, -5, 6, -2, 11, 3, -1, 4, 1, 0, -8, -7, 2, 15, 13, -1, 6, 15, -1, -9, -6, -4, -2, 10, -4, -1, 5, 0, -5, 3, -2, -10, 10, 1, 4, -8, -3, 7, -9, 2, -8, 8, 7, -5, 2, 3, 11, -2, 9, 10, -9, -7, 15, -6, 14, -10, 11, 0, 12, -3, 13, -8, 0, 4, -8, 9, 3, 5, 2, -10, 6, 1, -5, 11, 15, 14, 14, 5, 3, 6, 7, -6, 4, 5, 3, 7, 0, -2, 13, 8, 5, -9, 11, 6, 8, 4, -8, 15, 13, -4, 9, 11, -5, 6, -10, -6, 15, -10, 9, -5, 8, 2, 9, 5, -6, 7, -9, 14, -5, -3, 3, 14, 15, 1, -5, 8, 7, -8, 9, 8, -1, -1, 3, 15, 5, -3, -9, -1, -2, 9, 1, -7, 2, 1, 8, 6, -7, 9, 6, 7, 5, 4, 3, 2, -6, 14, -4, 14, 12, 15, 6, 10, -4, -3, 11, 4, 13, 6, 0, -8, 13, 14, 3, 1, -3, 15, -4, -2, 0, 3, 11, -4, 2, 6, -5, 6, 10, 3, -10, 4, 7, 10, 11, 11, -10, -2, 10, -6, 3, -4, 12, 15, 2, 7, -5, -4, 1, 6, 3, 0, -3, -4, -2, 13, -4, 12, 15, -1, -1, 15, -2, 10, -7, 2, 9, 3, 13, -8, -8, 4, -1, -7, 4, -3, 13, -3, -10, 1, 14, -1, -8, 3, -7, -9, 12, -3, 0, -2, -8, 8, 2, 11, -7, 1, 3, -1, -7, 0, -10, 13, -1, 13, 5, -10, 15, -1, -5, 12, 1, -4, -1, 14, 5, -6, 2, 0, 9, 9, 8, -1, 11, -2, 12, 15, -5, 8, 10, 8, -3, 2, -6, -9, 13, 4, 5, -9, -9, 6, -2, 0, 1, -7, 15, -8, -7, 11, -5, -3, 2, 10, 1, 2, 14, -2, 5, -7, 11, 10, 14, -5, -5, 9, 4, 4, 1, -10, 7, 12, -7, 14, 13, 4, 3, 15, 12, 15, 12, 4, 11, -10, 1, 7, -8, -6, -8, 3, -1, -8, -1, 2, -4, 10, -5, -1, 4, 2, 2, -7, -9, 7, -8, 8, 6, 0, 10, 5, -10, 6, -3, 9, 8, 10, -1, 15, 7, -10, -4, -9, -9, 9, 0, -4, 14, -7, -10, -6, 14, 4, 5]\n",
      "30\n",
      "200\n",
      "678\n"
     ]
    }
   ],
   "source": [
    "txtFile = \"/Users/HussainAlkhayat/Desktop/MS_Fall_2022/CS 249/HW4/integer_mass_table.txt\"\n",
    "\n",
    "file = open(txtFile, 'r')\n",
    "data = list(file.read().strip().split())\n",
    "weight = dict_from_table_weight(data)\n",
    "print(weight)\n",
    "\n",
    "txtFile = \"/Users/HussainAlkhayat/Desktop/MS_Fall_2022/CS 249/HW5/dataset_746430_3.txt\"\n",
    "file = open(txtFile, 'r')\n",
    "Lines = file.readlines()\n",
    "print(Lines)\n",
    "\n",
    "spectralVector= [0] + list(map(int, Lines[0].strip().split()))\n",
    "threshold = int(Lines[1])   \n",
    "maxScore = int(Lines[2])\n",
    "print(spectralVector)\n",
    "print(threshold)\n",
    "\n",
    "print(maxScore)\n",
    "\n",
    "\n",
    "answer = dictSize(spectralVector, threshold, maxScore, weight)\n",
    "print(answer)\n",
    "#print(pep)\n",
    "#print(' '.join(map(str, pep))) "
   ]
  },
  {
   "cell_type": "code",
   "execution_count": null,
   "id": "4ea916e5",
   "metadata": {},
   "outputs": [],
   "source": [
    "# Probability of Spectral Dictionary"
   ]
  },
  {
   "cell_type": "code",
   "execution_count": 373,
   "id": "cf95beec",
   "metadata": {},
   "outputs": [],
   "source": [
    "def dictProb(spectralVector, threshold, maxScore, weight):\n",
    "    sizeProb = dict()\n",
    "    sizeProb[(0, 0)] = 1\n",
    "    tempList = [getProb(len(spectralVector)-1, t, spectralVector, weight, sizeProb) for t in range(threshold, maxScore+1)]\n",
    "    sumProb = sum(tempList)\n",
    "    return sumProb\n",
    "\n",
    "def getProb(i, t, spectralVector, weight, sizeProb):\n",
    "    if (i, t) in sizeProb:\n",
    "        return sizeProb[(i, t)]\n",
    "    if i < 0 or t < 0:\n",
    "        sizeProb[(i, t)] = 0\n",
    "        return 0\n",
    "    tempList = []\n",
    "    for letter in weight.keys():\n",
    "        tempList.append(getProb(i-weight[letter], t-spectralVector[i], spectralVector, weight, sizeProb)/len(weight.keys()))\n",
    "    sumProb = sum(tempList)\n",
    "    sizeProb[(i, t)] = sumProb\n",
    "    return sumProb"
   ]
  },
  {
   "cell_type": "code",
   "execution_count": 374,
   "id": "1a40e77c",
   "metadata": {},
   "outputs": [
    {
     "name": "stdout",
     "output_type": "stream",
     "text": [
      "{'G': 57, 'A': 71, 'S': 87, 'P': 97, 'V': 99, 'T': 101, 'C': 103, 'I': 113, 'L': 113, 'N': 114, 'D': 115, 'K': 128, 'Q': 128, 'E': 129, 'M': 131, 'H': 137, 'F': 147, 'R': 156, 'Y': 163, 'W': 186}\n",
      "['-6 -9 -8 -2 1 -9 -8 2 14 9 11 -3 9 11 -2 14 6 15 5 11 10 8 11 4 -2 0 -2 0 13 -6 -10 8 1 13 4 4 -1 -9 -9 6 -4 11 14 -6 -9 9 5 15 6 11 -8 -7 11 4 -10 13 -10 6 0 -3 0 8 -1 14 13 -9 5 -2 5 -7 -10 -6 -9 3 -10 9 1 15 -2 0 11 9 1 -7 2 9 1 5 10 7 7 -4 -10 -7 14 2 6 -1 -10 15 13 4 4 -10 13 -1 -2 -2 -4 10 -3 -9 6 -6 12 -6 5 11 -3 9 -1 14 8 -9 -5 -3 -7 4 11 2 13 1 7 9 13 6 -3 -8 -4 -8 15 7 -1 13 -7 3 7 1 4 -7 -2 -8 -8 11 14 0 12 6 7 11 -6 -1 -2 -4 4 12 -2 3 -1 4 6 10 10 10 12 4 -3 0 4 -2 -10 -1 13 8 0 4 5 11 12 0 6 -8 13 8 3 8 5 1 6 -5 -1 4 8 5 7 15 10 9 1 10 -6 -5 13 -7 13 -2 2 10 -9 7 8 -9 2 -1 9 11 -9 15 1 -10 7 -6 14 9 15 7 -10 -3 14 -5 1 -10 -7 15 -7 -9 1 11 -5 3 8 -2 3 15 0 -2 15 10 0 8 7 -9 -2 10 1 11 12 -4 -4 -6 10 14 15 7 -1 3 -4 13 5 7 -1 5 10 -6 11 4 5 0 11 -6 10 1 7 2 14 -1 14 1 2 13 13 15 -1 -5 0 -6 -10 14 11 3 -1 -6 2 14 8 9 6 12 2 8 13 1 11 14 -3 -6 -10 -7 9 14 -7 -2 4 -6 -6 5 -7 -3 -6 0 4 -1 -2 -6 -2 6 -1 6 15 6 15 -4 -8 6 -2 14 11 10 13 -3 -9 14 5 10 -8 -5 2 -7 2 11 14 13 1 -6 -1 9 -5 -5 -9 -5 11 3 0 14 -6 6 15 5 7 -3 1 14 -5 -9 6 7 -6 2 -9 4 11 11 -7 11 11 3 10 5 10 12 10 2 -10 -1 -6 -10 0 5 -10 15 11 13 13 -5 3 2 1 -8 1 14 -9 6 -2 -9 8 -4 -2 -9 -2 -4 -6 6 -1 -3 15 8 -7 1 -6 -7 -1 -3 -5 6 -5 -7 -3 3 10 11 -2 -4 12 15 -8 6 11 -10 15 2 -7 11 8 14 15 9 -2 0 11 -7 12 14 4\\n', '34\\n', '200\\n']\n",
      "[0, -6, -9, -8, -2, 1, -9, -8, 2, 14, 9, 11, -3, 9, 11, -2, 14, 6, 15, 5, 11, 10, 8, 11, 4, -2, 0, -2, 0, 13, -6, -10, 8, 1, 13, 4, 4, -1, -9, -9, 6, -4, 11, 14, -6, -9, 9, 5, 15, 6, 11, -8, -7, 11, 4, -10, 13, -10, 6, 0, -3, 0, 8, -1, 14, 13, -9, 5, -2, 5, -7, -10, -6, -9, 3, -10, 9, 1, 15, -2, 0, 11, 9, 1, -7, 2, 9, 1, 5, 10, 7, 7, -4, -10, -7, 14, 2, 6, -1, -10, 15, 13, 4, 4, -10, 13, -1, -2, -2, -4, 10, -3, -9, 6, -6, 12, -6, 5, 11, -3, 9, -1, 14, 8, -9, -5, -3, -7, 4, 11, 2, 13, 1, 7, 9, 13, 6, -3, -8, -4, -8, 15, 7, -1, 13, -7, 3, 7, 1, 4, -7, -2, -8, -8, 11, 14, 0, 12, 6, 7, 11, -6, -1, -2, -4, 4, 12, -2, 3, -1, 4, 6, 10, 10, 10, 12, 4, -3, 0, 4, -2, -10, -1, 13, 8, 0, 4, 5, 11, 12, 0, 6, -8, 13, 8, 3, 8, 5, 1, 6, -5, -1, 4, 8, 5, 7, 15, 10, 9, 1, 10, -6, -5, 13, -7, 13, -2, 2, 10, -9, 7, 8, -9, 2, -1, 9, 11, -9, 15, 1, -10, 7, -6, 14, 9, 15, 7, -10, -3, 14, -5, 1, -10, -7, 15, -7, -9, 1, 11, -5, 3, 8, -2, 3, 15, 0, -2, 15, 10, 0, 8, 7, -9, -2, 10, 1, 11, 12, -4, -4, -6, 10, 14, 15, 7, -1, 3, -4, 13, 5, 7, -1, 5, 10, -6, 11, 4, 5, 0, 11, -6, 10, 1, 7, 2, 14, -1, 14, 1, 2, 13, 13, 15, -1, -5, 0, -6, -10, 14, 11, 3, -1, -6, 2, 14, 8, 9, 6, 12, 2, 8, 13, 1, 11, 14, -3, -6, -10, -7, 9, 14, -7, -2, 4, -6, -6, 5, -7, -3, -6, 0, 4, -1, -2, -6, -2, 6, -1, 6, 15, 6, 15, -4, -8, 6, -2, 14, 11, 10, 13, -3, -9, 14, 5, 10, -8, -5, 2, -7, 2, 11, 14, 13, 1, -6, -1, 9, -5, -5, -9, -5, 11, 3, 0, 14, -6, 6, 15, 5, 7, -3, 1, 14, -5, -9, 6, 7, -6, 2, -9, 4, 11, 11, -7, 11, 11, 3, 10, 5, 10, 12, 10, 2, -10, -1, -6, -10, 0, 5, -10, 15, 11, 13, 13, -5, 3, 2, 1, -8, 1, 14, -9, 6, -2, -9, 8, -4, -2, -9, -2, -4, -6, 6, -1, -3, 15, 8, -7, 1, -6, -7, -1, -3, -5, 6, -5, -7, -3, 3, 10, 11, -2, -4, 12, 15, -8, 6, 11, -10, 15, 2, -7, 11, 8, 14, 15, 9, -2, 0, 11, -7, 12, 14, 4]\n",
      "34\n",
      "200\n",
      "0.0006263898437500002\n"
     ]
    }
   ],
   "source": [
    "txtFile = \"/Users/HussainAlkhayat/Desktop/MS_Fall_2022/CS 249/HW4/integer_mass_table.txt\"\n",
    "\n",
    "file = open(txtFile, 'r')\n",
    "data = list(file.read().strip().split())\n",
    "weight = dict_from_table_weight(data)\n",
    "print(weight)\n",
    "\n",
    "txtFile = \"/Users/HussainAlkhayat/Desktop/MS_Fall_2022/CS 249/HW5/dataset_746430_8.txt\"\n",
    "file = open(txtFile, 'r')\n",
    "Lines = file.readlines()\n",
    "print(Lines)\n",
    "\n",
    "spectralVector= [0] + list(map(int, Lines[0].strip().split()))\n",
    "threshold = int(Lines[1])   \n",
    "maxScore = int(Lines[2])\n",
    "print(spectralVector)\n",
    "print(threshold)\n",
    "\n",
    "print(maxScore)\n",
    "\n",
    "\n",
    "answer = dictProb(spectralVector, threshold, maxScore, weight)\n",
    "print(answer)\n",
    "#print(pep)\n",
    "#print(' '.join(map(str, pep))) "
   ]
  },
  {
   "cell_type": "code",
   "execution_count": null,
   "id": "ecb3e73b",
   "metadata": {},
   "outputs": [],
   "source": []
  }
 ],
 "metadata": {
  "kernelspec": {
   "display_name": "Python 3 (ipykernel)",
   "language": "python",
   "name": "python3"
  },
  "language_info": {
   "codemirror_mode": {
    "name": "ipython",
    "version": 3
   },
   "file_extension": ".py",
   "mimetype": "text/x-python",
   "name": "python",
   "nbconvert_exporter": "python",
   "pygments_lexer": "ipython3",
   "version": "3.9.7"
  }
 },
 "nbformat": 4,
 "nbformat_minor": 5
}
